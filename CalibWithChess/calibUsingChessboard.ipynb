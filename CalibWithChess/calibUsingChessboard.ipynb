{
 "cells": [
  {
   "cell_type": "markdown",
   "id": "85d4c1d0",
   "metadata": {},
   "source": [
    "## Calibração de intrísicos usando chessboard oii\n",
    "\n",
    "- Utiliza a biblioteca OpenCV para obter a matriz de intrísicos da câmera\n",
    "- Para obtê-la, fazemos uma comparação com distâncias entre pontos conhecidas no mundo real e as distâncias entre pontos no plano da imagem\n",
    "- É escolhido um plano de calibração no qual conhecemos as distâncias entre os pontos, como por exemplo entre os cantos dos quadrados de um tabuleiro de xadrez\n",
    "\n",
    "- Para realizar a calibração, é preciso tirar fotos do plano em diferentes poses\n",
    "- Algumas boas práticas são:\n",
    "    - Escolha um ambiente iluminado e, se possível, utilize uma fonte luminosa atrás da câmera\n",
    "    - Prepare um dataset com várias imagens, assim você pode escolher as melhores para realizar a calibração\n",
    "    - O plano de calibração precisa cobrir a maior parte das fotos, por isso se atente no tamanho do plano que você está utilizando"
   ]
  },
  {
   "cell_type": "markdown",
   "id": "262714ba",
   "metadata": {},
   "source": [
    "### Passo a passo da calibração\n",
    "- Antes de tirar as fotos você precisa de um plano de calibração \n",
    "    - Para criar o seu, use o [código](https://docs.opencv.org/4.x/da/d0d/tutorial_camera_calibration_pattern.html) disponibilizado pelo próprio OpenCV\n",
    "- As imagens utilizadas na calibração precisam estar em escala de cinza!\n",
    "    - Antes de analisar as imagens, converta-as para grayscale "
   ]
  },
  {
   "cell_type": "markdown",
   "id": "b953f34d",
   "metadata": {},
   "source": [
    "- Para encontrar os cantos dos quadrados do tabuleiro, são usadas duas abordagens:\n",
    "    - A primeira utiliza um método que determina o canto do quadrado no ponto em que o branco se torna preto na imagem, pela função `findChessboardCorners()`. Os cantos encontrados não são tão exatos, por isso passam por um refinamento pela função `cornerSubPix()`\n",
    "    - A segunda utiliza uma abordagem diferente, na qual usa a função `findChessboardCornersSB()`"
   ]
  },
  {
   "cell_type": "markdown",
   "id": "4e3a300d",
   "metadata": {},
   "source": [
    "### Importação das bibliotecas e informações sobre o padrão de calibração\n",
    "\n",
    "A depender do padrão que escolher, você deverá mudar:\n",
    "- patternSize (colunas X linhas)\n",
    "- squareSize (tamanho do quadrado em mm)\n",
    "- imgSize (tamanho da imagem)"
   ]
  },
  {
   "cell_type": "code",
   "execution_count": null,
   "id": "e1d157f0",
   "metadata": {},
   "outputs": [],
   "source": [
    "import glob\n",
    "import cv2\n",
    "import matplotlib.pyplot as plt\n",
    "import numpy as np\n",
    "\n",
    "\n",
    "patternSize = (10,7) # Count the intern rows and colluns\n",
    "squareSize = 30 # In millimeters \n",
    "imgSize = (2592,1944) # In pixels\n",
    "\n",
    "# USE THE DIRECTORY WHERE YOUR IMAGES ARE! \n",
    "images = glob.glob(\"*jpg\")\n",
    "\n",
    "criteria = (cv2.TERM_CRITERIA_EPS + cv2.TERM_CRITERIA_MAX_ITER, 30, 0.001)"
   ]
  },
  {
   "cell_type": "markdown",
   "id": "50266706",
   "metadata": {},
   "source": [
    "## Definir função para reconstrução dos pontos\n",
    "- Para encontrar os pontos dos cantos do tabuleiro no mundo real, utiliza-se o tamanho dos quadrados e a quantidade de linhas e colunas do tabuleiro"
   ]
  },
  {
   "cell_type": "code",
   "execution_count": null,
   "id": "66b5dd8f",
   "metadata": {},
   "outputs": [],
   "source": [
    "def construct3DPoints(patternSize,squareSize):\n",
    "    X = np.zeros((patternSize[0]*patternSize[1],3), np.float32)\n",
    "    X[:,:2] = np.mgrid[0:patternSize[0],0:patternSize[1]].T.reshape(-1,2)\n",
    "    X = X * squareSize\n",
    "    return X\n",
    "\n",
    "boardPoints = construct3DPoints(patternSize,squareSize)\n",
    "worldPoints = []\n",
    "imagePoints = []\n",
    "worldPointsSB = []\n",
    "imagePointsSB = [] "
   ]
  },
  {
   "cell_type": "markdown",
   "id": "ca8bd588",
   "metadata": {},
   "source": [
    "### Abordagem com `findChessboardCorners()` e `cornerSubPix()`\n",
    "\n",
    "Caso queira ver os cantos dectados pela função, utilize a função `drawChessboardCorners()`"
   ]
  },
  {
   "cell_type": "code",
   "execution_count": null,
   "id": "e547f508",
   "metadata": {},
   "outputs": [],
   "source": [
    "counter = 0\n",
    "for fname in images:\n",
    "    print(\"=> Processing image {0}\".format(fname))\n",
    "    img = cv2.imread(fname)\n",
    "    gray = cv2.cvtColor(img, cv2.COLOR_BGR2GRAY)\n",
    "    ret, corners = cv2.findChessboardCorners(gray, patternSize, None)\n",
    "    if ret == True:\n",
    "        print(\"Corners found!\")\n",
    "        cornersRefined = cv2.cornerSubPix(gray, corners, (7,7), (-1,-1), criteria)\n",
    "        imagePoints.append(cornersRefined)\n",
    "        worldPoints.append(boardPoints)\n",
    "        counter+=1\n",
    "        cv2.drawChessboardCorners(img, patternSize, cornersRefined, ret)\n",
    "        cv2.imshow('img', img)\n",
    "        cv2.waitKey(1000)\n",
    "        cv2.destroyAllWindows()\n"
   ]
  },
  {
   "cell_type": "markdown",
   "id": "d2848a17",
   "metadata": {},
   "source": [
    "### Calibração da câmera"
   ]
  },
  {
   "cell_type": "code",
   "execution_count": null,
   "id": "cd18f7fa",
   "metadata": {
    "scrolled": false
   },
   "outputs": [],
   "source": [
    "flagsCalib = cv2.CALIB_RATIONAL_MODEL \n",
    "\n",
    "initialCameraMatrix = np.array([[ 1000.,    0., imgSize[0]/2.],\n",
    "                                 [    0., 1000., imgSize[1]/2.],\n",
    "                                 [    0.,    0.,           1.]])\n",
    "\n",
    "initialDistCoeffs = np.zeros((5,1))\n",
    "\n",
    "\n",
    "ret, cameraMatrix, distCoeffs, rvecs, tvecs, stdDeviationsIntrinsics, stdDeviationsExtrinsics, perViewError = cv2.calibrateCameraExtended(worldPoints, imagePoints, imgSize, initialCameraMatrix, initialDistCoeffs,flags=flagsCalib)\n",
    "\n",
    "print(\"Using \"+str(counter)+\" of \"+str(len(images))+\" images\")\n",
    "print(\"RMS re-projection error:\", ret)\n",
    "print(\"Camera Matrix:\\n\", cameraMatrix)\n",
    "print(\"Distortion Parameters:\\n\", distCoeffs)"
   ]
  },
  {
   "cell_type": "markdown",
   "id": "c8dea6d5",
   "metadata": {},
   "source": [
    "### Erro de reprojeção para cada imagem"
   ]
  },
  {
   "cell_type": "code",
   "execution_count": null,
   "id": "458c40a7",
   "metadata": {
    "scrolled": true
   },
   "outputs": [],
   "source": [
    "print(\"RE-PROJECTION ERROR OF EACH VIEW - CHESSBOARD\\n\",perViewError)"
   ]
  },
  {
   "cell_type": "markdown",
   "id": "ff805a33",
   "metadata": {},
   "source": [
    "### Abordagem com `findChessboardCornersSB()`\n",
    "\n",
    "Caso queira ver os cantos dectados pela função, utilize a função `drawChessboardCorners()`"
   ]
  },
  {
   "cell_type": "code",
   "execution_count": null,
   "id": "c929844d",
   "metadata": {},
   "outputs": [],
   "source": [
    "counter = 0\n",
    "for fname in images:\n",
    "    print(\"=> Processing image {0}\".format(fname))\n",
    "    img = cv2.imread(fname)\n",
    "    gray = cv2.cvtColor(img, cv2.COLOR_BGR2GRAY)\n",
    "    ret, cornersSB = cv2.findChessboardCornersSB(gray, patternSize, cv2.CALIB_CB_EXHAUSTIVE + cv2.CALIB_CB_ACCURACY + cv2.CALIB_CB_NORMALIZE_IMAGE)\n",
    "    if ret == True:\n",
    "        print(\"Corners found!\")\n",
    "        imagePointsSB.append(cornersSB)\n",
    "        worldPointsSB.append(boardPoints)\n",
    "        counter+=1\n",
    "        #cv2.drawChessboardCorners(img, patternSize, cornersSB, ret)\n",
    "        #cv2.imshow('img', img)\n",
    "        #cv2.waitKey(1000)\n",
    "        #cv2.destroyAllWindows()\n"
   ]
  },
  {
   "cell_type": "markdown",
   "id": "9b7a66a3",
   "metadata": {},
   "source": [
    "### Calibração da câmera"
   ]
  },
  {
   "cell_type": "code",
   "execution_count": null,
   "id": "1743fb37",
   "metadata": {
    "scrolled": false
   },
   "outputs": [],
   "source": [
    "#adicionar novas flags!!!\n",
    "flagsCalib = cv2.CALIB_RATIONAL_MODEL\n",
    "\n",
    "initialCameraMatrix = np.array([[ 1000.,    0., imgSize[0]/2.],\n",
    "                                 [    0., 1000., imgSize[1]/2.],\n",
    "                                 [    0.,    0.,           1.]])\n",
    "\n",
    "initialDistCoeffs = np.zeros((5,1))\n",
    "\n",
    "\n",
    "ret, cameraMatrix, distCoeffs, rvecs, tvecs, stdDeviationsIntrinsics, stdDeviationsExtrinsics, perViewErrorSB = cv2.calibrateCameraExtended(worldPointsSB, imagePointsSB, imgSize, initialCameraMatrix, initialDistCoeffs,flags=flagsCalib)\n",
    "\n",
    "print(\"Using \"+str(counter)+\" of \"+str(len(images))+\" images\")\n",
    "print(\"RMS re-projection error:\", ret)\n",
    "print(\"Camera Matrix:\\n\", cameraMatrix)\n",
    "print(\"Distortion Parameters:\\n\", distCoeffs)"
   ]
  },
  {
   "cell_type": "markdown",
   "id": "48f4f0af",
   "metadata": {},
   "source": [
    "### Erro de reprojeção para cada imagem"
   ]
  },
  {
   "cell_type": "code",
   "execution_count": null,
   "id": "90c225db",
   "metadata": {
    "scrolled": true
   },
   "outputs": [],
   "source": [
    "print(\"RE-PROJECTION ERROR OF EACH VIEW - CHESSBOARD\\n\",perViewErrorSB)"
   ]
  }
 ],
 "metadata": {
  "kernelspec": {
   "display_name": "Python 3 (ipykernel)",
   "language": "python",
   "name": "python3"
  },
  "language_info": {
   "codemirror_mode": {
    "name": "ipython",
    "version": 3
   },
   "file_extension": ".py",
   "mimetype": "text/x-python",
   "name": "python",
   "nbconvert_exporter": "python",
   "pygments_lexer": "ipython3",
   "version": "3.9.7"
  },
  "vscode": {
   "interpreter": {
    "hash": "ce9f15aa959b545b303a3222119ae92672d363f64e30881856680bc69ade5e9f"
   }
  }
 },
 "nbformat": 4,
 "nbformat_minor": 5
}
