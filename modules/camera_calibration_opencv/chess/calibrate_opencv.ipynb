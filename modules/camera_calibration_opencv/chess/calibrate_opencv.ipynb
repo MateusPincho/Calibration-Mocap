{
 "cells": [
  {
   "cell_type": "code",
   "execution_count": 1,
   "metadata": {},
   "outputs": [],
   "source": [
    "#Mocap Arena Camera Calibrate Program\n",
    "#Mateus Pincho - calibrate intrisics using OpenCV\n",
    "from glob import glob\n",
    "import cv2\n",
    "import matplotlib.pyplot as plt\n",
    "import numpy as np"
   ]
  },
  {
   "cell_type": "code",
   "execution_count": 2,
   "metadata": {},
   "outputs": [],
   "source": [
    "# Funções de calibração\n",
    "\n",
    "#Reconstrução do tabuleiro\n",
    "def construct3DPoints(patternSize,squareSize):\n",
    "    X = np.zeros((patternSize[0]*patternSize[1],3), np.float32)\n",
    "    X[:,:2] = np.mgrid[0:patternSize[0],0:patternSize[1]].T.reshape(-1,2)\n",
    "    X = X * squareSize # Square size não interfere na calibração -> somente um fator de escala\n",
    "                       # o square size não é utilizado na calibração dos cara de stanford\n",
    "    return X\n",
    "\n",
    "#Detectando os corners\n",
    "def detectCorners(images, boardPoints, patternSize):\n",
    "    worldPoints = []\n",
    "    imagePoints = [] \n",
    "\n",
    "    img_size = 0\n",
    "    counter = 0\n",
    "    for fname in images:\n",
    "        img = cv2.imread(fname)\n",
    "        gray = cv2.cvtColor(img, cv2.COLOR_BGR2GRAY)\n",
    "        img_size = gray.shape[::-1]\n",
    "        ret, corners = cv2.findChessboardCornersSB(gray, patternSize, None)\n",
    "        if ret == True:\n",
    "            #print(\"Corners found in image \" + str(fname)) #- see if corners are found \n",
    "            #corners2 = cv2.cornerSubPix(gray, corners, (11,11), (-1,-1), criteria=(cv2.TERM_CRITERIA_EPS + cv2.TERM_CRITERIA_MAX_ITER, 30, 0.001))\n",
    "            worldPoints.append(boardPoints)\n",
    "            imagePoints.append(corners)\n",
    "            counter+=1\n",
    "\n",
    "    print(\"Corners found in \" + str(counter) + \" images\")\n",
    "    #print(img_size)\n",
    "    return worldPoints, imagePoints, img_size\n",
    "\n",
    "#Descobrindo os intrisicos, extrinsecos e o erro de reprojeção \n",
    "def calibrate(images, useFisheye, patternSize, squareSize):\n",
    "\n",
    "    boardPoints = construct3DPoints(patternSize, squareSize)\n",
    "\n",
    "    worldPoints, imagePoints, imgSize = detectCorners(images, boardPoints, patternSize)\n",
    "\n",
    "    if useFisheye:\n",
    "        flagsCalib = cv2.fisheye.CALIB_RECOMPUTE_EXTRINSIC+cv2.fisheye.CALIB_FIX_SKEW+cv2.fisheye.CALIB_CHECK_COND\n",
    "        calibrateCriteria = (cv2.TERM_CRITERIA_EPS+cv2.TERM_CRITERIA_MAX_ITER,30, 1e-12)\n",
    "\n",
    "        ret, cameraMatrix, k, R, t = cv2.fisheye.calibrate(np.expand_dims(np.asarray(worldPoints), -2), imagePoints, imgSize, None, None,\n",
    "                                                                    flags=flagsCalib,criteria=calibrateCriteria)\n",
    "    else:\n",
    "        flagsCalib = cv2.CALIB_RATIONAL_MODEL\n",
    "\n",
    "        ret, cameraMatrix, k, rvecs, tvecs, stdIntrinc, stdExtrinsic, perViewError = cv2.calibrateCameraExtended(worldPoints, imagePoints, imgSize, None, None,\n",
    "                                                                flags=flagsCalib)\n",
    "\n",
    "    print(\"RMS re-projection error:\", ret)\n",
    "    print(\"The median re-projection error\", np.median(perViewError))\n",
    "    print(\"Camera Matrix:\\n\", cameraMatrix)\n",
    "    print(\"Distortion Parameters:\\n\", k)\n",
    "\n",
    "    return cameraMatrix, k, rvecs, tvecs, stdIntrinc, stdExtrinsic, perViewError"
   ]
  },
  {
   "cell_type": "code",
   "execution_count": 5,
   "metadata": {},
   "outputs": [],
   "source": [
    "dataset =  ['../../images/virtual/original/set_5/*.jpg',  # dataset[0]\n",
    "              '../../images/virtual/original/set_10/*.jpg',  # dataset[1]\n",
    "              '../../images/virtual/original/set_15/*.jpg',  # dataset[2]\n",
    "              '../../images/virtual/original/set_20/*.jpg',  # dataset[3]\n",
    "              '../../images/virtual/original/set_25/*.jpg',  # dataset[4]\n",
    "              '../../../images/virtual/distorted/set_10/*.jpg',  # dataset[5]\n",
    "              '../../images/chess/opencv/*.jpg']    # dataset[6]"
   ]
  },
  {
   "cell_type": "code",
   "execution_count": 6,
   "metadata": {},
   "outputs": [
    {
     "name": "stdout",
     "output_type": "stream",
     "text": [
      "['../../../images/virtual/7x7/distorted/set_25\\\\image 0.jpg', '../../../images/virtual/7x7/distorted/set_25\\\\image 1.jpg', '../../../images/virtual/7x7/distorted/set_25\\\\image 10.jpg', '../../../images/virtual/7x7/distorted/set_25\\\\image 11.jpg', '../../../images/virtual/7x7/distorted/set_25\\\\image 12.jpg', '../../../images/virtual/7x7/distorted/set_25\\\\image 13.jpg', '../../../images/virtual/7x7/distorted/set_25\\\\image 14.jpg', '../../../images/virtual/7x7/distorted/set_25\\\\image 15.jpg', '../../../images/virtual/7x7/distorted/set_25\\\\image 16.jpg', '../../../images/virtual/7x7/distorted/set_25\\\\image 17.jpg', '../../../images/virtual/7x7/distorted/set_25\\\\image 18.jpg', '../../../images/virtual/7x7/distorted/set_25\\\\image 19.jpg', '../../../images/virtual/7x7/distorted/set_25\\\\image 2.jpg', '../../../images/virtual/7x7/distorted/set_25\\\\image 20.jpg', '../../../images/virtual/7x7/distorted/set_25\\\\image 21.jpg', '../../../images/virtual/7x7/distorted/set_25\\\\image 22.jpg', '../../../images/virtual/7x7/distorted/set_25\\\\image 23.jpg', '../../../images/virtual/7x7/distorted/set_25\\\\image 24.jpg', '../../../images/virtual/7x7/distorted/set_25\\\\image 3.jpg', '../../../images/virtual/7x7/distorted/set_25\\\\image 4.jpg', '../../../images/virtual/7x7/distorted/set_25\\\\image 5.jpg', '../../../images/virtual/7x7/distorted/set_25\\\\image 6.jpg', '../../../images/virtual/7x7/distorted/set_25\\\\image 7.jpg', '../../../images/virtual/7x7/distorted/set_25\\\\image 8.jpg', '../../../images/virtual/7x7/distorted/set_25\\\\image 9.jpg']\n"
     ]
    }
   ],
   "source": [
    "# escolha o conjunto de imagens\n",
    "image_set = glob('../../../images/virtual/7x7/distorted/set_25/*.jpg')\n",
    "\n",
    "print(image_set)\n",
    "\n",
    "# defina os parâmetros da calibração\n",
    "pattern_size = (7,7)\n",
    "square_size = 30\n",
    "useFisheye = False"
   ]
  },
  {
   "cell_type": "code",
   "execution_count": 8,
   "metadata": {},
   "outputs": [
    {
     "name": "stdout",
     "output_type": "stream",
     "text": [
      "Corners found in 25 images\n",
      "RMS re-projection error: 0.4163958724772668\n",
      "The median re-projection error 0.3882963658734905\n",
      "Camera Matrix:\n",
      " [[402.31631666   0.         239.5468603 ]\n",
      " [  0.         402.260159   238.94865854]\n",
      " [  0.           0.           1.        ]]\n",
      "Distortion Parameters:\n",
      " [[ 4.82005659e+01  1.29362298e+02 -3.16916596e-04  8.44455180e-05\n",
      "  -3.25269515e+02  4.58327540e+01  1.38609375e+02 -3.27680911e+02\n",
      "   0.00000000e+00  0.00000000e+00  0.00000000e+00  0.00000000e+00\n",
      "   0.00000000e+00  0.00000000e+00]]\n"
     ]
    }
   ],
   "source": [
    "camera_matrix, distortion, rotation, translation, stdInt, stdExt, _ = calibrate(image_set, useFisheye, pattern_size, square_size)"
   ]
  },
  {
   "cell_type": "code",
   "execution_count": 12,
   "metadata": {},
   "outputs": [
    {
     "data": {
      "text/plain": [
       "array([[1.79647836e+00],\n",
       "       [1.78381942e+00],\n",
       "       [5.94267120e-01],\n",
       "       [6.07506855e-01],\n",
       "       [1.71688329e+01],\n",
       "       [2.70337586e+02],\n",
       "       [4.02313272e-04],\n",
       "       [4.12440439e-04],\n",
       "       [1.22409372e+02],\n",
       "       [1.64264023e+01],\n",
       "       [2.60180052e+02],\n",
       "       [1.03664662e+02],\n",
       "       [0.00000000e+00],\n",
       "       [0.00000000e+00],\n",
       "       [0.00000000e+00],\n",
       "       [0.00000000e+00],\n",
       "       [0.00000000e+00],\n",
       "       [0.00000000e+00]])"
      ]
     },
     "execution_count": 12,
     "metadata": {},
     "output_type": "execute_result"
    }
   ],
   "source": [
    "stdInt"
   ]
  },
  {
   "cell_type": "markdown",
   "metadata": {},
   "source": [
    "## Calculate the reprojection errors \n",
    "\n",
    "---"
   ]
  },
  {
   "cell_type": "code",
   "execution_count": 17,
   "metadata": {},
   "outputs": [],
   "source": [
    "def calculate_mean_error(image_set, pattern_size, square_size):\n",
    "    \n",
    "    # Create empty arrays for rotation and translation vectors\n",
    "    rvecs = []\n",
    "    tvecs = []\n",
    "    errors = []\n",
    "    \n",
    "    # Define the world board points\n",
    "    board_points = construct3DPoints(pattern_size, square_size)\n",
    "    board_points = board_points.astype('float32')\n",
    "    \n",
    "    # Calculate image points in each image\n",
    "    for image in image_set:\n",
    "        img = cv2.imread(image)\n",
    "        gray = cv2.cvtColor(img, cv2.COLOR_BGR2GRAY)\n",
    "        \n",
    "        # Detect chessboard corners in the image\n",
    "        ret, detected_image_points = cv2.findChessboardCornersSB(gray, pattern_size, None)\n",
    "        \n",
    "        # If it was detected\n",
    "        if ret == True: \n",
    "\n",
    "            # Calculate extrinsic parameters \n",
    "            _, rvec, tvec = cv2.solvePnP(board_points, detected_image_points, camera_matrix, distortion)\n",
    "            rvecs.append(rvec)\n",
    "            tvecs.append(tvecs)\n",
    "\n",
    "            # Calculate projected image points\n",
    "            projected_image_points, _ = cv2.projectPoints(board_points, rvec, tvec, camera_matrix, distortion)\n",
    "\n",
    "            # Find the Euclidean Distance between projected and detected image points\n",
    "            error = cv2.norm(detected_image_points, projected_image_points, normType= cv2.NORM_L2) / len(projected_image_points)\n",
    "            \n",
    "            errors.append(error)\n",
    "            \n",
    "            print(f\"Mean Error of Image {image}:\", error, \"px\")\n",
    "    \n",
    "    mean_error = np.median(errors)\n",
    "    \n",
    "    print(\"Median error: \", mean_error)\n",
    "    \n",
    "    return mean_error\n",
    "\n",
    "def calculate_rms_error(image_set, pattern_size, square_size):\n",
    "    \n",
    "    # Create empty arrays for rotation and translation vectors\n",
    "    rvecs = []\n",
    "    tvecs = []\n",
    "    errors = []\n",
    "\n",
    "    # Define the world board points\n",
    "    board_points = construct3DPoints(pattern_size, square_size)\n",
    "\n",
    "    # Calculate the detected image points\n",
    "    for image in image_set:\n",
    "        img = cv2.imread(image)\n",
    "        gray = cv2.cvtColor(img, cv2.COLOR_BGR2GRAY)\n",
    "        \n",
    "        # Detect chessboard corners in the image\n",
    "        ret, corners = cv2.findChessboardCornersSB(gray, pattern_size, None)\n",
    "\n",
    "        # If it was detected\n",
    "        if ret == True:\n",
    "            \n",
    "            # Calculate extrinsic parameters\n",
    "            _, rvec, tvec = cv2.solvePnP(board_points, corners, camera_matrix, distortion)\n",
    "            rvecs.append(rvec)\n",
    "            tvecs.append(tvecs)\n",
    "\n",
    "            # Calculate projected image points\n",
    "            image_points, _ = cv2.projectPoints(board_points, rvec, tvec, camera_matrix, distortion)\n",
    "\n",
    "            # Find the Euclidean Distance between projected and detected image points\n",
    "            error = cv2.norm(corners, image_points, normType= cv2.NORM_L2) / sqrt(len(image_points))\n",
    "            errors.append(error)\n",
    "\n",
    "            print(f\"RMS Error of Image {image}:\", error, \"px\")\n",
    "\n",
    "    rms_error = np.median(errors)\n",
    "\n",
    "    print(\"Median RMS error: \", rms_error)\n",
    "\n",
    "    return rms_error"
   ]
  },
  {
   "cell_type": "code",
   "execution_count": 19,
   "metadata": {},
   "outputs": [
    {
     "name": "stdout",
     "output_type": "stream",
     "text": [
      "Mean Error of Image ../../../images/virtual/7x7/distorted/set_25\\image 0.jpg: 0.052257617474948836 px\n",
      "Mean Error of Image ../../../images/virtual/7x7/distorted/set_25\\image 1.jpg: 0.05463311137446303 px\n",
      "Mean Error of Image ../../../images/virtual/7x7/distorted/set_25\\image 10.jpg: 0.07053668168413049 px\n",
      "Mean Error of Image ../../../images/virtual/7x7/distorted/set_25\\image 11.jpg: 0.05152536773517064 px\n",
      "Mean Error of Image ../../../images/virtual/7x7/distorted/set_25\\image 12.jpg: 0.062305230180814804 px\n",
      "Mean Error of Image ../../../images/virtual/7x7/distorted/set_25\\image 13.jpg: 0.05379455115525598 px\n",
      "Mean Error of Image ../../../images/virtual/7x7/distorted/set_25\\image 14.jpg: 0.05812727284612817 px\n",
      "Mean Error of Image ../../../images/virtual/7x7/distorted/set_25\\image 15.jpg: 0.05923955466111585 px\n",
      "Mean Error of Image ../../../images/virtual/7x7/distorted/set_25\\image 16.jpg: 0.07781321532206982 px\n",
      "Mean Error of Image ../../../images/virtual/7x7/distorted/set_25\\image 17.jpg: 0.07781321532206982 px\n",
      "Mean Error of Image ../../../images/virtual/7x7/distorted/set_25\\image 18.jpg: 0.056570031915525544 px\n",
      "Mean Error of Image ../../../images/virtual/7x7/distorted/set_25\\image 19.jpg: 0.054385572831648694 px\n",
      "Mean Error of Image ../../../images/virtual/7x7/distorted/set_25\\image 2.jpg: 0.05456405300064399 px\n",
      "Mean Error of Image ../../../images/virtual/7x7/distorted/set_25\\image 20.jpg: 0.061026086868246565 px\n",
      "Mean Error of Image ../../../images/virtual/7x7/distorted/set_25\\image 21.jpg: 0.05649570773725676 px\n",
      "Mean Error of Image ../../../images/virtual/7x7/distorted/set_25\\image 22.jpg: 0.05428218027897364 px\n",
      "Mean Error of Image ../../../images/virtual/7x7/distorted/set_25\\image 23.jpg: 0.05234677782690011 px\n",
      "Mean Error of Image ../../../images/virtual/7x7/distorted/set_25\\image 24.jpg: 0.052424402397025845 px\n",
      "Mean Error of Image ../../../images/virtual/7x7/distorted/set_25\\image 3.jpg: 0.05543630839477183 px\n",
      "Mean Error of Image ../../../images/virtual/7x7/distorted/set_25\\image 4.jpg: 0.04955632646301519 px\n",
      "Mean Error of Image ../../../images/virtual/7x7/distorted/set_25\\image 5.jpg: 0.06370889840654322 px\n",
      "Mean Error of Image ../../../images/virtual/7x7/distorted/set_25\\image 6.jpg: 0.048712807680782906 px\n",
      "Mean Error of Image ../../../images/virtual/7x7/distorted/set_25\\image 7.jpg: 0.07042969935164783 px\n",
      "Mean Error of Image ../../../images/virtual/7x7/distorted/set_25\\image 8.jpg: 0.07178562134235181 px\n",
      "Mean Error of Image ../../../images/virtual/7x7/distorted/set_25\\image 9.jpg: 0.053147518846511706 px\n",
      "Median error:  0.05543630839477183\n"
     ]
    }
   ],
   "source": [
    "median_error = calculate_mean_error(image_set, pattern_size, square_size)"
   ]
  },
  {
   "cell_type": "code",
   "execution_count": 20,
   "metadata": {},
   "outputs": [
    {
     "name": "stdout",
     "output_type": "stream",
     "text": [
      "RMS Error of Image ../../../images/virtual/7x7/distorted/set_25\\image 0.jpg: 0.36580332232464186 px\n",
      "RMS Error of Image ../../../images/virtual/7x7/distorted/set_25\\image 1.jpg: 0.3824317796212412 px\n",
      "RMS Error of Image ../../../images/virtual/7x7/distorted/set_25\\image 10.jpg: 0.4937567717889135 px\n",
      "RMS Error of Image ../../../images/virtual/7x7/distorted/set_25\\image 11.jpg: 0.3606775741461945 px\n",
      "RMS Error of Image ../../../images/virtual/7x7/distorted/set_25\\image 12.jpg: 0.43613661126570363 px\n",
      "RMS Error of Image ../../../images/virtual/7x7/distorted/set_25\\image 13.jpg: 0.3765618580867919 px\n",
      "RMS Error of Image ../../../images/virtual/7x7/distorted/set_25\\image 14.jpg: 0.40689090992289717 px\n",
      "RMS Error of Image ../../../images/virtual/7x7/distorted/set_25\\image 15.jpg: 0.41467688262781094 px\n",
      "RMS Error of Image ../../../images/virtual/7x7/distorted/set_25\\image 16.jpg: 0.5446925072544887 px\n",
      "RMS Error of Image ../../../images/virtual/7x7/distorted/set_25\\image 17.jpg: 0.5446925072544887 px\n",
      "RMS Error of Image ../../../images/virtual/7x7/distorted/set_25\\image 18.jpg: 0.39599022340867884 px\n",
      "RMS Error of Image ../../../images/virtual/7x7/distorted/set_25\\image 19.jpg: 0.38069900982154087 px\n",
      "RMS Error of Image ../../../images/virtual/7x7/distorted/set_25\\image 2.jpg: 0.38194837100450796 px\n",
      "RMS Error of Image ../../../images/virtual/7x7/distorted/set_25\\image 20.jpg: 0.42718260807772596 px\n",
      "RMS Error of Image ../../../images/virtual/7x7/distorted/set_25\\image 21.jpg: 0.39546995416079733 px\n",
      "RMS Error of Image ../../../images/virtual/7x7/distorted/set_25\\image 22.jpg: 0.3799752619528155 px\n",
      "RMS Error of Image ../../../images/virtual/7x7/distorted/set_25\\image 23.jpg: 0.36642744478830075 px\n",
      "RMS Error of Image ../../../images/virtual/7x7/distorted/set_25\\image 24.jpg: 0.3669708167791809 px\n",
      "RMS Error of Image ../../../images/virtual/7x7/distorted/set_25\\image 3.jpg: 0.3880541587634028 px\n",
      "RMS Error of Image ../../../images/virtual/7x7/distorted/set_25\\image 4.jpg: 0.3468942852411064 px\n",
      "RMS Error of Image ../../../images/virtual/7x7/distorted/set_25\\image 5.jpg: 0.4459622888458025 px\n",
      "RMS Error of Image ../../../images/virtual/7x7/distorted/set_25\\image 6.jpg: 0.34098965376548035 px\n",
      "RMS Error of Image ../../../images/virtual/7x7/distorted/set_25\\image 7.jpg: 0.4930078954615348 px\n",
      "RMS Error of Image ../../../images/virtual/7x7/distorted/set_25\\image 8.jpg: 0.5024993493964627 px\n",
      "RMS Error of Image ../../../images/virtual/7x7/distorted/set_25\\image 9.jpg: 0.37203263192558195 px\n",
      "Median RMS error:  0.3880541587634028\n"
     ]
    }
   ],
   "source": [
    "rms_error = calculate_rms_error(image_set, pattern_size, square_size)"
   ]
  }
 ],
 "metadata": {
  "kernelspec": {
   "display_name": "Python 3",
   "language": "python",
   "name": "python3"
  },
  "language_info": {
   "codemirror_mode": {
    "name": "ipython",
    "version": 3
   },
   "file_extension": ".py",
   "mimetype": "text/x-python",
   "name": "python",
   "nbconvert_exporter": "python",
   "pygments_lexer": "ipython3",
   "version": "3.11.9"
  }
 },
 "nbformat": 4,
 "nbformat_minor": 2
}
