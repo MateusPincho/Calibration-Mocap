{
 "cells": [
  {
   "cell_type": "code",
   "execution_count": 1,
   "metadata": {},
   "outputs": [
    {
     "name": "stdout",
     "output_type": "stream",
     "text": [
      "PyTorch version :  2.3.1+cpu\n",
      "\n",
      "TorchVisoion Version :  0.18.1+cpu\n"
     ]
    },
    {
     "name": "stderr",
     "output_type": "stream",
     "text": [
      "Using cache found in C:\\Users\\veloc/.cache\\torch\\hub\\AlanSavio25_DeepSingleImageCalibration_master\n"
     ]
    }
   ],
   "source": [
    "#Mocap Arena Camera Calibrate Program\n",
    "#Mateus Pincho - calibrate intrisics\n",
    "# check pytorch and pytorch.vision versions\n",
    "import torch\n",
    "import torchvision\n",
    "from glob import glob\n",
    "import numpy as np\n",
    "import cv2\n",
    "from math import sqrt\n",
    "\n",
    "print(\"PyTorch version : \", torch.__version__)\n",
    "print(\"\\nTorchVisoion Version : \", torchvision.__version__)\n",
    "\n",
    "# Load the model avaliable in hubconf\n",
    "calibrator = torch.hub.load('AlanSavio25/DeepSingleImageCalibration', 'calibrator')"
   ]
  },
  {
   "cell_type": "code",
   "execution_count": 117,
   "metadata": {},
   "outputs": [],
   "source": [
    "# Define the image set for calibration\n",
    "dataset    =  ['../../images/virtual/set_5/*.jpg',  # dataset[0]\n",
    "              '../../images/virtual/set_10/*.jpg',  # dataset[1]\n",
    "              '../../images/virtual/set_15/*.jpg',  # dataset[2]\n",
    "              '../../images/virtual/set_20/*.jpg',  # dataset[3]\n",
    "              '../../images/virtual/set_25/*.jpg',  # dataset[4]\n",
    "              '../../images/chess/opencv/*.jpg']    # dataset[5]\n",
    "\n",
    "image_set = glob(dataset[5])"
   ]
  },
  {
   "cell_type": "code",
   "execution_count": 118,
   "metadata": {},
   "outputs": [
    {
     "name": "stdout",
     "output_type": "stream",
     "text": [
      "[421.33416748046875, 340.64227294921875, 384.0802917480469, 421.33416748046875, 384.0802917480469, 464.32843017578125, 481.3655090332031, 464.32843017578125, 404.74224853515625, 404.74224853515625, 421.33416748046875, 445.1077880859375, 404.74224853515625, 404.74224853515625, 438.9750061035156, 464.32843017578125, 464.32843017578125, 404.74224853515625, 421.33416748046875, 384.0802917480469, 355.81463623046875, 353.591552734375, 421.33416748046875, 421.33416748046875, 404.74224853515625, 438.9750061035156]\n"
     ]
    }
   ],
   "source": [
    "focal_length = []\n",
    "for image in image_set:\n",
    "\n",
    "  results = calibrator.calibrate_from_path(image_path = image)\n",
    "  focal_length.append(results['focal_length_pixels'])\n",
    "\n",
    "print(focal_length)"
   ]
  },
  {
   "cell_type": "code",
   "execution_count": 131,
   "metadata": {},
   "outputs": [
    {
     "name": "stdout",
     "output_type": "stream",
     "text": [
      "[[421.33416748   0.         320.        ]\n",
      " [  0.         421.33416748 240.        ]\n",
      " [  0.           0.           1.        ]]\n"
     ]
    }
   ],
   "source": [
    "f = np.median(focal_length)\n",
    "resolution = (640,480)\n",
    "o_x, o_y = resolution[0]/2, resolution[1]/2\n",
    "\n",
    "camera_matrix = np.array([[  f,   0, o_x],\n",
    "                          [  0,   f, o_y],\n",
    "                          [  0,   0,   1]])\n",
    "patternSize = (9,6)\n",
    "rvecs = []\n",
    "tvecs = []\n",
    "errors = []\n",
    "errors_rms = []\n",
    "\n",
    "def construct3DPoints(patternSize,squareSize):\n",
    "    X = np.zeros((patternSize[0]*patternSize[1],3), np.float32)\n",
    "    X[:,:2] = np.mgrid[0:patternSize[0],0:patternSize[1]].T.reshape(-1,2)\n",
    "    X = X * squareSize\n",
    "    return X\n",
    "\n",
    "boardPoints = construct3DPoints(patternSize=(9,6), squareSize = 30)\n",
    "\n",
    "print(camera_matrix)"
   ]
  },
  {
   "cell_type": "code",
   "execution_count": 132,
   "metadata": {},
   "outputs": [
    {
     "name": "stdout",
     "output_type": "stream",
     "text": [
      "Error of Image ../../images/chess/opencv/right11.jpg: 0.7590780509490123 px\n"
     ]
    },
    {
     "name": "stdout",
     "output_type": "stream",
     "text": [
      "Error of Image ../../images/chess/opencv/right13.jpg: 0.3339468147083239 px\n",
      "Error of Image ../../images/chess/opencv/right03.jpg: 0.29805012365258915 px\n",
      "Error of Image ../../images/chess/opencv/right12.jpg: 0.4410758759750347 px\n",
      "Error of Image ../../images/chess/opencv/right02.jpg: 0.49665529793366153 px\n",
      "Error of Image ../../images/chess/opencv/left11.jpg: 0.24067676983311406 px\n",
      "Error of Image ../../images/chess/opencv/left13.jpg: 0.3067640402420952 px\n",
      "Error of Image ../../images/chess/opencv/left12.jpg: 0.31391288352178653 px\n",
      "Error of Image ../../images/chess/opencv/left09.jpg: 0.23389416514097594 px\n",
      "Error of Image ../../images/chess/opencv/left14.jpg: 0.24535705651003095 px\n",
      "Error of Image ../../images/chess/opencv/left02.jpg: 0.6176696512115813 px\n",
      "Error of Image ../../images/chess/opencv/left06.jpg: 0.46556730885462083 px\n",
      "Error of Image ../../images/chess/opencv/right09.jpg: 0.5462788199976955 px\n",
      "Error of Image ../../images/chess/opencv/right06.jpg: 0.30461479165166616 px\n",
      "Error of Image ../../images/chess/opencv/right08.jpg: 0.402692846647085 px\n",
      "Error of Image ../../images/chess/opencv/right07.jpg: 0.2204474485629864 px\n",
      "Error of Image ../../images/chess/opencv/left08.jpg: 0.3192874690735742 px\n",
      "Error of Image ../../images/chess/opencv/left03.jpg: 0.4214052184822775 px\n",
      "Error of Image ../../images/chess/opencv/right14.jpg: 0.5727595602522301 px\n",
      "Error of Image ../../images/chess/opencv/right05.jpg: 0.4698734101564746 px\n",
      "Error of Image ../../images/chess/opencv/left07.jpg: 0.14397856775824713 px\n",
      "Error of Image ../../images/chess/opencv/left01.jpg: 0.32118579226804206 px\n",
      "Median error:  0.38523508924468647\n"
     ]
    }
   ],
   "source": [
    "for image in image_set:\n",
    "    img = cv2.imread(image)\n",
    "    gray = cv2.cvtColor(img, cv2.COLOR_BGR2GRAY)\n",
    "    ret, corners = cv2.findChessboardCornersSB(gray, patternSize, None)\n",
    "    if ret == True:\n",
    "        _, rvec, tvec = cv2.solvePnP(boardPoints, corners, camera_matrix, 0)\n",
    "        rvecs.append(rvec)\n",
    "        tvecs.append(tvecs)\n",
    "\n",
    "        image_points_deep, _ = cv2.projectPoints(boardPoints, rvec, tvec, camera_matrix, 0)\n",
    "        error = cv2.norm(corners, image_points_deep, normType= cv2.NORM_L2) / len(image_points_deep)\n",
    "        errors.append(error)\n",
    "\n",
    "        print(f\"Error of Image {image}:\", error, \"px\")\n",
    "\n",
    "\n",
    "print(\"Median error: \", np.mean(errors))"
   ]
  },
  {
   "cell_type": "code",
   "execution_count": 134,
   "metadata": {},
   "outputs": [
    {
     "name": "stdout",
     "output_type": "stream",
     "text": [
      " rms Error of Image ../../images/chess/opencv/right11.jpg: 5.578061699314357 px\n",
      " rms Error of Image ../../images/chess/opencv/right13.jpg: 2.4539978917894616 px\n",
      " rms Error of Image ../../images/chess/opencv/right03.jpg: 2.1902121621668247 px\n",
      " rms Error of Image ../../images/chess/opencv/right12.jpg: 3.2412325019698582 px\n",
      " rms Error of Image ../../images/chess/opencv/right02.jpg: 3.6496561739622817 px\n",
      " rms Error of Image ../../images/chess/opencv/left11.jpg: 1.768605837097202 px\n",
      " rms Error of Image ../../images/chess/opencv/left13.jpg: 2.2542461100832147 px\n",
      " rms Error of Image ../../images/chess/opencv/left12.jpg: 2.30677916494232 px\n",
      " rms Error of Image ../../images/chess/opencv/left09.jpg: 1.718764075228966 px\n",
      " rms Error of Image ../../images/chess/opencv/left14.jpg: 1.8029987797223803 px\n",
      " rms Error of Image ../../images/chess/opencv/left02.jpg: 4.538926425213695 px\n",
      " rms Error of Image ../../images/chess/opencv/left06.jpg: 3.4212070428436845 px\n",
      " rms Error of Image ../../images/chess/opencv/right09.jpg: 4.014313098852159 px\n",
      " rms Error of Image ../../images/chess/opencv/right06.jpg: 2.2384524229523732 px\n",
      " rms Error of Image ../../images/chess/opencv/right08.jpg: 2.959175992062582 px\n",
      " rms Error of Image ../../images/chess/opencv/right07.jpg: 1.6199512922332722 px\n",
      " rms Error of Image ../../images/chess/opencv/left08.jpg: 2.3462741414847637 px\n",
      " rms Error of Image ../../images/chess/opencv/left03.jpg: 3.0966832806829285 px\n",
      " rms Error of Image ../../images/chess/opencv/right14.jpg: 4.208906003756523 px\n",
      " rms Error of Image ../../images/chess/opencv/right05.jpg: 3.452850295754513 px\n",
      " rms Error of Image ../../images/chess/opencv/left07.jpg: 1.0580220747133176 px\n",
      " rms Error of Image ../../images/chess/opencv/left01.jpg: 2.360223911064773 px\n",
      "Median error:  2.4539978917894616\n"
     ]
    }
   ],
   "source": [
    "for image in image_set:\n",
    "    img = cv2.imread(image)\n",
    "    gray = cv2.cvtColor(img, cv2.COLOR_BGR2GRAY)\n",
    "    ret, corners = cv2.findChessboardCornersSB(gray, patternSize, None)\n",
    "\n",
    "    if ret == True:\n",
    "        _, rvec, tvec = cv2.solvePnP(boardPoints, corners, camera_matrix, 0)\n",
    "        rvecs.append(rvec)\n",
    "        tvecs.append(tvecs)\n",
    "\n",
    "        image_points_deep, _ = cv2.projectPoints(boardPoints, rvec, tvec, camera_matrix, 0)\n",
    "\n",
    "        error_rms = cv2.norm(corners, image_points_deep, normType= cv2.NORM_L2) / sqrt(len(image_points_deep))\n",
    "        errors_rms.append(error_rms)\n",
    "\n",
    "        print(f\" rms Error of Image {image}:\", error_rms, \"px\")\n",
    "\n",
    "print(\"Median error: \", np.median(errors_rms))"
   ]
  }
 ],
 "metadata": {
  "kernelspec": {
   "display_name": "Python 3",
   "language": "python",
   "name": "python3"
  },
  "language_info": {
   "codemirror_mode": {
    "name": "ipython",
    "version": 3
   },
   "file_extension": ".py",
   "mimetype": "text/x-python",
   "name": "python",
   "nbconvert_exporter": "python",
   "pygments_lexer": "ipython3",
   "version": "3.11.9"
  }
 },
 "nbformat": 4,
 "nbformat_minor": 2
}
