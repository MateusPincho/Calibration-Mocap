{
 "cells": [
  {
   "cell_type": "code",
   "execution_count": 101,
   "metadata": {},
   "outputs": [],
   "source": [
    "# import modules\n",
    "import cv2\n",
    "import numpy as np\n",
    "from glob import glob\n",
    "from sklearn.model_selection import train_test_split\n",
    "import matplotlib.pyplot as plt\n",
    "from math import sqrt"
   ]
  },
  {
   "cell_type": "code",
   "execution_count": 102,
   "metadata": {},
   "outputs": [],
   "source": [
    "class Calibrator:\n",
    "    def __init__(self, images_path, image_size, pattern_size, square_size, flags_calib):\n",
    "        # Calib config\n",
    "        self.pattern_size = pattern_size\n",
    "        self.square_size = square_size\n",
    "        self.images_path = images_path\n",
    "        self.image_size = image_size\n",
    "        self.flags_calib = flags_calib\n",
    "\n",
    "        # Data points\n",
    "        self.world_points = []\n",
    "        self.image_points = []\n",
    "\n",
    "        # Calib results\n",
    "        self.results = {}\n",
    "    \n",
    "    def calibrate(self):\n",
    "        \n",
    "        # Generate board points\n",
    "        board_points = np.zeros((self.pattern_size[0] * self.pattern_size[1], 3), np.float32)\n",
    "        board_points[:,:2] = np.mgrid[ 0:self.pattern_size[0], 0:self.pattern_size[1] ].T.reshape(-1,2)\n",
    "        board_points = board_points * self.square_size\n",
    "        \n",
    "        # Detect corners in chessboard\n",
    "        counter = 0\n",
    "        for fname in self.images_path:\n",
    "            img = cv2.imread(fname)\n",
    "            gray = cv2.cvtColor(img, cv2.COLOR_BGR2GRAY)\n",
    "            self.img_size = gray.shape[::-1]\n",
    "            detected, corners = cv2.findChessboardCornersSB(gray, self.pattern_size, None)\n",
    "            if detected:\n",
    "                self.world_points.append(board_points)\n",
    "                self.image_points.append(corners)\n",
    "                counter+=1\n",
    "\n",
    "        print(\"Corners found in \" + str(counter) + \" images\")\n",
    "\n",
    "        # Calibrate the camera\n",
    "        rms, camera_matrix, distortion_coeffs, rvecs, tvecs, std_intrinsic, std_extrinsic, per_view_error = cv2.calibrateCameraExtended(self.world_points, self.image_points, self.image_size, None, None,\n",
    "                                                                flags=self.flags_calib)\n",
    "\n",
    "        print(\"RMS re-projection error:\", rms)\n",
    "        print(\"The median re-projection error\", np.median(per_view_error))\n",
    "        print(\"Camera Matrix:\\n\", camera_matrix)\n",
    "        print(\"Distortion Parameters:\\n\", distortion_coeffs)\n",
    "        \n",
    "        # Save the calibration results\n",
    "        self.results = {\n",
    "        \"error_rms\": rms,\n",
    "        \"camera_matrix\": camera_matrix,\n",
    "        \"distortion_coeffs\": distortion_coeffs,\n",
    "        \"rvecs\": rvecs,\n",
    "        \"tvecs\": tvecs,\n",
    "        \"std_intrinsic\": std_intrinsic,\n",
    "        \"std_extrinsic\": std_extrinsic,\n",
    "        \"per_view_error\": per_view_error\n",
    "        }\n",
    "\n",
    "        return "
   ]
  },
  {
   "cell_type": "code",
   "execution_count": 109,
   "metadata": {},
   "outputs": [],
   "source": [
    "# Choose the image path\n",
    "path = '../../../images/virtual/'\n",
    "images = glob(path + '7x7/opengl3/*.jpg')\n",
    "\n",
    "counter = 0\n",
    "image_set = []\n",
    "\n",
    "i = np.random.choice(np.arange(0,49),10, replace=False)\n",
    "\n",
    "for idx in i:\n",
    "\n",
    "    image_set.append(images[idx])\n",
    "\n",
    "# Choose the calibration flags\n",
    "flagsCalib = cv2.CALIB_RATIONAL_MODEL"
   ]
  },
  {
   "cell_type": "code",
   "execution_count": 110,
   "metadata": {},
   "outputs": [
    {
     "name": "stdout",
     "output_type": "stream",
     "text": [
      "Corners found in 10 images\n",
      "RMS re-projection error: 0.21789591699177224\n",
      "The median re-projection error 0.22209601480882984\n",
      "Camera Matrix:\n",
      " [[623.39518643   0.         360.05035132]\n",
      " [  0.         623.40300492 360.14082681]\n",
      " [  0.           0.           1.        ]]\n",
      "Distortion Parameters:\n",
      " [[ 1.18321049e+00  2.03836462e+01 -9.00301121e-05  6.63275030e-04\n",
      "  -1.08706670e+02  1.18235808e+00  2.03345460e+01 -1.08544316e+02\n",
      "   0.00000000e+00  0.00000000e+00  0.00000000e+00  0.00000000e+00\n",
      "   0.00000000e+00  0.00000000e+00]]\n"
     ]
    }
   ],
   "source": [
    "myCameraCalbrator = Calibrator(images_path = image_set, image_size = (720,720), pattern_size = (7,7), square_size = 30, flags_calib = flagsCalib)\n",
    "\n",
    "myCameraCalbrator.calibrate()"
   ]
  }
 ],
 "metadata": {
  "kernelspec": {
   "display_name": "Python 3",
   "language": "python",
   "name": "python3"
  },
  "language_info": {
   "codemirror_mode": {
    "name": "ipython",
    "version": 3
   },
   "file_extension": ".py",
   "mimetype": "text/x-python",
   "name": "python",
   "nbconvert_exporter": "python",
   "pygments_lexer": "ipython3",
   "version": "3.11.9"
  }
 },
 "nbformat": 4,
 "nbformat_minor": 2
}
