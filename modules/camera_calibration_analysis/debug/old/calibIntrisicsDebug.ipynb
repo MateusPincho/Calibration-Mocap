{
 "cells": [
  {
   "attachments": {},
   "cell_type": "markdown",
   "metadata": {},
   "source": [
    "## Configurações de calibração para cada câmera\n",
    "\n",
    "Para a câmera V1:\n",
    "patternSize = (10,7)\n",
    "squareSize = 30\n",
    "imgSize = (2592,1944)\n",
    "\n",
    "Para a câmera V2:\n",
    "patternSize = (10,7)\n",
    "squareSize = 30\n",
    "imgSize = (3280,2464)\n",
    "\n",
    "Para Webcam:\n",
    "patternSize = (10,7)\n",
    "squareSize = 30\n",
    "imgSize = (1280,960)\n",
    "\n",
    "Para as imagens antigas:\n",
    "patternSize = (11,12)\n",
    "squareSize = 30\n",
    "imgSize = (960,720)\n",
    "\n"
   ]
  },
  {
   "attachments": {},
   "cell_type": "markdown",
   "metadata": {},
   "source": [
    "### Calibração de câmeras - paramêtros intrísicos"
   ]
  },
  {
   "cell_type": "code",
   "execution_count": 1,
   "metadata": {},
   "outputs": [],
   "source": [
    "import glob\n",
    "import cv2\n",
    "import matplotlib.pyplot as plt\n",
    "import numpy as np\n",
    "\n",
    "useDeng = False\n",
    "cameraNumber = 4\n",
    "useFisheye = True\n",
    "\n",
    "criteria = (cv2.TERM_CRITERIA_EPS + cv2.TERM_CRITERIA_MAX_ITER, 30, 0.001)\n"
   ]
  },
  {
   "attachments": {},
   "cell_type": "markdown",
   "metadata": {},
   "source": [
    "Importe as imagens do dataset e configure a escolha da câmera"
   ]
  },
  {
   "cell_type": "code",
   "execution_count": 7,
   "metadata": {},
   "outputs": [
    {
     "name": "stdout",
     "output_type": "stream",
     "text": [
      "50\n"
     ]
    }
   ],
   "source": [
    "images = glob.glob('../../../../images/virtual/10x7/opengl3/*.jpg')\n",
    "patternSize = (10,7)\n",
    "squareSize = 10\n",
    "imgSize = (720,720)\n",
    "\n",
    "#See how images are taken - debug\n",
    "print(len(images))\n"
   ]
  },
  {
   "attachments": {},
   "cell_type": "markdown",
   "metadata": {},
   "source": [
    "Reconstrução do tabueleiro "
   ]
  },
  {
   "cell_type": "code",
   "execution_count": 3,
   "metadata": {},
   "outputs": [],
   "source": [
    "def construct3DPoints(patternSize,squareSize):\n",
    "    X = np.zeros((patternSize[0]*patternSize[1],3), np.float32)\n",
    "    X[:,:2] = np.mgrid[0:patternSize[0],0:patternSize[1]].T.reshape(-1,2)\n",
    "    X = X * squareSize\n",
    "    return X\n",
    "\n",
    "boardPoints = construct3DPoints(patternSize,squareSize)\n",
    "worldPoints = []\n",
    "imagePoints = [] "
   ]
  },
  {
   "attachments": {},
   "cell_type": "markdown",
   "metadata": {},
   "source": [
    "Funções para remover distorção de imagem"
   ]
  },
  {
   "cell_type": "code",
   "execution_count": null,
   "metadata": {},
   "outputs": [],
   "source": [
    "def undistortFisheye(imgpath,K,D,DIM,axis,method,scale,corners):\n",
    "    img = cv2.imread(imgpath)\n",
    "    '''new_K = cv2.fisheye.estimateNewCameraMatrixForUndistortRectify(K, D, DIM, np.eye(3), balance=0)\n",
    "\n",
    "    new_K = K.copy()\n",
    "    new_K[0,0]=K[0,0]*scale\n",
    "    new_K[1,1]=K[1,1]*scale'''\n",
    "    map1, map2 = cv2.fisheye.initUndistortRectifyMap(K, D, np.eye(3), K, DIM, cv2.CV_16SC2)\n",
    "    undistorted_img = cv2.remap(img, map1, map2, interpolation=cv2.INTER_LINEAR, borderMode=cv2.BORDER_CONSTANT)\n",
    "\n",
    "    fx = K[0,0]\n",
    "    fy = K[1,1]\n",
    "    cx = K[0,2]\n",
    "    cy = K[1,2]\n",
    "    undCorners_norm = cv2.fisheye.undistortPoints(corners, K, D)\n",
    "    undCorners_norm = undCorners_norm.reshape(-1,2)\n",
    "    undistCorners = np.zeros_like(undCorners_norm)\n",
    "    for i, (x, y) in enumerate(undCorners_norm):\n",
    "        px = x*fx + cx\n",
    "        py = y*fy + cy\n",
    "        undistCorners[i,0] = px\n",
    "        undistCorners[i,1] = py    \n",
    "    cv2.drawChessboardCorners(undistorted_img, patternSize, undistCorners, _)\n",
    "\n",
    "    axs[axis].imshow(undistorted_img[:,:,::-1])\n",
    "    axs[axis].axis('off')\n",
    "    axs[axis].set_title('undistort '+method)\n",
    "    #cv2.imwrite('undistort'+method+'.png', undistorted_img)\n",
    "\n",
    "    return corners,undistCorners\n",
    "\n",
    "def undistortPinhole(imgpath,K,D,DIM,axis,method,corners):\n",
    "    img = cv2.imread(imgpath)\n",
    "    \n",
    "    new_K, roi = cv2.getOptimalNewCameraMatrix(K, D, DIM, 1, DIM)\n",
    "    undistorted_img = cv2.undistort(img,K,D, None, new_K)  \n",
    "\n",
    "    undCorners_norm = cv2.undistortPoints(corners, K, D).reshape(-1,2)\n",
    "    # remove normalization\n",
    "    fx = new_K[0,0]\n",
    "    fy = new_K[1,1]\n",
    "    cx = new_K[0,2]\n",
    "    cy = new_K[1,2]\n",
    "    undistCorners = np.zeros_like(undCorners_norm)\n",
    "    for i, (x, y) in enumerate(undCorners_norm):\n",
    "        px = x*fx + cx\n",
    "        py = y*fy + cy\n",
    "        undistCorners[i,0] = px\n",
    "        undistCorners[i,1] = py    \n",
    "    cv2.drawChessboardCorners(undistorted_img, patternSize, undistCorners, _)\n",
    "    axs[axis].imshow(undistorted_img[:,:,::-1])\n",
    "    axs[axis].axis('off')\n",
    "    axs[axis].set_title('undistorted '+method)   \n"
   ]
  },
  {
   "attachments": {},
   "cell_type": "markdown",
   "metadata": {},
   "source": [
    "Detectando corners"
   ]
  },
  {
   "cell_type": "code",
   "execution_count": 8,
   "metadata": {},
   "outputs": [
    {
     "name": "stdout",
     "output_type": "stream",
     "text": [
      "using 0\n"
     ]
    }
   ],
   "source": [
    "counter = 0\n",
    "for fname in images:\n",
    "    img = cv2.imread(fname)\n",
    "    gray = cv2.cvtColor(img, cv2.COLOR_BGR2GRAY)\n",
    "    ret, corners = cv2.findChessboardCornersSB(gray, patternSize, None)\n",
    "    if ret == True:\n",
    "        print(\"Corners found!\") #- see if corners are found \n",
    "        imagePoints.append(corners)\n",
    "        worldPoints.append(boardPoints)\n",
    "        counter+=1\n",
    "\n",
    "        '''cv2.drawChessboardCorners(img, patternSize, cornersRefined, ret)\n",
    "        plt.figure(figsize=(4, 3), dpi=200)\n",
    "        plt.imshow(img[:,:,::-1])\n",
    "        plt.axis('off')\n",
    "        plt.title(fname)'''\n",
    "\n",
    "print(\"using \" + str(counter))"
   ]
  },
  {
   "attachments": {},
   "cell_type": "markdown",
   "metadata": {},
   "source": [
    "Calibração de câmera"
   ]
  },
  {
   "cell_type": "code",
   "execution_count": 56,
   "metadata": {},
   "outputs": [
    {
     "name": "stdout",
     "output_type": "stream",
     "text": [
      "Using 20 of 20 images\n",
      "RMS re-projection error: 0.2547153364603549\n",
      "Camera Matrix:\n",
      " [[2.97646232e+03 0.00000000e+00 1.18425363e+03]\n",
      " [0.00000000e+00 2.98577128e+03 1.08503468e+03]\n",
      " [0.00000000e+00 0.00000000e+00 1.00000000e+00]]\n",
      "Distortion Parameters:\n",
      " [[-0.12923276]\n",
      " [ 0.18717814]\n",
      " [-1.35831681]\n",
      " [ 2.51654783]]\n"
     ]
    }
   ],
   "source": [
    "if useFisheye:\n",
    "    flagsCalib = cv2.fisheye.CALIB_RECOMPUTE_EXTRINSIC+cv2.fisheye.CALIB_FIX_SKEW+cv2.fisheye.CALIB_CHECK_COND\n",
    "    calibrateCriteria = (cv2.TERM_CRITERIA_EPS+cv2.TERM_CRITERIA_MAX_ITER,30, 1e-12)\n",
    "    ret, cameraMatrix, k, R, t = cv2.fisheye.calibrate(np.expand_dims(np.asarray(worldPoints), -2), imagePoints, imgSize, None, None,\n",
    "                                                                flags=flagsCalib,criteria=calibrateCriteria)\n",
    "else:\n",
    "    flagsCalib = cv2.CALIB_RATIONAL_MODEL\n",
    "    ret, cameraMatrix, k, rvecs, tvecs = cv2.calibrateCamera(worldPoints, imagePoints, imgSize, None, None,\n",
    "                                                               flags=flagsCalib)\n",
    "\n",
    "print(\"Using \"+str(counter)+\" of \"+str(len(images))+\" images\")\n",
    "print(\"RMS re-projection error:\", ret)\n",
    "print(\"Camera Matrix:\\n\", cameraMatrix)\n",
    "print(\"Distortion Parameters:\\n\", k)\n"
   ]
  },
  {
   "cell_type": "code",
   "execution_count": 53,
   "metadata": {},
   "outputs": [
    {
     "name": "stdout",
     "output_type": "stream",
     "text": [
      "Using 20 of 20 images\n",
      "RMS re-projection error: 0.2276229064937841\n",
      "Camera Matrix:\n",
      " [[2.91055449e+03 0.00000000e+00 1.22119271e+03]\n",
      " [0.00000000e+00 2.91732984e+03 1.06036950e+03]\n",
      " [0.00000000e+00 0.00000000e+00 1.00000000e+00]]\n",
      "Distortion Parameters:\n",
      " [[-1.14124763e+01  1.65790903e+02  2.12570623e-03 -3.98145110e-03\n",
      "   3.15381135e+01 -1.09700574e+01  1.60681780e+02  1.04498115e+02\n",
      "   0.00000000e+00  0.00000000e+00  0.00000000e+00  0.00000000e+00\n",
      "   0.00000000e+00  0.00000000e+00]]\n",
      "20\n"
     ]
    }
   ],
   "source": [
    "if useFisheye:\n",
    "    flagsCalib = cv2.fisheye.CALIB_RECOMPUTE_EXTRINSIC+cv2.fisheye.CALIB_FIX_SKEW+cv2.fisheye.CALIB_CHECK_COND\n",
    "    calibrateCriteria = (cv2.TERM_CRITERIA_EPS+cv2.TERM_CRITERIA_MAX_ITER,30, 1e-12)\n",
    "    ret, cameraMatrix, k, R, t = cv2.fisheye.calibrate(np.expand_dims(np.asarray(worldPoints), -2), imagePoints, imgSize, None, None,\n",
    "                                                                flags=flagsCalib,criteria=calibrateCriteria)\n",
    "else:\n",
    "    flagsCalib = cv2.CALIB_RATIONAL_MODEL\n",
    "    ret, cameraMatrix, k, rvecs, tvecs, stdDeviationsIntrinsics, stdDeviationsExtrinsics, perViewErrors = cv2.calibrateCameraExtended(worldPoints, imagePoints, imgSize, None, None, flags=flagsCalib)\n",
    "\n",
    "print(\"Using \"+str(counter)+\" of \"+str(len(images))+\" images\")\n",
    "print(\"RMS re-projection error:\", ret)\n",
    "print(\"Camera Matrix:\\n\", cameraMatrix)\n",
    "print(\"Distortion Parameters:\\n\", k)\n",
    "print(len(perViewErrors))\n"
   ]
  },
  {
   "cell_type": "code",
   "execution_count": 54,
   "metadata": {},
   "outputs": [
    {
     "name": "stdout",
     "output_type": "stream",
     "text": [
      "the mean error is: 0.2209752722527008\n",
      "the RMS error is: 0.2276229064937841\n",
      "the median error is: 0.2035584664058449\n"
     ]
    }
   ],
   "source": [
    "#reprojection error: \n",
    "\n",
    "mean = np.mean(perViewErrors)\n",
    "median = np.median(perViewErrors)\n",
    "\n",
    "print(\"the mean error is:\", mean)\n",
    "print(\"the RMS error is:\", ret)\n",
    "print(\"the median error is:\", median)"
   ]
  },
  {
   "attachments": {},
   "cell_type": "markdown",
   "metadata": {},
   "source": [
    "### Análise dos resultados"
   ]
  },
  {
   "cell_type": "code",
   "execution_count": null,
   "metadata": {},
   "outputs": [],
   "source": [
    "idx = 3\n",
    "pathImg = images[idx]\n",
    "img = cv2.imread(pathImg)\n",
    "\n",
    "if useFisheye:\n",
    "    fig, axs = plt.subplots(1,3,figsize=(16, 4), dpi=500)\n",
    "    _, corners = cv2.findChessboardCorners(img, patternSize, None)\n",
    "    axs[0].imshow(img[:,:,::-1])\n",
    "    axs[0].axis('off')\n",
    "    axs[0].set_title('distorted')\n",
    "    #cv2.imwrite('undistortNOriginal.png', img)\n",
    "    undistortFisheye(pathImg,cameraMatrix,k,imgSize,1,'openCV',1,corners)\n",
    "    if useDeng:\n",
    "        k[0] = 0.2377\n",
    "        k[1] = -0.3752\n",
    "        k[2] = 6.6712\n",
    "        k[3] = -27.4156\n",
    "    else:\n",
    "        if cameraNumber == 1:\n",
    "            k[0] = 0.395621\n",
    "            k[1] = 0.633705 \n",
    "            k[2] = -2.41723\n",
    "            k[3] = 2.11079\n",
    "            cameraMatrix[0][0] = 720.313\n",
    "            cameraMatrix[1][1] = 719.521\n",
    "            cameraMatrix[0][2] = 481.014\n",
    "            cameraMatrix[1][2] = 360.991\n",
    "        elif cameraNumber == 2: \n",
    "            k[0] = 0.368917\n",
    "            k[1] = 1.50111\n",
    "            k[2] = -7.94126\n",
    "            k[3] = 11.9171\n",
    "            cameraMatrix[0][0] = 768.113\n",
    "            cameraMatrix[1][1] = 767.935\n",
    "            cameraMatrix[0][2] = 472.596\n",
    "            cameraMatrix[1][2] = 350.978\n",
    "        elif cameraNumber == 3:\n",
    "            k[0] = 0.276114\n",
    "            k[1] = 2.09465\n",
    "            k[2] = -9.97956\n",
    "            k[3] = 14.1921\n",
    "            cameraMatrix[0][0] = 728.237\n",
    "            cameraMatrix[1][1] = 729.419 \n",
    "            cameraMatrix[0][2] = 459.854\n",
    "            cameraMatrix[1][2] = 351.59\n",
    "        else:\n",
    "            k[0] = 0.400774\n",
    "            k[1] = 1.15995\n",
    "            k[2] = -7.10257\n",
    "            k[3] = 11.415\n",
    "            cameraMatrix[0][0] = 750.149\n",
    "            cameraMatrix[1][1] = 748.903\n",
    "            cameraMatrix[0][2] = 492.144\n",
    "            cameraMatrix[1][2] = 350.213\n",
    "\n",
    "    corners,undistCorners = undistortFisheye(pathImg,cameraMatrix,k,imgSize,2,'MATLAB',1,corners)\n",
    "else:\n",
    "    fig, axs = plt.subplots(1,2,figsize=(7, 4), dpi=500)\n",
    "    _, corners = cv2.findChessboardCorners(img, patternSize, None)\n",
    "    #cv2.drawChessboardCorners(img, patternSize, corners, _)\n",
    "    axs[0].imshow(img[:,:,::-1])\n",
    "    axs[0].axis('off')\n",
    "    axs[0].set_title('distorted')  \n",
    "    newCameraMatrix, roi = cv2.getOptimalNewCameraMatrix(cameraMatrix, k, imgSize, 1, imgSize)\n",
    "    undistorted_img = cv2.undistort(img,cameraMatrix,k, None, newCameraMatrix)  \n",
    "    cv2.drawChessboardCorners(undistorted_img, patternSize, corners, _)\n",
    "    axs[1].imshow(undistorted_img[:,:,::-1])\n",
    "    axs[1].axis('off')\n",
    "    axs[1].set_title('undistorted')  \n",
    "    undistortPinhole(pathImg,cameraMatrix,k,imgSize,1,'openCV',corners)\n"
   ]
  },
  {
   "cell_type": "code",
   "execution_count": null,
   "metadata": {},
   "outputs": [],
   "source": [
    "idx = 8\n",
    "\n",
    "imgpoints, _  = cv2.fisheye.projectPoints(objectPoints=boardPoints.reshape(-1,1,3),\n",
    "                        rvec=R[idx].reshape(-1,3),\n",
    "                        tvec = t[idx].reshape(-1,3),\n",
    "                        K=cameraMatrix,\n",
    "                        D=k)\n",
    "\n",
    "img = cv2.imread(images[idx])\n",
    "gray = cv2.cvtColor(img, cv2.COLOR_BGR2GRAY)\n",
    "ret, cornerspoints = cv2.findChessboardCornersSB(gray, patternSize, None)\n",
    "\n",
    "imgpoints = imgpoints.reshape(-1,2).astype(float)\n",
    "\n",
    "cornerspoints = cornerspoints.reshape(-1,2)\n",
    "\n",
    "residual = cornerspoints-imgpoints\n",
    "plt.scatter(residual[:,0],residual[:,1])\n",
    "plt.title('Residual plot XY image: {0}'.format(images[idx]))\n",
    "plt.grid('on')\n"
   ]
  }
 ],
 "metadata": {
  "kernelspec": {
   "display_name": "Python 3",
   "language": "python",
   "name": "python3"
  },
  "language_info": {
   "codemirror_mode": {
    "name": "ipython",
    "version": 3
   },
   "file_extension": ".py",
   "mimetype": "text/x-python",
   "name": "python",
   "nbconvert_exporter": "python",
   "pygments_lexer": "ipython3",
   "version": "3.12.3"
  },
  "orig_nbformat": 4,
  "vscode": {
   "interpreter": {
    "hash": "ce9f15aa959b545b303a3222119ae92672d363f64e30881856680bc69ade5e9f"
   }
  }
 },
 "nbformat": 4,
 "nbformat_minor": 2
}
