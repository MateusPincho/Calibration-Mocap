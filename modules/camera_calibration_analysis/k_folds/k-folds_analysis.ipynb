{
 "cells": [
  {
   "cell_type": "code",
   "execution_count": 152,
   "metadata": {},
   "outputs": [],
   "source": [
    "# import modules\n",
    "import cv2\n",
    "import numpy as np\n",
    "from glob import glob\n",
    "from sklearn.model_selection import train_test_split\n",
    "import matplotlib.pyplot as plt\n",
    "from math import sqrt\n",
    "\n",
    "# escolha o conjunto de imagens\n",
    "path = '../../../images/virtual/'\n",
    "image_set = glob(path + '7x7/original/test/*.jpg')"
   ]
  },
  {
   "cell_type": "code",
   "execution_count": 153,
   "metadata": {},
   "outputs": [],
   "source": [
    "# Funções de calibração\n",
    "\n",
    "#Reconstrução do tabuleiro\n",
    "def construct3DPoints(patternSize,squareSize):\n",
    "    X = np.zeros((patternSize[0]*patternSize[1],3), np.float32)\n",
    "    X[:,:2] = np.mgrid[0:patternSize[0],0:patternSize[1]].T.reshape(-1,2)\n",
    "    X = X * squareSize # Square size não interfere na calibração -> somente um fator de escala\n",
    "                       # o square size não é utilizado na calibração dos cara de stanford\n",
    "    return X\n",
    "\n",
    "#Detectando os corners\n",
    "def detectCorners(images, boardPoints, patternSize):\n",
    "    worldPoints = []\n",
    "    imagePoints = [] \n",
    "\n",
    "    img_size = 0\n",
    "    counter = 0\n",
    "    for fname in images:\n",
    "        img = cv2.imread(fname)\n",
    "        gray = cv2.cvtColor(img, cv2.COLOR_BGR2GRAY)\n",
    "        img_size = gray.shape[::-1]\n",
    "        ret, corners = cv2.findChessboardCornersSB(gray, patternSize, None)\n",
    "        if ret == True:\n",
    "            #print(\"Corners found in image \" + str(fname)) #- see if corners are found \n",
    "            #corners2 = cv2.cornerSubPix(gray, corners, (11,11), (-1,-1), criteria=(cv2.TERM_CRITERIA_EPS + cv2.TERM_CRITERIA_MAX_ITER, 30, 0.001))\n",
    "            worldPoints.append(boardPoints)\n",
    "            imagePoints.append(corners)\n",
    "            counter+=1\n",
    "\n",
    "    print(\"Corners found in \" + str(counter) + \" images\")\n",
    "    #print(img_size)\n",
    "    return worldPoints, imagePoints, img_size\n",
    "\n",
    "#Descobrindo os intrisicos, extrinsecos e o erro de reprojeção \n",
    "def calibrate(images, useFisheye, patternSize, squareSize):\n",
    "\n",
    "    boardPoints = construct3DPoints(patternSize, squareSize)\n",
    "\n",
    "    worldPoints, imagePoints, imgSize = detectCorners(images, boardPoints, patternSize)\n",
    "\n",
    "    if useFisheye:\n",
    "        flagsCalib = cv2.fisheye.CALIB_RECOMPUTE_EXTRINSIC+cv2.fisheye.CALIB_FIX_SKEW+cv2.fisheye.CALIB_CHECK_COND\n",
    "        calibrateCriteria = (cv2.TERM_CRITERIA_EPS+cv2.TERM_CRITERIA_MAX_ITER,30, 1e-12)\n",
    "\n",
    "        ret, cameraMatrix, k, R, t = cv2.fisheye.calibrate(np.expand_dims(np.asarray(worldPoints), -2), imagePoints, imgSize, None, None,\n",
    "                                                                    flags=flagsCalib,criteria=calibrateCriteria)\n",
    "    else:\n",
    "        flagsCalib = cv2.CALIB_RATIONAL_MODEL\n",
    "\n",
    "        ret, cameraMatrix, k, rvecs, tvecs, stdIntrinc, stdExtrinsic, perViewError = cv2.calibrateCameraExtended(worldPoints, imagePoints, imgSize, None, None,\n",
    "                                                                flags=flagsCalib)\n",
    "\n",
    "    print(\"RMS re-projection error:\", ret)\n",
    "    print(\"The median re-projection error\", np.median(perViewError))\n",
    "    print(\"Camera Matrix:\\n\", cameraMatrix)\n",
    "    print(\"Distortion Parameters:\\n\", k)\n",
    "\n",
    "    return cameraMatrix, k, rvecs, tvecs, stdIntrinc, stdExtrinsic, perViewError\n",
    "\n",
    "def calculate_mean_error(image_set, pattern_size, square_size, camera_matrix, distortion):\n",
    "    \n",
    "    # Create empty arrays for rotation and translation vectors\n",
    "    rvecs = []\n",
    "    tvecs = []\n",
    "    errors = []\n",
    "    \n",
    "    # Define the world board points\n",
    "    board_points = construct3DPoints(pattern_size, square_size)\n",
    "    board_points = board_points.astype('float32')\n",
    "    \n",
    "    # Calculate image points in each image\n",
    "    for image in image_set:\n",
    "        img = cv2.imread(image)\n",
    "        gray = cv2.cvtColor(img, cv2.COLOR_BGR2GRAY)\n",
    "        \n",
    "        # Detect chessboard corners in the image\n",
    "        ret, detected_image_points = cv2.findChessboardCornersSB(gray, pattern_size, None)\n",
    "        \n",
    "        # If it was detected\n",
    "        if ret == True: \n",
    "\n",
    "            # Calculate extrinsic parameters \n",
    "            _, rvec, tvec = cv2.solvePnP(board_points, detected_image_points, camera_matrix, distortion)\n",
    "            rvecs.append(rvec)\n",
    "            tvecs.append(tvecs)\n",
    "\n",
    "            # Calculate projected image points\n",
    "            projected_image_points, _ = cv2.projectPoints(board_points, rvec, tvec, camera_matrix, distortion)\n",
    "\n",
    "            # Find the Euclidean Distance between projected and detected image points\n",
    "            error = cv2.norm(detected_image_points, projected_image_points, normType= cv2.NORM_L2) / len(projected_image_points)\n",
    "            \n",
    "            errors.append(error)\n",
    "            \n",
    "            print(f\"Mean Error of Image {image}:\", error, \"px\")\n",
    "    \n",
    "    mean_error = np.median(errors)\n",
    "    \n",
    "    print(\"Median error: \", mean_error)\n",
    "    \n",
    "    return mean_error\n",
    "\n",
    "def calculate_rms_error(image_set, pattern_size, square_size, camera_matrix, distortion):\n",
    "    \n",
    "    # Create empty arrays for rotation and translation vectors\n",
    "    rvecs = []\n",
    "    tvecs = []\n",
    "    errors = []\n",
    "\n",
    "    # Define the world board points\n",
    "    board_points = construct3DPoints(pattern_size, square_size)\n",
    "\n",
    "    # Calculate the detected image points\n",
    "    for image in image_set:\n",
    "        img = cv2.imread(image)\n",
    "        gray = cv2.cvtColor(img, cv2.COLOR_BGR2GRAY)\n",
    "        \n",
    "        # Detect chessboard corners in the image\n",
    "        ret, corners = cv2.findChessboardCornersSB(gray, pattern_size, None)\n",
    "\n",
    "        # If it was detected\n",
    "        if ret == True:\n",
    "            \n",
    "            # Calculate extrinsic parameters\n",
    "            _, rvec, tvec = cv2.solvePnP(board_points, corners, camera_matrix, distortion)\n",
    "            rvecs.append(rvec)\n",
    "            tvecs.append(tvecs)\n",
    "\n",
    "            # Calculate projected image points\n",
    "            image_points, _ = cv2.projectPoints(board_points, rvec, tvec, camera_matrix, distortion)\n",
    "\n",
    "            # Find the Euclidean Distance between projected and detected image points\n",
    "            error = cv2.norm(corners, image_points, normType= cv2.NORM_L2) / sqrt(len(image_points))\n",
    "            errors.append(error)\n",
    "\n",
    "            print(f\"RMS Error of Image {image}:\", error, \"px\")\n",
    "\n",
    "    rms_error = np.median(errors)\n",
    "\n",
    "    print(\"Median RMS error: \", rms_error)\n",
    "\n",
    "    return rms_error"
   ]
  },
  {
   "cell_type": "markdown",
   "metadata": {},
   "source": [
    "Calibração Inicial - Detectar Outliers"
   ]
  },
  {
   "cell_type": "code",
   "execution_count": 154,
   "metadata": {},
   "outputs": [
    {
     "name": "stdout",
     "output_type": "stream",
     "text": [
      "Corners found in 20 images\n",
      "RMS re-projection error: 0.250877723818188\n",
      "The median re-projection error 0.24312653425188566\n",
      "Camera Matrix:\n",
      " [[415.73641877   0.         238.56649595]\n",
      " [  0.         415.72140854 239.58304486]\n",
      " [  0.           0.           1.        ]]\n",
      "Distortion Parameters:\n",
      " [[-1.54783162e+01  7.67039242e+01  5.48681211e-04 -5.55128922e-04\n",
      "  -8.15486101e+01 -1.54780231e+01  7.67056519e+01 -8.15680402e+01\n",
      "   0.00000000e+00  0.00000000e+00  0.00000000e+00  0.00000000e+00\n",
      "   0.00000000e+00  0.00000000e+00]]\n"
     ]
    }
   ],
   "source": [
    "# Calibração Inicial \n",
    "camera_matrix, distortion, rotation, translation, stdInt, stdExt, perViewError = calibrate(image_set, useFisheye = False, patternSize = (7,7), squareSize = 30)"
   ]
  },
  {
   "cell_type": "code",
   "execution_count": 155,
   "metadata": {},
   "outputs": [],
   "source": [
    "perViewError.reshape(20,)\n",
    "\n",
    "error = [0.27555139, 0.19183595, 0.2339844 , 0.2442912 , 0.21021585,\n",
    "       0.21979921, 0.21366973, 0.22803501, 0.27671882, 0.20763292,\n",
    "       0.25810807, 0.25622183, 0.24196187, 0.22971068, 0.33850582,\n",
    "       0.30264016, 0.27840132, 0.25627337, 0.27089499, 0.23551575]\n",
    "\n",
    "rms_error = 0.250877723818188\n"
   ]
  },
  {
   "cell_type": "code",
   "execution_count": 156,
   "metadata": {},
   "outputs": [
    {
     "data": {
      "text/plain": [
       "['image0.jpg',\n",
       " 'image1.jpg',\n",
       " 'image10.jpg',\n",
       " 'image11.jpg',\n",
       " 'image12.jpg',\n",
       " 'image13.jpg',\n",
       " 'image14.jpg',\n",
       " 'image15.jpg',\n",
       " 'image16.jpg',\n",
       " 'image17.jpg',\n",
       " 'image18.jpg',\n",
       " 'image19.jpg',\n",
       " 'image2.jpg',\n",
       " 'image3.jpg',\n",
       " 'image4.jpg',\n",
       " 'image5.jpg',\n",
       " 'image6.jpg',\n",
       " 'image7.jpg',\n",
       " 'image8.jpg',\n",
       " 'image9.jpg']"
      ]
     },
     "execution_count": 156,
     "metadata": {},
     "output_type": "execute_result"
    }
   ],
   "source": [
    "import os\n",
    "\n",
    "new_image_set = []\n",
    "for image in image_set:\n",
    "    nome_arquivo = os.path.basename(image)\n",
    "    new_image_set.append(nome_arquivo)\n",
    "\n",
    "new_image_set"
   ]
  },
  {
   "cell_type": "code",
   "execution_count": 157,
   "metadata": {},
   "outputs": [
    {
     "data": {
      "image/png": "[encoded data removed]",
      "text/plain": [
       "<Figure size 640x480 with 1 Axes>"
      ]
     },
     "metadata": {},
     "output_type": "display_data"
    }
   ],
   "source": [
    "plt.figure()\n",
    "plt.bar(new_image_set, error, color = 'blue')\n",
    "\n",
    "plt.axhline(y=rms_error, color='gray', linestyle='--', linewidth=1, label=f'Média: {rms_error:.2f}')\n",
    "\n",
    "plt.xticks(rotation=45, ha='right')  # Rotacionar os rótulos das imagens para melhor visualização\n",
    "plt.tight_layout()  # Ajusta o layout para se encaixar bem na figura\n",
    "plt.show()"
   ]
  },
  {
   "cell_type": "code",
   "execution_count": 158,
   "metadata": {},
   "outputs": [],
   "source": [
    "new_image_set.remove('image4.jpg')\n",
    "new_image_set.remove('image5.jpg')\n",
    "new_image_set.remove('image6.jpg')\n",
    "\n",
    "complet_new_image_set = []\n",
    "for image in new_image_set:\n",
    "    path = '../../../images/virtual/7x7/original/test/'\n",
    "    path_image = path + image\n",
    "    complet_new_image_set.append(path_image)"
   ]
  },
  {
   "cell_type": "markdown",
   "metadata": {},
   "source": [
    "Calibração final - Divisão em Treino e teste"
   ]
  },
  {
   "cell_type": "code",
   "execution_count": 159,
   "metadata": {},
   "outputs": [],
   "source": [
    "zeros = np.zeros(len(complet_new_image_set))\n",
    "\n",
    "images_train, images_test, y_train, y_test = train_test_split(complet_new_image_set, zeros, test_size=0.3) "
   ]
  },
  {
   "cell_type": "code",
   "execution_count": 160,
   "metadata": {},
   "outputs": [
    {
     "name": "stdout",
     "output_type": "stream",
     "text": [
      "Corners found in 11 images\n",
      "RMS re-projection error: 0.2352649252621132\n",
      "The median re-projection error 0.23187261854499266\n",
      "Camera Matrix:\n",
      " [[417.81039993   0.         237.40589006]\n",
      " [  0.         417.89155526 240.4406695 ]\n",
      " [  0.           0.           1.        ]]\n",
      "Distortion Parameters:\n",
      " [[ 7.39417740e-01  2.12093919e+00  1.55585404e-03 -1.07030339e-03\n",
      "  -1.22907693e+01  7.42635028e-01  2.07011892e+00 -1.22090581e+01\n",
      "   0.00000000e+00  0.00000000e+00  0.00000000e+00  0.00000000e+00\n",
      "   0.00000000e+00  0.00000000e+00]]\n"
     ]
    }
   ],
   "source": [
    "camera_matrix, distortion, rotation, translation, stdInt, stdExt, perViewError = calibrate(images_train, useFisheye = False, patternSize = (7,7), squareSize = 30)"
   ]
  },
  {
   "cell_type": "markdown",
   "metadata": {},
   "source": [
    "Etapa K-fold Cross Validation - Encontrar indicadores de estabilidade\n"
   ]
  },
  {
   "cell_type": "code",
   "execution_count": null,
   "metadata": {},
   "outputs": [],
   "source": []
  }
 ],
 "metadata": {
  "kernelspec": {
   "display_name": "Python 3",
   "language": "python",
   "name": "python3"
  },
  "language_info": {
   "codemirror_mode": {
    "name": "ipython",
    "version": 3
   },
   "file_extension": ".py",
   "mimetype": "text/x-python",
   "name": "python",
   "nbconvert_exporter": "python",
   "pygments_lexer": "ipython3",
   "version": "3.11.9"
  }
 },
 "nbformat": 4,
 "nbformat_minor": 2
}
