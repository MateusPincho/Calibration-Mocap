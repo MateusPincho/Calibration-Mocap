{
 "cells": [
  {
   "cell_type": "code",
   "execution_count": 195,
   "metadata": {},
   "outputs": [],
   "source": [
    "# import modules\n",
    "import cv2\n",
    "import numpy as np\n",
    "from glob import glob\n",
    "from sklearn.model_selection import train_test_split\n",
    "import matplotlib.pyplot as plt\n",
    "from math import sqrt\n",
    "\n",
    "# escolha o conjunto de imagens\n",
    "path = '../../../images/virtual/'\n",
    "images = glob(path + '15x11/original/new_workflow_test/*.jpg')"
   ]
  },
  {
   "cell_type": "code",
   "execution_count": 196,
   "metadata": {},
   "outputs": [
    {
     "data": {
      "text/plain": [
       "50"
      ]
     },
     "execution_count": 196,
     "metadata": {},
     "output_type": "execute_result"
    }
   ],
   "source": [
    "len(images)"
   ]
  },
  {
   "cell_type": "code",
   "execution_count": 218,
   "metadata": {},
   "outputs": [],
   "source": [
    "counter = 0\n",
    "image_set = []\n",
    "\n",
    "i = np.random.choice(np.arange(0,50),30, replace=False)\n",
    "\n",
    "for idx in i:\n",
    "\n",
    "    image_set.append(images[idx])"
   ]
  },
  {
   "cell_type": "code",
   "execution_count": 219,
   "metadata": {},
   "outputs": [
    {
     "data": {
      "text/plain": [
       "['../../../images/virtual/15x11/original/new_workflow_test\\\\image41.jpg',\n",
       " '../../../images/virtual/15x11/original/new_workflow_test\\\\image14.jpg',\n",
       " '../../../images/virtual/15x11/original/new_workflow_test\\\\image48.jpg',\n",
       " '../../../images/virtual/15x11/original/new_workflow_test\\\\image42.jpg',\n",
       " '../../../images/virtual/15x11/original/new_workflow_test\\\\image3.jpg',\n",
       " '../../../images/virtual/15x11/original/new_workflow_test\\\\image36.jpg',\n",
       " '../../../images/virtual/15x11/original/new_workflow_test\\\\image30.jpg',\n",
       " '../../../images/virtual/15x11/original/new_workflow_test\\\\image5.jpg',\n",
       " '../../../images/virtual/15x11/original/new_workflow_test\\\\image32.jpg',\n",
       " '../../../images/virtual/15x11/original/new_workflow_test\\\\image4.jpg',\n",
       " '../../../images/virtual/15x11/original/new_workflow_test\\\\image33.jpg',\n",
       " '../../../images/virtual/15x11/original/new_workflow_test\\\\image35.jpg',\n",
       " '../../../images/virtual/15x11/original/new_workflow_test\\\\image37.jpg',\n",
       " '../../../images/virtual/15x11/original/new_workflow_test\\\\image0.jpg',\n",
       " '../../../images/virtual/15x11/original/new_workflow_test\\\\image9.jpg',\n",
       " '../../../images/virtual/15x11/original/new_workflow_test\\\\image12.jpg',\n",
       " '../../../images/virtual/15x11/original/new_workflow_test\\\\image31.jpg',\n",
       " '../../../images/virtual/15x11/original/new_workflow_test\\\\image43.jpg',\n",
       " '../../../images/virtual/15x11/original/new_workflow_test\\\\image13.jpg',\n",
       " '../../../images/virtual/15x11/original/new_workflow_test\\\\image38.jpg',\n",
       " '../../../images/virtual/15x11/original/new_workflow_test\\\\image16.jpg',\n",
       " '../../../images/virtual/15x11/original/new_workflow_test\\\\image26.jpg',\n",
       " '../../../images/virtual/15x11/original/new_workflow_test\\\\image47.jpg',\n",
       " '../../../images/virtual/15x11/original/new_workflow_test\\\\image34.jpg',\n",
       " '../../../images/virtual/15x11/original/new_workflow_test\\\\image23.jpg',\n",
       " '../../../images/virtual/15x11/original/new_workflow_test\\\\image46.jpg',\n",
       " '../../../images/virtual/15x11/original/new_workflow_test\\\\image6.jpg',\n",
       " '../../../images/virtual/15x11/original/new_workflow_test\\\\image39.jpg',\n",
       " '../../../images/virtual/15x11/original/new_workflow_test\\\\image27.jpg',\n",
       " '../../../images/virtual/15x11/original/new_workflow_test\\\\image8.jpg']"
      ]
     },
     "execution_count": 219,
     "metadata": {},
     "output_type": "execute_result"
    }
   ],
   "source": [
    "image_set"
   ]
  },
  {
   "cell_type": "code",
   "execution_count": 55,
   "metadata": {},
   "outputs": [],
   "source": [
    "# Funções de calibração\n",
    "\n",
    "#Reconstrução do tabuleiro\n",
    "def construct3DPoints(patternSize,squareSize):\n",
    "    X = np.zeros((patternSize[0]*patternSize[1],3), np.float32)\n",
    "    X[:,:2] = np.mgrid[0:patternSize[0],0:patternSize[1]].T.reshape(-1,2)\n",
    "    X = X * squareSize # Square size não interfere na calibração -> somente um fator de escala\n",
    "                       # o square size não é utilizado na calibração dos cara de stanford\n",
    "    return X\n",
    "\n",
    "#Detectando os corners\n",
    "def detectCorners(images, boardPoints, patternSize):\n",
    "    worldPoints = []\n",
    "    imagePoints = [] \n",
    "\n",
    "    img_size = 0\n",
    "    counter = 0\n",
    "    for fname in images:\n",
    "        img = cv2.imread(fname)\n",
    "        gray = cv2.cvtColor(img, cv2.COLOR_BGR2GRAY)\n",
    "        img_size = gray.shape[::-1]\n",
    "        ret, corners = cv2.findChessboardCornersSB(gray, patternSize, None)\n",
    "        if ret == True:\n",
    "            #print(\"Corners found in image \" + str(fname)) #- see if corners are found \n",
    "            #corners2 = cv2.cornerSubPix(gray, corners, (11,11), (-1,-1), criteria=(cv2.TERM_CRITERIA_EPS + cv2.TERM_CRITERIA_MAX_ITER, 30, 0.001))\n",
    "            worldPoints.append(boardPoints)\n",
    "            imagePoints.append(corners)\n",
    "            counter+=1\n",
    "\n",
    "    print(\"Corners found in \" + str(counter) + \" images\")\n",
    "    #print(img_size)\n",
    "    return worldPoints, imagePoints, img_size\n",
    "\n",
    "#Descobrindo os intrisicos, extrinsecos e o erro de reprojeção \n",
    "def calibrate(images, useFisheye, patternSize, squareSize, details = True):\n",
    "\n",
    "    boardPoints = construct3DPoints(patternSize, squareSize)\n",
    "\n",
    "    worldPoints, imagePoints, imgSize = detectCorners(images, boardPoints, patternSize)\n",
    "\n",
    "    if useFisheye:\n",
    "        flagsCalib = cv2.fisheye.CALIB_RECOMPUTE_EXTRINSIC+cv2.fisheye.CALIB_FIX_SKEW+cv2.fisheye.CALIB_CHECK_COND\n",
    "        calibrateCriteria = (cv2.TERM_CRITERIA_EPS+cv2.TERM_CRITERIA_MAX_ITER,30, 1e-12)\n",
    "\n",
    "        ret, cameraMatrix, k, R, t = cv2.fisheye.calibrate(np.expand_dims(np.asarray(worldPoints), -2), imagePoints, imgSize, None, None,\n",
    "                                                                    flags=flagsCalib,criteria=calibrateCriteria)\n",
    "    else:\n",
    "        flagsCalib = cv2.CALIB_RATIONAL_MODEL\n",
    "\n",
    "        ret, cameraMatrix, k, rvecs, tvecs, stdIntrinc, stdExtrinsic, perViewError = cv2.calibrateCameraExtended(worldPoints, imagePoints, imgSize, None, None,\n",
    "                                                                flags=flagsCalib)\n",
    "    if details:\n",
    "        print(\"RMS re-projection error:\", ret)\n",
    "        print(\"The median re-projection error\", np.median(perViewError))\n",
    "        print(\"Camera Matrix:\\n\", cameraMatrix)\n",
    "        print(\"Distortion Parameters:\\n\", k)\n",
    "\n",
    "    return cameraMatrix, k, rvecs, tvecs, stdIntrinc, stdExtrinsic, perViewError\n",
    "\n",
    "def calculate_mean_error(image_set, pattern_size, square_size, camera_matrix, distortion, per_view_error = False):\n",
    "    \n",
    "    # Create empty arrays for rotation and translation vectors\n",
    "    rvecs = []\n",
    "    tvecs = []\n",
    "    errors = []\n",
    "    \n",
    "    # Define the world board points\n",
    "    board_points = construct3DPoints(pattern_size, square_size)\n",
    "    board_points = board_points.astype('float32')\n",
    "    \n",
    "    # Calculate image points in each image\n",
    "    for image in image_set:\n",
    "        img = cv2.imread(image)\n",
    "        gray = cv2.cvtColor(img, cv2.COLOR_BGR2GRAY)\n",
    "        \n",
    "        # Detect chessboard corners in the image\n",
    "        ret, detected_image_points = cv2.findChessboardCornersSB(gray, pattern_size, None)\n",
    "        \n",
    "        # If it was detected\n",
    "        if ret == True: \n",
    "\n",
    "            # Calculate extrinsic parameters \n",
    "            _, rvec, tvec = cv2.solvePnP(board_points, detected_image_points, camera_matrix, distortion)\n",
    "            rvecs.append(rvec)\n",
    "            tvecs.append(tvecs)\n",
    "\n",
    "            # Calculate projected image points\n",
    "            projected_image_points, _ = cv2.projectPoints(board_points, rvec, tvec, camera_matrix, distortion)\n",
    "\n",
    "            # Find the Euclidean Distance between projected and detected image points\n",
    "            error = cv2.norm(detected_image_points, projected_image_points, normType= cv2.NORM_L2) / len(projected_image_points)\n",
    "            \n",
    "            errors.append(error)\n",
    "            \n",
    "            if per_view_error:\n",
    "                print(f\"Mean Error of Image {image}:\", error, \"px\")\n",
    "    \n",
    "    mean_error = np.median(errors)\n",
    "    \n",
    "    print(\"Median error: \", mean_error)\n",
    "    \n",
    "    return mean_error\n",
    "\n",
    "def calculate_rms_error(image_set, pattern_size, square_size, camera_matrix, distortion, per_view_error = False):\n",
    "    \n",
    "    # Create empty arrays for rotation and translation vectors\n",
    "    rvecs = []\n",
    "    tvecs = []\n",
    "    errors = []\n",
    "\n",
    "    # Define the world board points\n",
    "    board_points = construct3DPoints(pattern_size, square_size)\n",
    "\n",
    "    # Calculate the detected image points\n",
    "    for image in image_set:\n",
    "        img = cv2.imread(image)\n",
    "        gray = cv2.cvtColor(img, cv2.COLOR_BGR2GRAY)\n",
    "        \n",
    "        # Detect chessboard corners in the image\n",
    "        ret, corners = cv2.findChessboardCornersSB(gray, pattern_size, None)\n",
    "\n",
    "        # If it was detected\n",
    "        if ret == True:\n",
    "            \n",
    "            # Calculate extrinsic parameters\n",
    "            _, rvec, tvec = cv2.solvePnP(board_points, corners, camera_matrix, distortion)\n",
    "            rvecs.append(rvec)\n",
    "            tvecs.append(tvecs)\n",
    "\n",
    "            # Calculate projected image points\n",
    "            image_points, _ = cv2.projectPoints(board_points, rvec, tvec, camera_matrix, distortion)\n",
    "\n",
    "            # Find the Euclidean Distance between projected and detected image points\n",
    "            error = cv2.norm(corners, image_points, normType= cv2.NORM_L2) / sqrt(len(image_points))\n",
    "            errors.append(error)\n",
    "            if per_view_error:\n",
    "                print(f\"RMS Error of Image {image}:\", error, \"px\")\n",
    "\n",
    "    rms_error = np.median(errors)\n",
    "\n",
    "    print(\"Median RMS error: \", rms_error)\n",
    "\n",
    "    return rms_error"
   ]
  },
  {
   "cell_type": "markdown",
   "metadata": {},
   "source": [
    "Calibração Inicial - Detectar Outliers"
   ]
  },
  {
   "cell_type": "code",
   "execution_count": 220,
   "metadata": {},
   "outputs": [
    {
     "name": "stdout",
     "output_type": "stream",
     "text": [
      "Corners found in 30 images\n",
      "RMS re-projection error: 0.3393170194822197\n",
      "The median re-projection error 0.3330588934782832\n",
      "Camera Matrix:\n",
      " [[412.81819372   0.         240.73206042]\n",
      " [  0.         412.806862   240.35418802]\n",
      " [  0.           0.           1.        ]]\n",
      "Distortion Parameters:\n",
      " [[-2.70750554e+01  2.01360279e+02  8.04024919e-05  7.11555092e-04\n",
      "  -2.35934416e+02 -2.70733539e+01  2.01314091e+02 -2.35622600e+02\n",
      "   0.00000000e+00  0.00000000e+00  0.00000000e+00  0.00000000e+00\n",
      "   0.00000000e+00  0.00000000e+00]]\n"
     ]
    }
   ],
   "source": [
    "# Calibração Inicial \n",
    "camera_matrix, distortion, rotation, translation, stdInt, stdExt, perViewError = calibrate(image_set, useFisheye = False, patternSize = (15,11), squareSize = 30)\n",
    "\n",
    "perViewError = perViewError.flatten()"
   ]
  },
  {
   "cell_type": "code",
   "execution_count": 221,
   "metadata": {},
   "outputs": [],
   "source": [
    "rms_error =  0.3330588934782832"
   ]
  },
  {
   "cell_type": "code",
   "execution_count": 222,
   "metadata": {},
   "outputs": [
    {
     "data": {
      "text/plain": [
       "0.04178597392281371"
      ]
     },
     "execution_count": 222,
     "metadata": {},
     "output_type": "execute_result"
    }
   ],
   "source": [
    "perViewError.std()"
   ]
  },
  {
   "cell_type": "code",
   "execution_count": 223,
   "metadata": {},
   "outputs": [
    {
     "data": {
      "image/png": "[encoded data removed]",
      "text/plain": [
       "<Figure size 1000x700 with 1 Axes>"
      ]
     },
     "metadata": {},
     "output_type": "display_data"
    }
   ],
   "source": [
    "import os\n",
    "\n",
    "image_files = []\n",
    "for image in image_set:\n",
    "    nome_arquivo = os.path.basename(image)\n",
    "    image_files.append(nome_arquivo)\n",
    "\n",
    "\n",
    "plt.figure(figsize=(10,7))\n",
    "plt.bar(image_files, perViewError, color = 'royalblue', width=.75)\n",
    "\n",
    "plt.axhline(y=rms_error, color='gray', linestyle='--', linewidth=1, label=f'Média: {rms_error:.2f}')\n",
    "\n",
    "plt.xticks(rotation=45, ha='right')  # Rotacionar os rótulos das imagens para melhor visualização\n",
    "plt.tight_layout()  # Ajusta o layout para se encaixar bem na figura\n",
    "plt.show()"
   ]
  },
  {
   "cell_type": "code",
   "execution_count": 97,
   "metadata": {},
   "outputs": [
    {
     "data": {
      "text/plain": [
       "array([0.1757935 , 0.25652837, 0.21777606, 0.33345834, 0.23290805,\n",
       "       0.23010709, 0.21777606, 0.23617821, 0.21194765, 0.23897807])"
      ]
     },
     "execution_count": 97,
     "metadata": {},
     "output_type": "execute_result"
    }
   ],
   "source": [
    "perViewError"
   ]
  },
  {
   "cell_type": "code",
   "execution_count": 62,
   "metadata": {},
   "outputs": [],
   "source": [
    "def remove_images(limiar, error, images):\n",
    "    new_set = []\n",
    "\n",
    "    for idx, image in enumerate(images):\n",
    "\n",
    "        if perViewError[idx] > (limiar + error.std()):\n",
    "            new_set.append(image)\n",
    "\n",
    "    return new_set"
   ]
  },
  {
   "cell_type": "code",
   "execution_count": 224,
   "metadata": {},
   "outputs": [
    {
     "data": {
      "text/plain": [
       "['../../../images/virtual/15x11/original/new_workflow_test\\\\image41.jpg',\n",
       " '../../../images/virtual/15x11/original/new_workflow_test\\\\image14.jpg',\n",
       " '../../../images/virtual/15x11/original/new_workflow_test\\\\image48.jpg',\n",
       " '../../../images/virtual/15x11/original/new_workflow_test\\\\image42.jpg',\n",
       " '../../../images/virtual/15x11/original/new_workflow_test\\\\image36.jpg',\n",
       " '../../../images/virtual/15x11/original/new_workflow_test\\\\image32.jpg',\n",
       " '../../../images/virtual/15x11/original/new_workflow_test\\\\image4.jpg',\n",
       " '../../../images/virtual/15x11/original/new_workflow_test\\\\image33.jpg',\n",
       " '../../../images/virtual/15x11/original/new_workflow_test\\\\image35.jpg',\n",
       " '../../../images/virtual/15x11/original/new_workflow_test\\\\image37.jpg',\n",
       " '../../../images/virtual/15x11/original/new_workflow_test\\\\image9.jpg',\n",
       " '../../../images/virtual/15x11/original/new_workflow_test\\\\image12.jpg',\n",
       " '../../../images/virtual/15x11/original/new_workflow_test\\\\image31.jpg',\n",
       " '../../../images/virtual/15x11/original/new_workflow_test\\\\image43.jpg',\n",
       " '../../../images/virtual/15x11/original/new_workflow_test\\\\image13.jpg',\n",
       " '../../../images/virtual/15x11/original/new_workflow_test\\\\image38.jpg',\n",
       " '../../../images/virtual/15x11/original/new_workflow_test\\\\image16.jpg',\n",
       " '../../../images/virtual/15x11/original/new_workflow_test\\\\image26.jpg',\n",
       " '../../../images/virtual/15x11/original/new_workflow_test\\\\image47.jpg',\n",
       " '../../../images/virtual/15x11/original/new_workflow_test\\\\image34.jpg',\n",
       " '../../../images/virtual/15x11/original/new_workflow_test\\\\image23.jpg',\n",
       " '../../../images/virtual/15x11/original/new_workflow_test\\\\image46.jpg',\n",
       " '../../../images/virtual/15x11/original/new_workflow_test\\\\image39.jpg',\n",
       " '../../../images/virtual/15x11/original/new_workflow_test\\\\image27.jpg']"
      ]
     },
     "execution_count": 224,
     "metadata": {},
     "output_type": "execute_result"
    }
   ],
   "source": [
    "new_set = remove_images(limiar=rms_error, error = perViewError, images= image_set)\n",
    "\n",
    "for image in new_set:\n",
    "    image_set.remove(image)\n",
    "\n",
    "image_set"
   ]
  },
  {
   "cell_type": "code",
   "execution_count": 225,
   "metadata": {},
   "outputs": [
    {
     "data": {
      "text/plain": [
       "24"
      ]
     },
     "execution_count": 225,
     "metadata": {},
     "output_type": "execute_result"
    }
   ],
   "source": [
    "len(image_set)"
   ]
  },
  {
   "cell_type": "markdown",
   "metadata": {},
   "source": [
    "Calibração final - Divisão em Treino e teste"
   ]
  },
  {
   "cell_type": "code",
   "execution_count": 226,
   "metadata": {},
   "outputs": [
    {
     "name": "stdout",
     "output_type": "stream",
     "text": [
      "Corners found in 16 images\n",
      "RMS re-projection error: 0.31746385469361815\n",
      "The median re-projection error 0.32376785857613777\n",
      "Camera Matrix:\n",
      " [[412.67530463   0.         241.8385713 ]\n",
      " [  0.         412.51858645 239.52656472]\n",
      " [  0.           0.           1.        ]]\n",
      "Distortion Parameters:\n",
      " [[-2.44904712e+01  1.12539448e+02 -1.00004561e-04  1.37491090e-03\n",
      "   4.90537152e+02 -2.44835010e+01  1.12348171e+02  4.91847583e+02\n",
      "   0.00000000e+00  0.00000000e+00  0.00000000e+00  0.00000000e+00\n",
      "   0.00000000e+00  0.00000000e+00]]\n",
      "Median RMS error:  0.33525803718502734\n"
     ]
    }
   ],
   "source": [
    "zeros = np.zeros(len(image_set))\n",
    "\n",
    "images_train, images_test, _, _ = train_test_split(image_set, zeros, test_size=0.3) \n",
    "\n",
    "camera_matrix, distortion, rotation, translation, stdInt, stdExt, perViewError = calibrate(images_train, useFisheye = False, patternSize = (15,11), squareSize = 30)\n",
    "\n",
    "error = calculate_rms_error(image_set=images_test, pattern_size=(15,11), square_size= 30, camera_matrix=camera_matrix, distortion=distortion)"
   ]
  },
  {
   "cell_type": "markdown",
   "metadata": {},
   "source": [
    "Etapa K-fold Cross Validation - Encontrar indicadores de estabilidade\n"
   ]
  },
  {
   "cell_type": "code",
   "execution_count": 210,
   "metadata": {},
   "outputs": [],
   "source": [
    "from math import sqrt\n",
    "\n",
    "def extract_camera_parameters(camera_matrix, distortion):\n",
    "    \n",
    "    fx,fy = camera_matrix[0][0], camera_matrix[1][1]\n",
    "    cx,cy = camera_matrix[0][2], camera_matrix[1][2]\n",
    "\n",
    "    camera_parameters = [fx,fy,cx,cy]\n",
    "\n",
    "    for i in range(8):\n",
    "        camera_parameters.append(distortion[0][i])\n",
    "\n",
    "    return camera_parameters\n",
    "\n",
    "def cross_validation_camera (image_set, K = 10):\n",
    "\n",
    "    zeros = np.zeros(len(image_set))\n",
    "\n",
    "    errors_train = []\n",
    "    errors_test = []\n",
    "    camera_parameters = []\n",
    "\n",
    "    for i in range (K):\n",
    "    \n",
    "        images_train, images_test, _, _ = train_test_split(image_set, zeros, test_size=0.3)\n",
    "        \n",
    "        k_camera_matrix, k_distortion, _, _, _, _, _ = calibrate(images_train, useFisheye = False, patternSize = (15,11), squareSize = 30, details=False)\n",
    "\n",
    "        error_train = calculate_rms_error(image_set=images_train, pattern_size=(15,11), square_size= 30, camera_matrix=k_camera_matrix, distortion=k_distortion)\n",
    "        errors_train.append(error_train)\n",
    "\n",
    "        error_test = calculate_rms_error(image_set=images_test, pattern_size=(15,11), square_size= 30, camera_matrix=k_camera_matrix, distortion=k_distortion)\n",
    "        errors_test.append(error_test)\n",
    "\n",
    "        k_camera_parameters = extract_camera_parameters(k_camera_matrix, k_distortion)\n",
    "        camera_parameters.append(k_camera_parameters)\n",
    "\n",
    "        print('\\n')\n",
    "\n",
    "    # Calcular Sigma E e Delta E\n",
    "\n",
    "    print(\"Var E_train: \", np.var(errors_train, ddof=1))\n",
    "    print(\"Var E_test: \", np.var(errors_test,ddof=1))\n",
    "\n",
    "    print(\"Delta^2 E_KF: \", sqrt((np.var(errors_train, ddof=1) + np.var(errors_test, ddof=1))))\n",
    "    \n",
    "    return camera_parameters     \n"
   ]
  },
  {
   "cell_type": "code",
   "execution_count": null,
   "metadata": {},
   "outputs": [],
   "source": [
    "def cross_validation (images,K = 5):\n",
    "    indices  = np.arange(images.shape[0])\n",
    "    np.random.shuffle(indices)\n",
    "    images = images[indices]\n",
    "\n",
    "    fold_size = len(images) // K\n",
    "    \n",
    "    errors_train = []\n",
    "    errors_test = []\n",
    "    camera_parameters = []\n",
    "\n",
    "    for i in range(K):\n",
    "\n",
    "        # Determinar os índices para o conjunto de validação\n",
    "        start = i * fold_size\n",
    "        end = start + fold_size if i != K - 1 else len(images)\n",
    "        \n",
    "        images_test = images[start:end]\n",
    "        \n",
    "        # Determinar os índices para o conjunto de treinamento\n",
    "        images_train = np.concatenate([images[:start], images[end:]], axis=0)\n",
    "\n",
    "        k_camera_matrix, k_distortion, _, _, stdInt, stdExt, k_perViewError = calibrate(images_train, useFisheye = False, patternSize = (10,7), squareSize = 30, details=False)\n",
    "\n",
    "        error_train = calculate_rms_error(image_set=images_train, pattern_size=(10,7), square_size= 30, camera_matrix=k_camera_matrix, distortion=k_distortion)\n",
    "        errors_train.append(error_train)\n",
    "\n",
    "        error_test = calculate_rms_error(image_set=images_test, pattern_size=(10,7), square_size= 30, camera_matrix=k_camera_matrix, distortion=k_distortion)\n",
    "        errors_test.append(error_test)\n",
    "\n",
    "        k_camera_parameters = extract_camera_parameters(k_camera_matrix, k_distortion)\n",
    "        camera_parameters.append(k_camera_parameters)\n",
    "\n",
    "        print('\\n')\n",
    "\n",
    "    # Calcular Sigma E e Delta E\n",
    "\n",
    "    print(\"Var E_train: \", np.var(errors_train, ddof=1))\n",
    "    print(\"Var E_test: \", np.var(errors_test,ddof=1))\n",
    "\n",
    "    print(\"Delta^2 E_KF: \", (np.var(errors_train, ddof=1) + np.var(errors_test, ddof=1)))\n",
    "    print(\"\")\n",
    "    return "
   ]
  },
  {
   "cell_type": "code",
   "execution_count": 227,
   "metadata": {},
   "outputs": [
    {
     "name": "stdout",
     "output_type": "stream",
     "text": [
      "Corners found in 11 images\n",
      "Median RMS error:  0.3220588576387144\n",
      "Median RMS error:  0.33605950343121244\n",
      "\n",
      "\n",
      "Corners found in 11 images\n",
      "Median RMS error:  0.32663254124356067\n",
      "Median RMS error:  0.3625410745326988\n",
      "\n",
      "\n",
      "Corners found in 11 images\n",
      "Median RMS error:  0.31737831549081713\n",
      "Median RMS error:  0.36914123583385755\n",
      "\n",
      "\n",
      "Corners found in 11 images\n",
      "Median RMS error:  0.31942449429071795\n",
      "Median RMS error:  0.33208473064061816\n",
      "\n",
      "\n",
      "Corners found in 11 images\n",
      "Median RMS error:  0.325430440324258\n",
      "Median RMS error:  0.3627576327889525\n",
      "\n",
      "\n",
      "Corners found in 11 images\n",
      "Median RMS error:  0.32313830183695413\n",
      "Median RMS error:  0.33014788369875964\n",
      "\n",
      "\n",
      "Corners found in 11 images\n",
      "Median RMS error:  0.32903923245129296\n",
      "Median RMS error:  0.3274309231629512\n",
      "\n",
      "\n",
      "Corners found in 11 images\n",
      "Median RMS error:  0.2909282023979993\n",
      "Median RMS error:  0.364954349069753\n",
      "\n",
      "\n",
      "Corners found in 11 images\n",
      "Median RMS error:  0.3258082763083326\n",
      "Median RMS error:  0.2908961953658492\n",
      "\n",
      "\n",
      "Corners found in 11 images\n",
      "Median RMS error:  0.3239910449685031\n",
      "Median RMS error:  0.326541385135929\n",
      "\n",
      "\n",
      "Var E_train:  0.00011887194914976349\n",
      "Var E_test:  0.0006025367922534458\n",
      "Delta^2 E_KF:  0.026859053248452544\n"
     ]
    }
   ],
   "source": [
    "images_train = np.array(images_train)\n",
    "\n",
    "params = cross_validation_camera(image_set = images_train, K = 10)"
   ]
  },
  {
   "cell_type": "code",
   "execution_count": 51,
   "metadata": {},
   "outputs": [
    {
     "data": {
      "text/plain": [
       "[[419.311364420578,\n",
       "  419.39243661565035,\n",
       "  238.76432470714835,\n",
       "  239.16718270465205,\n",
       "  -9.26490259877276,\n",
       "  37.255278546573116,\n",
       "  -0.0019017883790058223,\n",
       "  -0.0012648172925884091,\n",
       "  375.5174263267767,\n",
       "  -9.258639112686899,\n",
       "  37.118277740766736,\n",
       "  375.3338236443298],\n",
       " [421.67726713793587,\n",
       "  421.1067042454853,\n",
       "  239.2630383067318,\n",
       "  239.4492230727626,\n",
       "  -21.087224107462767,\n",
       "  27.98833167666349,\n",
       "  0.00036883845457826644,\n",
       "  -0.00010733305195325253,\n",
       "  1011.02167129611,\n",
       "  -21.090462265962536,\n",
       "  28.08568061905864,\n",
       "  1010.2993829855685],\n",
       " [423.58101357766554,\n",
       "  423.2528339932131,\n",
       "  238.4421666063264,\n",
       "  241.15337856722542,\n",
       "  -7.463921960530319,\n",
       "  451.43343024543464,\n",
       "  0.0005049336836145405,\n",
       "  -0.0012831137421014382,\n",
       "  1290.188863706872,\n",
       "  -7.352969588908883,\n",
       "  449.56276615635664,\n",
       "  1298.3073069372515],\n",
       " [425.0396884636481,\n",
       "  424.4780550018046,\n",
       "  239.4368100306462,\n",
       "  240.310168542083,\n",
       "  -16.444443239441416,\n",
       "  -26.28712298794495,\n",
       "  0.0009541972253312361,\n",
       "  -0.00019490068479483623,\n",
       "  1010.0926012234869,\n",
       "  -16.466782678243096,\n",
       "  -25.746676562262117,\n",
       "  1006.7393216441973],\n",
       " [420.21813105145003,\n",
       "  420.1636147904504,\n",
       "  240.44645134333365,\n",
       "  240.33189112437987,\n",
       "  -47.7852001435792,\n",
       "  691.7584084805667,\n",
       "  -0.00033173602421224875,\n",
       "  0.00042100617833717676,\n",
       "  43.31977445160613,\n",
       "  -47.78210678541865,\n",
       "  691.9374963564003,\n",
       "  39.193399598002635],\n",
       " [419.83315685392176,\n",
       "  419.5845611778679,\n",
       "  241.50074655207356,\n",
       "  239.8302271685572,\n",
       "  -90.47345882883717,\n",
       "  2064.9445660764154,\n",
       "  0.0001340671961566099,\n",
       "  0.0018333734288543044,\n",
       "  -62.46478271987111,\n",
       "  -90.48691472987288,\n",
       "  2065.8728857183196,\n",
       "  -77.67330859144693],\n",
       " [420.9478261913116,\n",
       "  420.64697907005745,\n",
       "  240.46507512733646,\n",
       "  239.62975436177058,\n",
       "  -27.986318010733992,\n",
       "  175.54095293118775,\n",
       "  0.0003668134569605345,\n",
       "  0.0011601629633060553,\n",
       "  304.47724394317356,\n",
       "  -27.999281797761114,\n",
       "  175.91856358302778,\n",
       "  301.72455197052426],\n",
       " [420.86478293880134,\n",
       "  420.40306658614344,\n",
       "  238.9982261824664,\n",
       "  240.69713557208277,\n",
       "  -0.2679407528999408,\n",
       "  542.9224938101712,\n",
       "  5.234800600876925e-05,\n",
       "  -0.0006465451818710143,\n",
       "  994.0440862064836,\n",
       "  -0.1607220313737633,\n",
       "  540.7718301007405,\n",
       "  1004.1259222402668],\n",
       " [418.63438874524013,\n",
       "  418.2466616528022,\n",
       "  239.0638321030314,\n",
       "  240.2916739673473,\n",
       "  -38.88237893722665,\n",
       "  472.1195027315425,\n",
       "  0.00012797494432743568,\n",
       "  -0.0009116641742989456,\n",
       "  541.6405117655135,\n",
       "  -38.86102366648485,\n",
       "  471.50594883262494,\n",
       "  546.5532060056047],\n",
       " [422.16578607918603,\n",
       "  421.7597969148145,\n",
       "  241.01781656804127,\n",
       "  239.81839438951394,\n",
       "  6.086147221732985,\n",
       "  117.5997151142986,\n",
       "  0.00039415641324337344,\n",
       "  0.001681657599949383,\n",
       "  -0.1998709335766477,\n",
       "  6.109195031157656,\n",
       "  117.33348384565484,\n",
       "  -0.6133404003024113]]"
      ]
     },
     "execution_count": 51,
     "metadata": {},
     "output_type": "execute_result"
    }
   ],
   "source": [
    "params"
   ]
  },
  {
   "cell_type": "code",
   "execution_count": 60,
   "metadata": {},
   "outputs": [
    {
     "data": {
      "text/plain": [
       "array([[ 3.85811991e+00,  3.63054677e+00, -3.00536774e-01,\n",
       "         4.52306198e-01,  2.40908145e+01, -4.48138530e+02,\n",
       "         9.66704608e-04, -5.74179401e-05,  5.35126623e+02,\n",
       "         2.41029442e+01, -4.48304752e+02,  5.36871815e+02],\n",
       "       [ 3.63054677e+00,  3.44630210e+00, -2.80507339e-01,\n",
       "         4.17661194e-01,  2.26560116e+01, -4.21066811e+02,\n",
       "         8.32401598e-04, -7.36924212e-05,  4.79493839e+02,\n",
       "         2.26669917e+01, -4.21201434e+02,  4.80892029e+02],\n",
       "       [-3.00536774e-01, -2.80507339e-01,  1.08011252e+00,\n",
       "        -1.99431756e-01, -1.61502761e+01,  3.39245150e+02,\n",
       "         1.53450175e-04,  1.18014650e-03, -4.21214719e+02,\n",
       "        -1.61766300e+01,  3.39917992e+02, -4.26994113e+02],\n",
       "       [ 4.52306198e-01,  4.17661194e-01, -1.99431756e-01,\n",
       "         3.61936343e-01,  2.22982148e+00,  5.17359893e+01,\n",
       "         2.16346863e-04, -2.33078439e-04,  1.46784292e+02,\n",
       "         2.25066306e+00,  5.13360554e+01,  1.48994292e+02],\n",
       "       [ 2.40908145e+01,  2.26560116e+01, -1.61502761e+01,\n",
       "         2.22982148e+00,  8.03104606e+02, -1.45491887e+04,\n",
       "        -1.96445909e-04, -1.42663807e-02,  6.92780508e+03,\n",
       "         8.03753486e+02, -1.45658479e+04,  7.08035468e+03],\n",
       "       [-4.48138530e+02, -4.21066811e+02,  3.39245150e+02,\n",
       "         5.17359893e+01, -1.45491887e+04,  3.81825850e+05,\n",
       "         9.35130279e-03,  3.06607034e-01, -1.28988747e+05,\n",
       "        -1.45498871e+04,  3.81946451e+05, -1.31389920e+05],\n",
       "       [ 9.66704608e-04,  8.32401598e-04,  1.53450175e-04,\n",
       "         2.16346863e-04, -1.96445909e-04,  9.35130279e-03,\n",
       "         5.90053271e-07,  2.81101179e-07,  1.23927452e-01,\n",
       "        -1.94588741e-04,  9.34801087e-03,  1.23987487e-01],\n",
       "       [-5.74179401e-05, -7.36924212e-05,  1.18014650e-03,\n",
       "        -2.33078439e-04, -1.42663807e-02,  3.06607034e-01,\n",
       "         2.81101179e-07,  1.35666076e-06, -4.10499819e-01,\n",
       "        -1.42940643e-02,  3.07315465e-01, -4.16467466e-01],\n",
       "       [ 5.35126623e+02,  4.79493839e+02, -4.21214719e+02,\n",
       "         1.46784292e+02,  6.92780508e+03, -1.28988747e+05,\n",
       "         1.23927452e-01, -4.10499819e-01,  2.43847599e+05,\n",
       "         6.94043853e+03, -1.29279899e+05,  2.46171230e+05],\n",
       "       [ 2.41029442e+01,  2.26669917e+01, -1.61766300e+01,\n",
       "         2.25066306e+00,  8.03753486e+02, -1.45498871e+04,\n",
       "        -1.94588741e-04, -1.42940643e-02,  6.94043853e+03,\n",
       "         8.04404684e+02, -1.45665934e+04,  7.09326157e+03],\n",
       "       [-4.48304752e+02, -4.21201434e+02,  3.39917992e+02,\n",
       "         5.13360554e+01, -1.45658479e+04,  3.81946451e+05,\n",
       "         9.34801087e-03,  3.07315465e-01, -1.29279899e+05,\n",
       "        -1.45665934e+04,  3.82068061e+05, -1.31687583e+05],\n",
       "       [ 5.36871815e+02,  4.80892029e+02, -4.26994113e+02,\n",
       "         1.48994292e+02,  7.08035468e+03, -1.31389920e+05,\n",
       "         1.23987487e-01, -4.16467466e-01,  2.46171230e+05,\n",
       "         7.09326157e+03, -1.31687583e+05,  2.48545776e+05]])"
      ]
     },
     "execution_count": 60,
     "metadata": {},
     "output_type": "execute_result"
    }
   ],
   "source": [
    "params = np.array(params)\n",
    "cov = np.cov(params, rowvar=False)\n",
    "\n",
    "cov"
   ]
  }
 ],
 "metadata": {
  "kernelspec": {
   "display_name": "Python 3",
   "language": "python",
   "name": "python3"
  },
  "language_info": {
   "codemirror_mode": {
    "name": "ipython",
    "version": 3
   },
   "file_extension": ".py",
   "mimetype": "text/x-python",
   "name": "python",
   "nbconvert_exporter": "python",
   "pygments_lexer": "ipython3",
   "version": "3.11.9"
  }
 },
 "nbformat": 4,
 "nbformat_minor": 2
}
