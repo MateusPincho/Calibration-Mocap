{
 "cells": [
  {
   "cell_type": "code",
   "execution_count": 6,
   "metadata": {},
   "outputs": [],
   "source": [
    "#Mocap Arena Camera Calibrate Program\n",
    "#Mateus Pincho - calibrate intrisics using OpenCV\n",
    "from glob import glob\n",
    "import cv2\n",
    "import matplotlib.pyplot as plt\n",
    "import numpy as np"
   ]
  },
  {
   "cell_type": "code",
   "execution_count": 14,
   "metadata": {},
   "outputs": [],
   "source": [
    "#Reconstrução do tabuleiro\n",
    "def construct3DPoints(patternSize,squareSize):\n",
    "    X = np.zeros((patternSize[0]*patternSize[1],3), np.float32)\n",
    "    X[:,:2] = np.mgrid[0:patternSize[0],0:patternSize[1]].T.reshape(-1,2)\n",
    "    X = X * squareSize # Square size não interfere na calibração -> somente um fator de escala\n",
    "                       # o square size não é utilizado na calibração dos cara de stanford\n",
    "    return X\n",
    "\n",
    "#Detectando os corners\n",
    "def detectCorners(images, boardPoints, patternSize):\n",
    "    worldPoints = []\n",
    "    imagePoints = [] \n",
    "\n",
    "    img_size = 0\n",
    "    counter = 0\n",
    "    for fname in images:\n",
    "        img = cv2.imread(fname)\n",
    "        gray = cv2.cvtColor(img, cv2.COLOR_BGR2GRAY)\n",
    "        img_size = gray.shape[::-1]\n",
    "        ret, corners = cv2.findChessboardCornersSB(gray, patternSize, None)\n",
    "        if ret == True:\n",
    "            print(\"Corners found in image \" + str(fname)) #- see if corners are found \n",
    "            #corners2 = cv2.cornerSubPix(gray, corners, (11,11), (-1,-1), criteria=(cv2.TERM_CRITERIA_EPS + cv2.TERM_CRITERIA_MAX_ITER, 30, 0.001))\n",
    "            worldPoints.append(boardPoints)\n",
    "            imagePoints.append(corners)\n",
    "            counter+=1\n",
    "\n",
    "    print(\"Corners found in \" + str(counter) + \" images\")\n",
    "    print(img_size)\n",
    "    return worldPoints, imagePoints, img_size\n",
    "\n",
    "#Descobrindo os intrisicos, extrinsecos e o erro de reprojeção \n",
    "def calibrate(images, useFisheye, patternSize, squareSize):\n",
    "\n",
    "    boardPoints = construct3DPoints(patternSize, squareSize)\n",
    "\n",
    "    worldPoints, imagePoints, imgSize = detectCorners(images, boardPoints, patternSize)\n",
    "\n",
    "    if useFisheye:\n",
    "        flagsCalib = cv2.fisheye.CALIB_RECOMPUTE_EXTRINSIC+cv2.fisheye.CALIB_FIX_SKEW+cv2.fisheye.CALIB_CHECK_COND\n",
    "        calibrateCriteria = (cv2.TERM_CRITERIA_EPS+cv2.TERM_CRITERIA_MAX_ITER,30, 1e-12)\n",
    "\n",
    "        ret, cameraMatrix, k, R, t = cv2.fisheye.calibrate(np.expand_dims(np.asarray(worldPoints), -2), imagePoints, imgSize, None, None,\n",
    "                                                                    flags=flagsCalib,criteria=calibrateCriteria)\n",
    "    else:\n",
    "        flagsCalib = cv2.CALIB_RATIONAL_MODEL\n",
    "\n",
    "        ret, cameraMatrix, k, rvecs, tvecs, stdIntrinc, stdExtrinsic, perViewError = cv2.calibrateCameraExtended(worldPoints, imagePoints, imgSize, None, None,\n",
    "                                                                flags=flagsCalib)\n",
    "\n",
    "    print(\"RMS re-projection error:\", ret)\n",
    "    print(\"The median re-projection error\", np.median(perViewError))\n",
    "    print(\"Camera Matrix:\\n\", cameraMatrix)\n",
    "    print(\"Distortion Parameters:\\n\", k)\n",
    "\n",
    "    return cameraMatrix, k, rvecs, tvecs, stdIntrinc, stdExtrinsic, perViewError"
   ]
  },
  {
   "cell_type": "code",
   "execution_count": 8,
   "metadata": {},
   "outputs": [],
   "source": [
    "dataset    =  ['../../images/virtual/set_5/*.jpg',  # dataset[0]\n",
    "              '../../images/virtual/set_10/*.jpg',  # dataset[1]\n",
    "              '../../images/virtual/set_15/*.jpg',  # dataset[2]\n",
    "              '../../images/virtual/set_20/*.jpg',  # dataset[3]\n",
    "              '../../images/virtual/set_25/*.jpg']  # dataset[4]"
   ]
  },
  {
   "cell_type": "code",
   "execution_count": 16,
   "metadata": {},
   "outputs": [],
   "source": [
    "# escolha o conjunto de imagens\n",
    "image_set = glob(dataset[0])\n",
    "\n",
    "# defina os parâmetros da calibração\n",
    "pattern_size = (7,7)\n",
    "squareSize = 30\n",
    "useFisheye = False"
   ]
  },
  {
   "cell_type": "code",
   "execution_count": null,
   "metadata": {},
   "outputs": [],
   "source": []
  }
 ],
 "metadata": {
  "kernelspec": {
   "display_name": "Python 3",
   "language": "python",
   "name": "python3"
  },
  "language_info": {
   "codemirror_mode": {
    "name": "ipython",
    "version": 3
   },
   "file_extension": ".py",
   "mimetype": "text/x-python",
   "name": "python",
   "nbconvert_exporter": "python",
   "pygments_lexer": "ipython3",
   "version": "3.10.12"
  }
 },
 "nbformat": 4,
 "nbformat_minor": 2
}
