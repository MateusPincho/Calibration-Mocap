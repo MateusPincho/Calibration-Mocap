{
 "cells": [
  {
   "cell_type": "code",
   "execution_count": 30,
   "metadata": {},
   "outputs": [],
   "source": [
    "#Mocap Arena Camera Calibrate Program\n",
    "#Mateus Pincho - calibrate intrisics using OpenCV\n",
    "from glob import glob\n",
    "import cv2\n",
    "import matplotlib.pyplot as plt\n",
    "import numpy as np"
   ]
  },
  {
   "cell_type": "code",
   "execution_count": 31,
   "metadata": {},
   "outputs": [],
   "source": [
    "#Reconstrução do tabuleiro\n",
    "def construct3DPoints(patternSize,squareSize):\n",
    "    X = np.zeros((patternSize[0]*patternSize[1],3), np.float32)\n",
    "    X[:,:2] = np.mgrid[0:patternSize[0],0:patternSize[1]].T.reshape(-1,2)\n",
    "    X = X * squareSize # Square size não interfere na calibração -> somente um fator de escala\n",
    "                       # o square size não é utilizado na calibração dos cara de stanford\n",
    "    return X\n",
    "\n",
    "#Detectando os corners\n",
    "def detectCorners(images, boardPoints, patternSize):\n",
    "    worldPoints = []\n",
    "    imagePoints = [] \n",
    "\n",
    "    img_size = 0\n",
    "    counter = 0\n",
    "    for fname in images:\n",
    "        img = cv2.imread(fname)\n",
    "        gray = cv2.cvtColor(img, cv2.COLOR_BGR2GRAY)\n",
    "        img_size = gray.shape[::-1]\n",
    "        ret, corners = cv2.findChessboardCornersSB(gray, patternSize, None)\n",
    "        if ret == True:\n",
    "            print(\"Corners found in image \" + str(fname)) #- see if corners are found \n",
    "            #corners2 = cv2.cornerSubPix(gray, corners, (11,11), (-1,-1), criteria=(cv2.TERM_CRITERIA_EPS + cv2.TERM_CRITERIA_MAX_ITER, 30, 0.001))\n",
    "            worldPoints.append(boardPoints)\n",
    "            imagePoints.append(corners)\n",
    "            counter+=1\n",
    "\n",
    "    print(\"Corners found in \" + str(counter) + \" images\")\n",
    "    #print(img_size)\n",
    "    return worldPoints, imagePoints, img_size\n",
    "\n",
    "#Descobrindo os intrisicos, extrinsecos e o erro de reprojeção \n",
    "def calibrate(images, useFisheye, patternSize, squareSize):\n",
    "\n",
    "    boardPoints = construct3DPoints(patternSize, squareSize)\n",
    "\n",
    "    worldPoints, imagePoints, imgSize = detectCorners(images, boardPoints, patternSize)\n",
    "\n",
    "    if useFisheye:\n",
    "        flagsCalib = cv2.fisheye.CALIB_RECOMPUTE_EXTRINSIC+cv2.fisheye.CALIB_FIX_SKEW+cv2.fisheye.CALIB_CHECK_COND\n",
    "        calibrateCriteria = (cv2.TERM_CRITERIA_EPS+cv2.TERM_CRITERIA_MAX_ITER,30, 1e-12)\n",
    "\n",
    "        ret, cameraMatrix, k, R, t = cv2.fisheye.calibrate(np.expand_dims(np.asarray(worldPoints), -2), imagePoints, imgSize, None, None,\n",
    "                                                                    flags=flagsCalib,criteria=calibrateCriteria)\n",
    "    else:\n",
    "        flagsCalib = cv2.CALIB_RATIONAL_MODEL\n",
    "\n",
    "        ret, cameraMatrix, k, rvecs, tvecs, stdIntrinc, stdExtrinsic, perViewError = cv2.calibrateCameraExtended(worldPoints, imagePoints, imgSize, None, None,\n",
    "                                                                flags=flagsCalib)\n",
    "\n",
    "    print(\"RMS re-projection error:\", ret)\n",
    "    print(\"The median re-projection error\", np.median(perViewError))\n",
    "    print(\"Camera Matrix:\\n\", cameraMatrix)\n",
    "    print(\"Distortion Parameters:\\n\", k)\n",
    "\n",
    "    return cameraMatrix, k, rvecs, tvecs, stdIntrinc, stdExtrinsic, perViewError"
   ]
  },
  {
   "cell_type": "code",
   "execution_count": 32,
   "metadata": {},
   "outputs": [],
   "source": [
    "dataset    =  ['../../images/virtual/set_5/*.jpg',  # dataset[0]\n",
    "              '../../images/virtual/set_10/*.jpg',  # dataset[1]\n",
    "              '../../images/virtual/set_15/*.jpg',  # dataset[2]\n",
    "              '../../images/virtual/set_20/*.jpg',  # dataset[3]\n",
    "              '../../images/virtual/set_25/*.jpg']  # dataset[4]"
   ]
  },
  {
   "cell_type": "code",
   "execution_count": 33,
   "metadata": {},
   "outputs": [],
   "source": [
    "# escolha o conjunto de imagens\n",
    "image_set = glob(dataset[1])\n",
    "\n",
    "# defina os parâmetros da calibração\n",
    "pattern_size = (7,7)\n",
    "square_size = 30\n",
    "useFisheye = False"
   ]
  },
  {
   "cell_type": "code",
   "execution_count": 34,
   "metadata": {},
   "outputs": [
    {
     "name": "stdout",
     "output_type": "stream",
     "text": [
      "Corners found in image ../../images/virtual/set_10/image10.jpg\n",
      "Corners found in image ../../images/virtual/set_10/image4.jpg\n",
      "Corners found in image ../../images/virtual/set_10/image8.jpg\n"
     ]
    },
    {
     "name": "stdout",
     "output_type": "stream",
     "text": [
      "Corners found in image ../../images/virtual/set_10/image1.jpg\n",
      "Corners found in image ../../images/virtual/set_10/image9.jpg\n",
      "Corners found in image ../../images/virtual/set_10/image6.jpg\n",
      "Corners found in image ../../images/virtual/set_10/image7.jpg\n",
      "Corners found in image ../../images/virtual/set_10/image2.jpg\n",
      "Corners found in image ../../images/virtual/set_10/image3.jpg\n",
      "Corners found in image ../../images/virtual/set_10/image5.jpg\n",
      "Corners found in 10 images\n",
      "RMS re-projection error: 0.26582710684439875\n",
      "The median re-projection error 0.2427068972102226\n",
      "Camera Matrix:\n",
      " [[415.49498276   0.         239.65111064]\n",
      " [  0.         415.46007245 238.55385495]\n",
      " [  0.           0.           1.        ]]\n",
      "Distortion Parameters:\n",
      " [[-1.40439541e+01 -2.18639606e+01 -8.47167306e-04 -4.93616468e-04\n",
      "   7.92350158e+02 -1.40656846e+01 -2.14351927e+01  7.90053531e+02\n",
      "   0.00000000e+00  0.00000000e+00  0.00000000e+00  0.00000000e+00\n",
      "   0.00000000e+00  0.00000000e+00]]\n"
     ]
    }
   ],
   "source": [
    "camera_matrix, distortion, rotation, translation, _, _, _ = calibrate(image_set, useFisheye, pattern_size, square_size)"
   ]
  },
  {
   "cell_type": "code",
   "execution_count": 35,
   "metadata": {},
   "outputs": [
    {
     "name": "stdout",
     "output_type": "stream",
     "text": [
      "Mean Error of Image ../../images/virtual/set_10/image10.jpg: 0.03469918832396297 px\n",
      "Mean Error of Image ../../images/virtual/set_10/image4.jpg: 0.032896305007500085 px\n",
      "Mean Error of Image ../../images/virtual/set_10/image8.jpg: 0.03200373419060967 px\n",
      "Mean Error of Image ../../images/virtual/set_10/image1.jpg: 0.03843584868272413 px\n",
      "Mean Error of Image ../../images/virtual/set_10/image9.jpg: 0.05405853188913834 px\n",
      "Mean Error of Image ../../images/virtual/set_10/image6.jpg: 0.03224344376830129 px\n",
      "Mean Error of Image ../../images/virtual/set_10/image7.jpg: 0.05214121084900289 px\n",
      "Mean Error of Image ../../images/virtual/set_10/image2.jpg: 0.030879152946113524 px\n",
      "Mean Error of Image ../../images/virtual/set_10/image3.jpg: 0.03718199001073157 px\n",
      "Mean Error of Image ../../images/virtual/set_10/image5.jpg: 0.02948553551028449 px\n",
      "Median error:  0.03379774666573153\n"
     ]
    }
   ],
   "source": [
    "# Mean Error\n",
    "\n",
    "rvecs = []\n",
    "tvecs = []\n",
    "errors = []\n",
    "\n",
    "board_points = construct3DPoints(pattern_size, square_size)\n",
    "\n",
    "for image in image_set:\n",
    "    img = cv2.imread(image)\n",
    "    gray = cv2.cvtColor(img, cv2.COLOR_BGR2GRAY)\n",
    "    ret, corners = cv2.findChessboardCornersSB(gray, pattern_size, None)\n",
    "    _, rvec, tvec = cv2.solvePnP(board_points, corners, camera_matrix, 0)\n",
    "    rvecs.append(rvec)\n",
    "    tvecs.append(tvecs)\n",
    "\n",
    "    image_points, _ = cv2.projectPoints(board_points, rvec, tvec, camera_matrix, 0)\n",
    "\n",
    "    error = cv2.norm(corners, image_points, normType= cv2.NORM_L2) / len(image_points)\n",
    "    errors.append(error)\n",
    "\n",
    "    print(f\"Mean Error of Image {image}:\", error, \"px\")\n",
    "\n",
    "print(\"Median error: \", np.median(errors))"
   ]
  },
  {
   "cell_type": "code",
   "execution_count": 36,
   "metadata": {},
   "outputs": [
    {
     "name": "stdout",
     "output_type": "stream",
     "text": [
      "RMS Error of Image ../../images/virtual/set_10/image10.jpg: 0.2428943182677408 px\n",
      "RMS Error of Image ../../images/virtual/set_10/image4.jpg: 0.23027413505250058 px\n",
      "RMS Error of Image ../../images/virtual/set_10/image8.jpg: 0.2240261393342677 px\n",
      "RMS Error of Image ../../images/virtual/set_10/image1.jpg: 0.2690509407790689 px\n",
      "RMS Error of Image ../../images/virtual/set_10/image9.jpg: 0.3784097232239684 px\n",
      "RMS Error of Image ../../images/virtual/set_10/image6.jpg: 0.22570410637810898 px\n",
      "RMS Error of Image ../../images/virtual/set_10/image7.jpg: 0.36498847594302025 px\n",
      "RMS Error of Image ../../images/virtual/set_10/image2.jpg: 0.21615407062279468 px\n",
      "RMS Error of Image ../../images/virtual/set_10/image3.jpg: 0.260273930075121 px\n",
      "RMS Error of Image ../../images/virtual/set_10/image5.jpg: 0.20639874857199142 px\n",
      "Median RMS error:  0.2365842266601207\n"
     ]
    }
   ],
   "source": [
    "# erro RMS\n",
    "from math import sqrt\n",
    "rvecs = []\n",
    "tvecs = []\n",
    "errors = []\n",
    "\n",
    "board_points = construct3DPoints(pattern_size, square_size)\n",
    "\n",
    "for image in image_set:\n",
    "    img = cv2.imread(image)\n",
    "    gray = cv2.cvtColor(img, cv2.COLOR_BGR2GRAY)\n",
    "    ret, corners = cv2.findChessboardCornersSB(gray, pattern_size, None)\n",
    "    _, rvec, tvec = cv2.solvePnP(board_points, corners, camera_matrix, 0)\n",
    "    rvecs.append(rvec)\n",
    "    tvecs.append(tvecs)\n",
    "\n",
    "    image_points, _ = cv2.projectPoints(board_points, rvec, tvec, camera_matrix, 0)\n",
    "\n",
    "    error = cv2.norm(corners, image_points, normType= cv2.NORM_L2) / sqrt(len(image_points))\n",
    "    errors.append(error)\n",
    "\n",
    "    print(f\"RMS Error of Image {image}:\", error, \"px\")\n",
    "\n",
    "print(\"Median RMS error: \", np.median(errors))"
   ]
  }
 ],
 "metadata": {
  "kernelspec": {
   "display_name": "Python 3",
   "language": "python",
   "name": "python3"
  },
  "language_info": {
   "codemirror_mode": {
    "name": "ipython",
    "version": 3
   },
   "file_extension": ".py",
   "mimetype": "text/x-python",
   "name": "python",
   "nbconvert_exporter": "python",
   "pygments_lexer": "ipython3",
   "version": "3.10.12"
  }
 },
 "nbformat": 4,
 "nbformat_minor": 2
}
