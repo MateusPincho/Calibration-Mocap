{
 "cells": [
  {
   "cell_type": "code",
   "execution_count": 149,
   "metadata": {},
   "outputs": [],
   "source": [
    "#Mocap Arena Camera Calibrate Program\n",
    "#Mateus Pincho - calibrate intrisics using OpenCV\n",
    "from glob import glob\n",
    "import cv2\n",
    "import matplotlib.pyplot as plt\n",
    "import numpy as np"
   ]
  },
  {
   "cell_type": "code",
   "execution_count": 150,
   "metadata": {},
   "outputs": [],
   "source": [
    "#Reconstrução do tabuleiro\n",
    "def construct3DPoints(patternSize,squareSize):\n",
    "    X = np.zeros((patternSize[0]*patternSize[1],3), np.float32)\n",
    "    X[:,:2] = np.mgrid[0:patternSize[0],0:patternSize[1]].T.reshape(-1,2)\n",
    "    X = X * squareSize # Square size não interfere na calibração -> somente um fator de escala\n",
    "                       # o square size não é utilizado na calibração dos cara de stanford\n",
    "    return X\n",
    "\n",
    "#Detectando os corners\n",
    "def detectCorners(images, boardPoints, patternSize):\n",
    "    worldPoints = []\n",
    "    imagePoints = [] \n",
    "\n",
    "    img_size = 0\n",
    "    counter = 0\n",
    "    for fname in images:\n",
    "        img = cv2.imread(fname)\n",
    "        gray = cv2.cvtColor(img, cv2.COLOR_BGR2GRAY)\n",
    "        img_size = gray.shape[::-1]\n",
    "        ret, corners = cv2.findChessboardCornersSB(gray, patternSize, None)\n",
    "        if ret == True:\n",
    "            print(\"Corners found in image \" + str(fname)) #- see if corners are found \n",
    "            #corners2 = cv2.cornerSubPix(gray, corners, (11,11), (-1,-1), criteria=(cv2.TERM_CRITERIA_EPS + cv2.TERM_CRITERIA_MAX_ITER, 30, 0.001))\n",
    "            worldPoints.append(boardPoints)\n",
    "            imagePoints.append(corners)\n",
    "            counter+=1\n",
    "\n",
    "    print(\"Corners found in \" + str(counter) + \" images\")\n",
    "    #print(img_size)\n",
    "    return worldPoints, imagePoints, img_size\n",
    "\n",
    "#Descobrindo os intrisicos, extrinsecos e o erro de reprojeção \n",
    "def calibrate(images, useFisheye, patternSize, squareSize):\n",
    "\n",
    "    boardPoints = construct3DPoints(patternSize, squareSize)\n",
    "\n",
    "    worldPoints, imagePoints, imgSize = detectCorners(images, boardPoints, patternSize)\n",
    "\n",
    "    if useFisheye:\n",
    "        flagsCalib = cv2.fisheye.CALIB_RECOMPUTE_EXTRINSIC+cv2.fisheye.CALIB_FIX_SKEW+cv2.fisheye.CALIB_CHECK_COND\n",
    "        calibrateCriteria = (cv2.TERM_CRITERIA_EPS+cv2.TERM_CRITERIA_MAX_ITER,30, 1e-12)\n",
    "\n",
    "        ret, cameraMatrix, k, R, t = cv2.fisheye.calibrate(np.expand_dims(np.asarray(worldPoints), -2), imagePoints, imgSize, None, None,\n",
    "                                                                    flags=flagsCalib,criteria=calibrateCriteria)\n",
    "    else:\n",
    "        flagsCalib = cv2.CALIB_RATIONAL_MODEL\n",
    "\n",
    "        ret, cameraMatrix, k, rvecs, tvecs, stdIntrinc, stdExtrinsic, perViewError = cv2.calibrateCameraExtended(worldPoints, imagePoints, imgSize, None, None,\n",
    "                                                                flags=flagsCalib)\n",
    "\n",
    "    print(\"RMS re-projection error:\", ret)\n",
    "    print(\"The median re-projection error\", np.median(perViewError))\n",
    "    print(\"Camera Matrix:\\n\", cameraMatrix)\n",
    "    print(\"Distortion Parameters:\\n\", k)\n",
    "\n",
    "    return cameraMatrix, k, rvecs, tvecs, stdIntrinc, stdExtrinsic, perViewError"
   ]
  },
  {
   "cell_type": "code",
   "execution_count": 151,
   "metadata": {},
   "outputs": [],
   "source": [
    "dataset    =  ['../../images/virtual/set_5/*.jpg',  # dataset[0]\n",
    "              '../../images/virtual/set_10/*.jpg',  # dataset[1]\n",
    "              '../../images/virtual/set_15/*.jpg',  # dataset[2]\n",
    "              '../../images/virtual/set_20/*.jpg',  # dataset[3]\n",
    "              '../../images/virtual/set_25/*.jpg',  # dataset[4]\n",
    "              '../../images/chess/opencv/*.jpg']    # dataset[5]"
   ]
  },
  {
   "cell_type": "code",
   "execution_count": 227,
   "metadata": {},
   "outputs": [],
   "source": [
    "# escolha o conjunto de imagens\n",
    "image_set = glob(dataset[0])\n",
    "\n",
    "# defina os parâmetros da calibração\n",
    "pattern_size = (7,7)\n",
    "square_size = 30\n",
    "useFisheye = False"
   ]
  },
  {
   "cell_type": "code",
   "execution_count": 228,
   "metadata": {},
   "outputs": [],
   "source": [
    "# # formar os conjuntos de dataset para analisar\n",
    "# import random\n",
    "\n",
    "# num_5 = random.sample(range(1,21),5)\n",
    "\n",
    "# image_set_5 = [image_set[i] for i in num_5]"
   ]
  },
  {
   "cell_type": "code",
   "execution_count": 229,
   "metadata": {},
   "outputs": [
    {
     "name": "stdout",
     "output_type": "stream",
     "text": [
      "['../../images/chess/opencv/left06.jpg', '../../images/chess/opencv/right08.jpg', '../../images/chess/opencv/right02.jpg', '../../images/chess/opencv/left14.jpg', '../../images/chess/opencv/left05.jpg']\n"
     ]
    }
   ],
   "source": [
    "# check the image_set\n",
    "print(image_set_5)"
   ]
  },
  {
   "cell_type": "code",
   "execution_count": 230,
   "metadata": {},
   "outputs": [
    {
     "name": "stdout",
     "output_type": "stream",
     "text": [
      "Corners found in image ../../images/virtual/set_5/image4.jpg\n",
      "Corners found in image ../../images/virtual/set_5/image1.jpg\n",
      "Corners found in image ../../images/virtual/set_5/image2.jpg\n"
     ]
    },
    {
     "name": "stdout",
     "output_type": "stream",
     "text": [
      "Corners found in image ../../images/virtual/set_5/image3.jpg\n",
      "Corners found in image ../../images/virtual/set_5/image5.jpg\n",
      "Corners found in 5 images\n",
      "RMS re-projection error: 0.23174696824654417\n",
      "The median re-projection error 0.22990884012875903\n",
      "Camera Matrix:\n",
      " [[422.14661882   0.         238.57909834]\n",
      " [  0.         421.805195   239.85147633]\n",
      " [  0.           0.           1.        ]]\n",
      "Distortion Parameters:\n",
      " [[ 8.57694379e+01 -3.63430067e+02  3.73762212e-05  4.32801116e-04\n",
      "  -8.65594325e+02  8.59439982e+01 -3.64239568e+02 -8.66586078e+02\n",
      "   0.00000000e+00  0.00000000e+00  0.00000000e+00  0.00000000e+00\n",
      "   0.00000000e+00  0.00000000e+00]]\n"
     ]
    }
   ],
   "source": [
    "camera_matrix, distortion, rotation, translation, _, _, _ = calibrate(image_set, useFisheye, pattern_size, square_size)"
   ]
  },
  {
   "cell_type": "code",
   "execution_count": 231,
   "metadata": {},
   "outputs": [
    {
     "name": "stdout",
     "output_type": "stream",
     "text": [
      "Mean Error of Image ../../images/virtual/set_5/image4.jpg: 0.034592071090129774 px\n",
      "Mean Error of Image ../../images/virtual/set_5/image1.jpg: 0.02987550610222366 px\n",
      "Mean Error of Image ../../images/virtual/set_5/image2.jpg: 0.036186184167423995 px\n",
      "Mean Error of Image ../../images/virtual/set_5/image3.jpg: 0.032382637287874536 px\n",
      "Mean Error of Image ../../images/virtual/set_5/image5.jpg: 0.03276358300447476 px\n",
      "Median error:  0.03276358300447476\n"
     ]
    }
   ],
   "source": [
    "# Mean Error\n",
    "\n",
    "rvecs = []\n",
    "tvecs = []\n",
    "errors = []\n",
    "\n",
    "board_points = construct3DPoints(pattern_size, square_size)\n",
    "board_points = board_points.astype('float32')\n",
    "\n",
    "for image in image_set:\n",
    "    img = cv2.imread(image)\n",
    "    gray = cv2.cvtColor(img, cv2.COLOR_BGR2GRAY)\n",
    "    ret, detected_image_points = cv2.findChessboardCornersSB(gray, pattern_size, None)\n",
    "\n",
    "    if ret == True:\n",
    "        #detected_image_points = cv2.cornerSubPix(gray, detected_image_points, (11,11), (-1,-1), criteria=(cv2.TERM_CRITERIA_EPS + cv2.TERM_CRITERIA_MAX_ITER, 30, 0.001))\n",
    "\n",
    "        _, rvec, tvec = cv2.solvePnP(board_points, detected_image_points, camera_matrix, 0)\n",
    "        rvecs.append(rvec)\n",
    "        tvecs.append(tvecs)\n",
    "\n",
    "        projected_image_points, _ = cv2.projectPoints(board_points, rvec, tvec, camera_matrix, 0)\n",
    "\n",
    "        error = cv2.norm(detected_image_points, projected_image_points, normType= cv2.NORM_L2) / len(projected_image_points)\n",
    "\n",
    "        \n",
    "        errors.append(error)\n",
    "\n",
    "        print(f\"Mean Error of Image {image}:\", error, \"px\")\n",
    "\n",
    "print(\"Median error: \", np.median(errors))"
   ]
  },
  {
   "cell_type": "code",
   "execution_count": 232,
   "metadata": {},
   "outputs": [
    {
     "name": "stdout",
     "output_type": "stream",
     "text": [
      "RMS Error of Image ../../images/virtual/set_5/image4.jpg: 0.2421444976309084 px\n",
      "RMS Error of Image ../../images/virtual/set_5/image1.jpg: 0.2091285427155656 px\n",
      "RMS Error of Image ../../images/virtual/set_5/image2.jpg: 0.2533032891719679 px\n",
      "RMS Error of Image ../../images/virtual/set_5/image3.jpg: 0.22667846101512176 px\n",
      "RMS Error of Image ../../images/virtual/set_5/image5.jpg: 0.2293450810313233 px\n",
      "Median RMS error:  0.2293450810313233\n"
     ]
    }
   ],
   "source": [
    "# erro RMS\n",
    "from math import sqrt\n",
    "rvecs = []\n",
    "tvecs = []\n",
    "errors = []\n",
    "\n",
    "board_points = construct3DPoints(pattern_size, square_size)\n",
    "\n",
    "for image in image_set:\n",
    "    img = cv2.imread(image)\n",
    "    gray = cv2.cvtColor(img, cv2.COLOR_BGR2GRAY)\n",
    "    ret, corners = cv2.findChessboardCornersSB(gray, pattern_size, None)\n",
    "\n",
    "    if ret == True:\n",
    "\n",
    "        _, rvec, tvec = cv2.solvePnP(board_points, corners, camera_matrix, 0)\n",
    "        rvecs.append(rvec)\n",
    "        tvecs.append(tvecs)\n",
    "\n",
    "        image_points, _ = cv2.projectPoints(board_points, rvec, tvec, camera_matrix, 0)\n",
    "\n",
    "        error = cv2.norm(corners, image_points, normType= cv2.NORM_L2) / sqrt(len(image_points))\n",
    "        errors.append(error)\n",
    "\n",
    "        print(f\"RMS Error of Image {image}:\", error, \"px\")\n",
    "\n",
    "print(\"Median RMS error: \", np.median(errors))"
   ]
  },
  {
   "cell_type": "code",
   "execution_count": 233,
   "metadata": {},
   "outputs": [
    {
     "data": {
      "text/plain": [
       "0.2656958443777902"
      ]
     },
     "execution_count": 233,
     "metadata": {},
     "output_type": "execute_result"
    }
   ],
   "source": [
    "error = corners - image_points\n",
    "\n",
    "error = error.reshape(pattern_size[0]*pattern_size[1],2)\n",
    "\n",
    "# error_x = error[:,0]\n",
    "# error_y = \n",
    "\n",
    "np.sum(np.absolute(error)) / len(error) "
   ]
  },
  {
   "cell_type": "code",
   "execution_count": 234,
   "metadata": {},
   "outputs": [
    {
     "ename": "SyntaxError",
     "evalue": "invalid syntax (1126110346.py, line 1)",
     "output_type": "error",
     "traceback": [
      "\u001b[0;36m  Cell \u001b[0;32mIn[234], line 1\u001b[0;36m\u001b[0m\n\u001b[0;31m    sqrt(sum((src1(:) - src2(:)).^2))\u001b[0m\n\u001b[0m                   ^\u001b[0m\n\u001b[0;31mSyntaxError\u001b[0m\u001b[0;31m:\u001b[0m invalid syntax\n"
     ]
    }
   ],
   "source": [
    "sqrt(sum((src1(:) - src2(:)).^2))"
   ]
  }
 ],
 "metadata": {
  "kernelspec": {
   "display_name": "Python 3",
   "language": "python",
   "name": "python3"
  },
  "language_info": {
   "codemirror_mode": {
    "name": "ipython",
    "version": 3
   },
   "file_extension": ".py",
   "mimetype": "text/x-python",
   "name": "python",
   "nbconvert_exporter": "python",
   "pygments_lexer": "ipython3",
   "version": "3.10.12"
  }
 },
 "nbformat": 4,
 "nbformat_minor": 2
}
