{
 "cells": [
  {
   "cell_type": "code",
   "execution_count": 2,
   "metadata": {},
   "outputs": [
    {
     "name": "stdout",
     "output_type": "stream",
     "text": [
      "Defaulting to user installation because normal site-packages is not writeable\n",
      "Requirement already satisfied: torchmetrics in /home/mateuspincho/.local/lib/python3.10/site-packages (1.4.0)\n",
      "Requirement already satisfied: omegaconf in /home/mateuspincho/.local/lib/python3.10/site-packages (2.3.0)\n",
      "Requirement already satisfied: pycolmap in /home/mateuspincho/.local/lib/python3.10/site-packages (0.6.1)\n",
      "Requirement already satisfied: torch>=1.10.0 in /home/mateuspincho/.local/lib/python3.10/site-packages (from torchmetrics) (2.2.2)\n",
      "Requirement already satisfied: pretty-errors==1.2.25 in /home/mateuspincho/.local/lib/python3.10/site-packages (from torchmetrics) (1.2.25)\n",
      "Requirement already satisfied: packaging>17.1 in /home/mateuspincho/.local/lib/python3.10/site-packages (from torchmetrics) (23.2)\n",
      "Requirement already satisfied: lightning-utilities>=0.8.0 in /home/mateuspincho/.local/lib/python3.10/site-packages (from torchmetrics) (0.11.2)\n",
      "Requirement already satisfied: numpy>1.20.0 in /home/mateuspincho/.local/lib/python3.10/site-packages (from torchmetrics) (1.26.2)\n",
      "Requirement already satisfied: colorama in /usr/lib/python3/dist-packages (from pretty-errors==1.2.25->torchmetrics) (0.4.4)\n",
      "Requirement already satisfied: antlr4-python3-runtime==4.9.* in /home/mateuspincho/.local/lib/python3.10/site-packages (from omegaconf) (4.9.3)\n",
      "Requirement already satisfied: PyYAML>=5.1.0 in /usr/lib/python3/dist-packages (from omegaconf) (5.4.1)\n",
      "Requirement already satisfied: typing-extensions in /home/mateuspincho/.local/lib/python3.10/site-packages (from lightning-utilities>=0.8.0->torchmetrics) (4.11.0)\n",
      "Requirement already satisfied: setuptools in /usr/lib/python3/dist-packages (from lightning-utilities>=0.8.0->torchmetrics) (59.6.0)\n",
      "Requirement already satisfied: nvidia-cufft-cu12==11.0.2.54 in /home/mateuspincho/.local/lib/python3.10/site-packages (from torch>=1.10.0->torchmetrics) (11.0.2.54)\n",
      "Requirement already satisfied: sympy in /home/mateuspincho/.local/lib/python3.10/site-packages (from torch>=1.10.0->torchmetrics) (1.12)\n",
      "Requirement already satisfied: nvidia-cuda-cupti-cu12==12.1.105 in /home/mateuspincho/.local/lib/python3.10/site-packages (from torch>=1.10.0->torchmetrics) (12.1.105)\n",
      "Requirement already satisfied: nvidia-cublas-cu12==12.1.3.1 in /home/mateuspincho/.local/lib/python3.10/site-packages (from torch>=1.10.0->torchmetrics) (12.1.3.1)\n",
      "Requirement already satisfied: nvidia-cuda-runtime-cu12==12.1.105 in /home/mateuspincho/.local/lib/python3.10/site-packages (from torch>=1.10.0->torchmetrics) (12.1.105)\n",
      "Requirement already satisfied: nvidia-cusparse-cu12==12.1.0.106 in /home/mateuspincho/.local/lib/python3.10/site-packages (from torch>=1.10.0->torchmetrics) (12.1.0.106)\n",
      "Requirement already satisfied: fsspec in /home/mateuspincho/.local/lib/python3.10/site-packages (from torch>=1.10.0->torchmetrics) (2024.2.0)\n",
      "Requirement already satisfied: nvidia-curand-cu12==10.3.2.106 in /home/mateuspincho/.local/lib/python3.10/site-packages (from torch>=1.10.0->torchmetrics) (10.3.2.106)\n",
      "Requirement already satisfied: triton==2.2.0 in /home/mateuspincho/.local/lib/python3.10/site-packages (from torch>=1.10.0->torchmetrics) (2.2.0)\n",
      "Requirement already satisfied: nvidia-cuda-nvrtc-cu12==12.1.105 in /home/mateuspincho/.local/lib/python3.10/site-packages (from torch>=1.10.0->torchmetrics) (12.1.105)\n",
      "Requirement already satisfied: networkx in /home/mateuspincho/.local/lib/python3.10/site-packages (from torch>=1.10.0->torchmetrics) (3.3)\n",
      "Requirement already satisfied: jinja2 in /home/mateuspincho/.local/lib/python3.10/site-packages (from torch>=1.10.0->torchmetrics) (3.1.3)\n",
      "Requirement already satisfied: nvidia-cusolver-cu12==11.4.5.107 in /home/mateuspincho/.local/lib/python3.10/site-packages (from torch>=1.10.0->torchmetrics) (11.4.5.107)\n",
      "Requirement already satisfied: nvidia-cudnn-cu12==8.9.2.26 in /home/mateuspincho/.local/lib/python3.10/site-packages (from torch>=1.10.0->torchmetrics) (8.9.2.26)\n",
      "Requirement already satisfied: nvidia-nccl-cu12==2.19.3 in /home/mateuspincho/.local/lib/python3.10/site-packages (from torch>=1.10.0->torchmetrics) (2.19.3)\n",
      "Requirement already satisfied: filelock in /home/mateuspincho/.local/lib/python3.10/site-packages (from torch>=1.10.0->torchmetrics) (3.13.4)\n",
      "Requirement already satisfied: nvidia-nvtx-cu12==12.1.105 in /home/mateuspincho/.local/lib/python3.10/site-packages (from torch>=1.10.0->torchmetrics) (12.1.105)\n",
      "Requirement already satisfied: nvidia-nvjitlink-cu12 in /home/mateuspincho/.local/lib/python3.10/site-packages (from nvidia-cusolver-cu12==11.4.5.107->torch>=1.10.0->torchmetrics) (12.4.127)\n",
      "Requirement already satisfied: MarkupSafe>=2.0 in /home/mateuspincho/.local/lib/python3.10/site-packages (from jinja2->torch>=1.10.0->torchmetrics) (2.1.5)\n",
      "Requirement already satisfied: mpmath>=0.19 in /home/mateuspincho/.local/lib/python3.10/site-packages (from sympy->torch>=1.10.0->torchmetrics) (1.3.0)\n"
     ]
    }
   ],
   "source": [
    "!pip install torchmetrics omegaconf pycolmap"
   ]
  },
  {
   "cell_type": "code",
   "execution_count": 3,
   "metadata": {},
   "outputs": [
    {
     "name": "stdout",
     "output_type": "stream",
     "text": [
      "PyTorch version :  2.2.2+cu121\n",
      "\n",
      "TorchVisoion Version :  0.17.2+cu121\n"
     ]
    }
   ],
   "source": [
    "# check pytorch and pytorch.vision versions\n",
    "import torch\n",
    "import torchvision\n",
    "from glob import glob\n",
    "import numpy as np\n",
    "import cv2\n",
    "\n",
    "print(\"PyTorch version : \", torch.__version__)\n",
    "print(\"\\nTorchVisoion Version : \", torchvision.__version__)"
   ]
  },
  {
   "cell_type": "code",
   "execution_count": 4,
   "metadata": {},
   "outputs": [
    {
     "name": "stderr",
     "output_type": "stream",
     "text": [
      "Using cache found in /home/mateuspincho/.cache/torch/hub/AlanSavio25_DeepSingleImageCalibration_master\n"
     ]
    }
   ],
   "source": [
    "# Load the model avaliable in hubconf\n",
    "calibrator = torch.hub.load('AlanSavio25/DeepSingleImageCalibration', 'calibrator')"
   ]
  },
  {
   "cell_type": "code",
   "execution_count": 5,
   "metadata": {},
   "outputs": [
    {
     "name": "stdout",
     "output_type": "stream",
     "text": [
      "[328.3190002441406, 464.32843017578125, 355.81463623046875, 386.5780334472656, 386.5780334472656]\n"
     ]
    }
   ],
   "source": [
    "images = glob('../../images/virtual/set_5/*.jpg')\n",
    "\n",
    "focal_length = []\n",
    "for image in images:\n",
    "\n",
    "  results = calibrator.calibrate_from_path(image_path = image)\n",
    "  focal_length.append(results['focal_length_pixels'])\n",
    "\n",
    "print(focal_length)"
   ]
  },
  {
   "cell_type": "code",
   "execution_count": 6,
   "metadata": {},
   "outputs": [],
   "source": [
    "f = np.median(focal_length)\n",
    "resolution = (480,480)\n",
    "o_x, o_y = resolution[0]/2, resolution[1]/2\n",
    "\n",
    "camera_matrix = np.array([[  f,   0, o_x],\n",
    "                          [  0,   f, o_y],\n",
    "                          [  0,   0,   1]])\n",
    "patternSize = (7,7)\n",
    "rvecs = []\n",
    "tvecs = []\n",
    "errors = []\n",
    "\n",
    "def construct3DPoints(patternSize,squareSize):\n",
    "    X = np.zeros((patternSize[0]*patternSize[1],3), np.float32)\n",
    "    X[:,:2] = np.mgrid[0:patternSize[0],0:patternSize[1]].T.reshape(-1,2)\n",
    "    X = X * squareSize\n",
    "    return X\n",
    "\n",
    "boardPoints = construct3DPoints(patternSize=(7,7), squareSize = 30)"
   ]
  },
  {
   "cell_type": "code",
   "execution_count": 12,
   "metadata": {},
   "outputs": [
    {
     "name": "stdout",
     "output_type": "stream",
     "text": [
      "Error of Image ../../images/virtual/set_5/image4.jpg: 0.6833765230146407 px\n"
     ]
    },
    {
     "name": "stdout",
     "output_type": "stream",
     "text": [
      "Error of Image ../../images/virtual/set_5/image1.jpg: 0.5338386620861659 px\n",
      "Error of Image ../../images/virtual/set_5/image2.jpg: 0.3141629986431349 px\n",
      "Error of Image ../../images/virtual/set_5/image3.jpg: 1.0260362425319527 px\n",
      "Error of Image ../../images/virtual/set_5/image5.jpg: 0.21228562853366933 px\n",
      "Median error:  0.5338386620861659\n"
     ]
    }
   ],
   "source": [
    "for image in images:\n",
    "    img = cv2.imread(image)\n",
    "    gray = cv2.cvtColor(img, cv2.COLOR_BGR2GRAY)\n",
    "    ret, corners = cv2.findChessboardCornersSB(gray, patternSize, None)\n",
    "    _, rvec, tvec = cv2.solvePnP(boardPoints, corners, camera_matrix, 0)\n",
    "    rvecs.append(rvec)\n",
    "    tvecs.append(tvecs)\n",
    "\n",
    "    image_points_deep, _ = cv2.projectPoints(boardPoints, rvec, tvec, camera_matrix, 0)\n",
    "\n",
    "    error = cv2.norm(corners[0], image_points_deep[0], normType= cv2.NORM_L2) / len(image_points_deep[0])\n",
    "    #error = np.linalg.norm(image_points_deep - corners, axis =1)\n",
    "    errors.append(error)\n",
    "\n",
    "    print(f\"Error of Image {image}:\", error, \"px\")\n",
    "\n",
    "print(\"Median error: \", np.median(errors))"
   ]
  }
 ],
 "metadata": {
  "kernelspec": {
   "display_name": "Python 3",
   "language": "python",
   "name": "python3"
  },
  "language_info": {
   "codemirror_mode": {
    "name": "ipython",
    "version": 3
   },
   "file_extension": ".py",
   "mimetype": "text/x-python",
   "name": "python",
   "nbconvert_exporter": "python",
   "pygments_lexer": "ipython3",
   "version": "3.10.12"
  }
 },
 "nbformat": 4,
 "nbformat_minor": 2
}
