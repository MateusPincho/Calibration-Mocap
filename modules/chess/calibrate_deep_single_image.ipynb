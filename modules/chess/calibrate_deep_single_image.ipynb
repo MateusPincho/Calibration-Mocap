{
 "cells": [
  {
   "cell_type": "code",
   "execution_count": null,
   "metadata": {},
   "outputs": [],
   "source": [
    "!pip install torchmetrics omegaconf pycolmap"
   ]
  },
  {
   "cell_type": "code",
   "execution_count": 3,
   "metadata": {},
   "outputs": [
    {
     "name": "stdout",
     "output_type": "stream",
     "text": [
      "PyTorch version :  2.2.2+cu121\n",
      "\n",
      "TorchVisoion Version :  0.17.2+cu121\n"
     ]
    }
   ],
   "source": [
    "#Mocap Arena Camera Calibrate Program\n",
    "#Mateus Pincho - calibrate intrisics\n",
    "# check pytorch and pytorch.vision versions\n",
    "import torch\n",
    "import torchvision\n",
    "from glob import glob\n",
    "import numpy as np\n",
    "import cv2\n",
    "\n",
    "print(\"PyTorch version : \", torch.__version__)\n",
    "print(\"\\nTorchVisoion Version : \", torchvision.__version__)\n",
    "\n",
    "# Load the model avaliable in hubconf\n",
    "calibrator = torch.hub.load('AlanSavio25/DeepSingleImageCalibration', 'calibrator')"
   ]
  },
  {
   "cell_type": "code",
   "execution_count": 4,
   "metadata": {},
   "outputs": [
    {
     "name": "stderr",
     "output_type": "stream",
     "text": [
      "Using cache found in /home/mateuspincho/.cache/torch/hub/AlanSavio25_DeepSingleImageCalibration_master\n"
     ]
    }
   ],
   "source": [
    "# Define the image set for calibration\n",
    "images = glob('../../images/virtual/set_5/*.jpg')"
   ]
  },
  {
   "cell_type": "code",
   "execution_count": 5,
   "metadata": {},
   "outputs": [
    {
     "name": "stdout",
     "output_type": "stream",
     "text": [
      "[328.3190002441406, 464.32843017578125, 355.81463623046875, 386.5780334472656, 386.5780334472656]\n"
     ]
    }
   ],
   "source": [
    "focal_length = []\n",
    "for image in images:\n",
    "\n",
    "  results = calibrator.calibrate_from_path(image_path = image)\n",
    "  focal_length.append(results['focal_length_pixels'])\n",
    "\n",
    "print(focal_length)"
   ]
  },
  {
   "cell_type": "code",
   "execution_count": 6,
   "metadata": {},
   "outputs": [],
   "source": [
    "f = np.median(focal_length)\n",
    "resolution = (480,480)\n",
    "o_x, o_y = resolution[0]/2, resolution[1]/2\n",
    "\n",
    "camera_matrix = np.array([[  f,   0, o_x],\n",
    "                          [  0,   f, o_y],\n",
    "                          [  0,   0,   1]])\n",
    "patternSize = (7,7)\n",
    "rvecs = []\n",
    "tvecs = []\n",
    "errors = []\n",
    "\n",
    "def construct3DPoints(patternSize,squareSize):\n",
    "    X = np.zeros((patternSize[0]*patternSize[1],3), np.float32)\n",
    "    X[:,:2] = np.mgrid[0:patternSize[0],0:patternSize[1]].T.reshape(-1,2)\n",
    "    X = X * squareSize\n",
    "    return X\n",
    "\n",
    "boardPoints = construct3DPoints(patternSize=(7,7), squareSize = 30)"
   ]
  },
  {
   "cell_type": "code",
   "execution_count": 12,
   "metadata": {},
   "outputs": [
    {
     "name": "stdout",
     "output_type": "stream",
     "text": [
      "Error of Image ../../images/virtual/set_5/image4.jpg: 0.6833765230146407 px\n"
     ]
    },
    {
     "name": "stdout",
     "output_type": "stream",
     "text": [
      "Error of Image ../../images/virtual/set_5/image1.jpg: 0.5338386620861659 px\n",
      "Error of Image ../../images/virtual/set_5/image2.jpg: 0.3141629986431349 px\n",
      "Error of Image ../../images/virtual/set_5/image3.jpg: 1.0260362425319527 px\n",
      "Error of Image ../../images/virtual/set_5/image5.jpg: 0.21228562853366933 px\n",
      "Median error:  0.5338386620861659\n"
     ]
    }
   ],
   "source": [
    "for image in images:\n",
    "    img = cv2.imread(image)\n",
    "    gray = cv2.cvtColor(img, cv2.COLOR_BGR2GRAY)\n",
    "    ret, corners = cv2.findChessboardCornersSB(gray, patternSize, None)\n",
    "    _, rvec, tvec = cv2.solvePnP(boardPoints, corners, camera_matrix, 0)\n",
    "    rvecs.append(rvec)\n",
    "    tvecs.append(tvecs)\n",
    "\n",
    "    image_points_deep, _ = cv2.projectPoints(boardPoints, rvec, tvec, camera_matrix, 0)\n",
    "\n",
    "    error = cv2.norm(corners[0], image_points_deep[0], normType= cv2.NORM_L2) / len(image_points_deep[0])\n",
    "    errors.append(error)\n",
    "\n",
    "    print(f\"Error of Image {image}:\", error, \"px\")\n",
    "\n",
    "print(\"Median error: \", np.median(errors))"
   ]
  }
 ],
 "metadata": {
  "kernelspec": {
   "display_name": "Python 3",
   "language": "python",
   "name": "python3"
  },
  "language_info": {
   "codemirror_mode": {
    "name": "ipython",
    "version": 3
   },
   "file_extension": ".py",
   "mimetype": "text/x-python",
   "name": "python",
   "nbconvert_exporter": "python",
   "pygments_lexer": "ipython3",
   "version": "3.10.12"
  }
 },
 "nbformat": 4,
 "nbformat_minor": 2
}
