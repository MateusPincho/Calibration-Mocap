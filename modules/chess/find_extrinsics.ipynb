{
 "cells": [
  {
   "cell_type": "code",
   "execution_count": 161,
   "metadata": {},
   "outputs": [],
   "source": [
    "#Mocap Arena Camera Calibrate Program\n",
    "#Mateus Pincho - calibrate intrisics\n",
    "import argparse\n",
    "import glob\n",
    "import cv2\n",
    "import matplotlib.pyplot as plt\n",
    "import numpy as np"
   ]
  },
  {
   "cell_type": "code",
   "execution_count": 162,
   "metadata": {},
   "outputs": [],
   "source": [
    "import plotly.graph_objects as go\n",
    "\n",
    "class Feed: \n",
    "    def __init__(self, title, res=(480,480), graphical=False):\n",
    "        self.title = title\n",
    "        self.graphical = graphical # Toggle to activate graphical mode\n",
    "        self.res = res # Change feed dimensions \n",
    "\n",
    "        # Create Figure \n",
    "        self.figure = go.Figure(\n",
    "            layout=go.Layout(\n",
    "                height=700, \n",
    "                width=900, \n",
    "                title=go.layout.Title(text=self.title)\n",
    "            )\n",
    "        )\n",
    "\n",
    "        self.figure.update_yaxes(\n",
    "            scaleanchor=\"x\",\n",
    "            scaleratio=1\n",
    "        )\n",
    "        \n",
    "        self.figure.update_layout(\n",
    "            xaxis_title='x',\n",
    "            yaxis_title='y',\n",
    "            plot_bgcolor='white',\n",
    "            font=dict(\n",
    "                family='Arial',\n",
    "                size=15,\n",
    "                color='black'\n",
    "            ),\n",
    "            xaxis=dict(\n",
    "                gridcolor='lightgray',\n",
    "                dtick = res[0]/10,\n",
    "                range=[0, self.res[0]]\n",
    "            ),\n",
    "            yaxis=dict(\n",
    "                gridcolor='lightgray',\n",
    "                dtick = res[1]/10,\n",
    "                range=[self.res[1], 0]\n",
    "            )\n",
    "        )\n",
    "\n",
    "        self.figure.add_shape(\n",
    "            type='rect',\n",
    "            x0=0, y0=0, x1=res[0], y1=res[1],\n",
    "            line=dict(color='black'),\n",
    "        )\n",
    "\n",
    "\n",
    "    def add_points(self, point, name, color=None):\n",
    "        self.figure.add_trace(\n",
    "            go.Scatter(\n",
    "                x=point[0],\n",
    "                y=point[1],\n",
    "                mode='markers',\n",
    "                marker=dict(\n",
    "                    size=5,\n",
    "                    opacity=0.80,\n",
    "                    color=color\n",
    "                ),\n",
    "                name=name,\n",
    "                legendgroup='Points',\n",
    "                legendgrouptitle_text='Points',\n",
    "                showlegend=self.graphical\n",
    "            )\n",
    "        )\n",
    "\n",
    "#Reconstrução do tabuleiro\n",
    "def construct3DPoints(patternSize,squareSize):\n",
    "    X = np.zeros((patternSize[0]*patternSize[1],3), np.float32)\n",
    "    X[:,:2] = np.mgrid[0:patternSize[0],0:patternSize[1]].T.reshape(-1,2)\n",
    "    X = X * squareSize # Square size não interfere na calibração -> somente um fator de escala\n",
    "                       # o square size não é utilizado na calibração dos cara de stanford\n",
    "    return X\n",
    "\n",
    "#Detectando os corners\n",
    "def detectCorners(images, boardPoints, patternSize):\n",
    "    worldPoints = []\n",
    "    imagePoints = [] \n",
    "\n",
    "    counter = 0\n",
    "    for fname in images:\n",
    "        img = cv2.imread(fname)\n",
    "        gray = cv2.cvtColor(img, cv2.COLOR_BGR2GRAY)\n",
    "        ret, corners = cv2.findChessboardCornersSB(gray, patternSize, None)\n",
    "        if ret == True:\n",
    "            #print(\"Corners found in image \" + str(fname)) #- see if corners are found \n",
    "            imagePoints.append(corners)\n",
    "            worldPoints.append(boardPoints)\n",
    "            counter+=1\n",
    "\n",
    "    print(\"Corners found in \" + str(counter) + \" images\")\n",
    "    return worldPoints, imagePoints\n",
    "\n",
    "#Descobrindo os intrisicos, extrinsecos e o erro de reprojeção \n",
    "def calibrate(useFisheye, patternSize, squareSize, worldPoints, imagePoints, imgSize):\n",
    "\n",
    "    boardPoints = construct3DPoints(patternSize, squareSize)\n",
    "\n",
    "\n",
    "    if useFisheye:\n",
    "        flagsCalib = cv2.fisheye.CALIB_RECOMPUTE_EXTRINSIC+cv2.fisheye.CALIB_FIX_SKEW+cv2.fisheye.CALIB_CHECK_COND\n",
    "        calibrateCriteria = (cv2.TERM_CRITERIA_EPS+cv2.TERM_CRITERIA_MAX_ITER,30, 1e-12)\n",
    "\n",
    "        ret, cameraMatrix, k, R, t = cv2.fisheye.calibrate(np.expand_dims(np.asarray(worldPoints), -2), imagePoints, imgSize, None, None,\n",
    "                                                                    flags=flagsCalib,criteria=calibrateCriteria)\n",
    "    else:\n",
    "        flagsCalib = cv2.CALIB_RATIONAL_MODEL\n",
    "\n",
    "        ret, cameraMatrix, k, rvecs, tvecs, stdIntrinc, stdExtrinsic, perViewError = cv2.calibrateCameraExtended(worldPoints, imagePoints, imgSize, None, None,\n",
    "                                                                flags=flagsCalib)\n",
    "\n",
    "    print(\"RMS re-projection error:\", ret)\n",
    "    print(\"The median re-projection error\", np.median(perViewError))\n",
    "    print(\"Camera Matrix:\\n\", cameraMatrix)\n",
    "    print(\"Distortion Parameters:\\n\", k)\n",
    "\n",
    "    return cameraMatrix, k, rvecs, tvecs, stdIntrinc, stdExtrinsic, perViewError"
   ]
  },
  {
   "cell_type": "code",
   "execution_count": 163,
   "metadata": {},
   "outputs": [
    {
     "name": "stdout",
     "output_type": "stream",
     "text": [
      "['../../images/virtual/set_25/image10.jpg', '../../images/virtual/set_25/image4.jpg', '../../images/virtual/set_25/image20.jpg', '../../images/virtual/set_25/image14.jpg', '../../images/virtual/set_25/image8.jpg', '../../images/virtual/set_25/image1.jpg', '../../images/virtual/set_25/image15.jpg', '../../images/virtual/set_25/image22.jpg', '../../images/virtual/set_25/image9.jpg', '../../images/virtual/set_25/image13.jpg', '../../images/virtual/set_25/image17.jpg', '../../images/virtual/set_25/image6.jpg', '../../images/virtual/set_25/image7.jpg', '../../images/virtual/set_25/image18.jpg', '../../images/virtual/set_25/image19.jpg', '../../images/virtual/set_25/image12.jpg', '../../images/virtual/set_25/image21.jpg', '../../images/virtual/set_25/image24.jpg', '../../images/virtual/set_25/image2.jpg', '../../images/virtual/set_25/image23.jpg', '../../images/virtual/set_25/image25.jpg', '../../images/virtual/set_25/image3.jpg', '../../images/virtual/set_25/image16.jpg', '../../images/virtual/set_25/image11.jpg', '../../images/virtual/set_25/image5.jpg']\n"
     ]
    }
   ],
   "source": [
    "useFisheye = False\n",
    "criteria = (cv2.TERM_CRITERIA_EPS + cv2.TERM_CRITERIA_MAX_ITER, 30, 0.001)\n",
    "\n",
    "#images = glob.glob('../../images/chess/virtual/*.jpg')\n",
    "\n",
    "images_set = ['../../images/virtual/set_5/*.jpg',\n",
    "              '../../images/virtual/set_10/*.jpg',\n",
    "              '../../images/virtual/set_15/*.jpg',\n",
    "              '../../images/virtual/set_20/*.jpg',\n",
    "              '../../images/virtual/set_25/*.jpg']\n",
    "\n",
    "\n",
    "images = glob.glob('../../images/virtual/set_25/*.jpg')\n",
    "patternSize = (7,7)\n",
    "squareSize = 30\n",
    "imgSize = (480,480)\n",
    "\n",
    "print(images)"
   ]
  },
  {
   "cell_type": "code",
   "execution_count": 164,
   "metadata": {},
   "outputs": [
    {
     "name": "stdout",
     "output_type": "stream",
     "text": [
      "\n",
      " Using set 5\n"
     ]
    },
    {
     "name": "stdout",
     "output_type": "stream",
     "text": [
      "Corners found in 5 images\n",
      "RMS re-projection error: 0.23174696824654417\n",
      "The median re-projection error 0.22990884012875903\n",
      "Camera Matrix:\n",
      " [[422.14661882   0.         238.57909834]\n",
      " [  0.         421.805195   239.85147633]\n",
      " [  0.           0.           1.        ]]\n",
      "Distortion Parameters:\n",
      " [[ 8.57694379e+01 -3.63430067e+02  3.73762212e-05  4.32801116e-04\n",
      "  -8.65594325e+02  8.59439982e+01 -3.64239568e+02 -8.66586078e+02\n",
      "   0.00000000e+00  0.00000000e+00  0.00000000e+00  0.00000000e+00\n",
      "   0.00000000e+00  0.00000000e+00]]\n",
      "\n",
      " Using set 10\n",
      "Corners found in 10 images\n",
      "RMS re-projection error: 0.26582710684439875\n",
      "The median re-projection error 0.2427068972102226\n",
      "Camera Matrix:\n",
      " [[415.49498276   0.         239.65111064]\n",
      " [  0.         415.46007245 238.55385495]\n",
      " [  0.           0.           1.        ]]\n",
      "Distortion Parameters:\n",
      " [[-1.40439541e+01 -2.18639606e+01 -8.47167306e-04 -4.93616468e-04\n",
      "   7.92350158e+02 -1.40656846e+01 -2.14351927e+01  7.90053531e+02\n",
      "   0.00000000e+00  0.00000000e+00  0.00000000e+00  0.00000000e+00\n",
      "   0.00000000e+00  0.00000000e+00]]\n",
      "\n",
      " Using set 15\n",
      "Corners found in 15 images\n",
      "RMS re-projection error: 0.2453654560567545\n",
      "The median re-projection error 0.23835934477793824\n",
      "Camera Matrix:\n",
      " [[415.01522152   0.         239.60260223]\n",
      " [  0.         414.97707827 239.88391896]\n",
      " [  0.           0.           1.        ]]\n",
      "Distortion Parameters:\n",
      " [[-1.93141737e+01  1.20702005e+02  4.14030171e-04  4.01167819e-04\n",
      "   3.70718951e+02 -1.93195888e+01  1.20743898e+02  3.70565423e+02\n",
      "   0.00000000e+00  0.00000000e+00  0.00000000e+00  0.00000000e+00\n",
      "   0.00000000e+00  0.00000000e+00]]\n",
      "\n",
      " Using set 20\n",
      "Corners found in 20 images\n",
      "RMS re-projection error: 0.26503424115862995\n",
      "The median re-projection error 0.25202817238805114\n",
      "Camera Matrix:\n",
      " [[418.0494044    0.         239.77204072]\n",
      " [  0.         417.91320486 239.82503559]\n",
      " [  0.           0.           1.        ]]\n",
      "Distortion Parameters:\n",
      " [[-2.64407658e+00 -1.81723183e+01 -1.58814102e-04  5.38960357e-04\n",
      "   6.35324100e+01 -2.64393638e+00 -1.81732151e+01  6.35302173e+01\n",
      "   0.00000000e+00  0.00000000e+00  0.00000000e+00  0.00000000e+00\n",
      "   0.00000000e+00  0.00000000e+00]]\n",
      "\n",
      " Using set 25\n",
      "Corners found in 25 images\n",
      "RMS re-projection error: 0.26876610313646904\n",
      "The median re-projection error 0.24805721101208117\n",
      "Camera Matrix:\n",
      " [[415.76115309   0.         238.75784436]\n",
      " [  0.         415.67180558 239.19058499]\n",
      " [  0.           0.           1.        ]]\n",
      "Distortion Parameters:\n",
      " [[ 5.15467762e+01 -8.81162371e+01 -5.68206274e-04 -4.69285047e-04\n",
      "  -2.25043676e+02  5.14894526e+01 -8.79737021e+01 -2.24951109e+02\n",
      "   0.00000000e+00  0.00000000e+00  0.00000000e+00  0.00000000e+00\n",
      "   0.00000000e+00  0.00000000e+00]]\n"
     ]
    }
   ],
   "source": [
    "for idx, set  in enumerate(images_set):\n",
    "    print('\\n Using set ' + str((idx + 1)*5) )\n",
    "    images = glob.glob(set)\n",
    "    boardPoints = construct3DPoints(patternSize, squareSize)\n",
    "    worldPoints, imagePoints = detectCorners(images, boardPoints, patternSize)\n",
    "    cameraMatrix, distCoeff, rvecs, tvecs, stdIntrinc, stdExtrinsic, perViewError = calibrate(useFisheye, worldPoints, imagePoints, imgSize) "
   ]
  },
  {
   "cell_type": "code",
   "execution_count": 165,
   "metadata": {},
   "outputs": [
    {
     "data": {
      "text/plain": [
       "0.24805721101208117"
      ]
     },
     "execution_count": 165,
     "metadata": {},
     "output_type": "execute_result"
    }
   ],
   "source": [
    "np.median(perViewError)"
   ]
  },
  {
   "cell_type": "code",
   "execution_count": 166,
   "metadata": {},
   "outputs": [
    {
     "name": "stdout",
     "output_type": "stream",
     "text": [
      "[[0.08520581]\n",
      " [0.08896469]\n",
      " [0.00342575]]\n",
      "\n",
      " [[0.08614519]\n",
      " [0.0878114 ]\n",
      " [0.00345097]]\n"
     ]
    }
   ],
   "source": [
    "# Funciona utilizando os dados do OpenCV\n",
    "img = cv2.imread(images[0])\n",
    "gray = cv2.cvtColor(img, cv2.COLOR_BGR2GRAY)\n",
    "ret, corners = cv2.findChessboardCornersSB(gray, patternSize, None)\n",
    "\n",
    "_, rvec, tvec = cv2.solvePnP(boardPoints, corners, cameraMatrix, 0)\n",
    "\n",
    "print(rvecs[0])\n",
    "print('\\n', rvec)\n",
    " "
   ]
  },
  {
   "cell_type": "code",
   "execution_count": 167,
   "metadata": {},
   "outputs": [],
   "source": [
    "# Testar usando o focal lenght da estimativa do Deep Calib\n",
    "f = 421.33416748046875\n",
    "o_x, o_y = (240,240)\n",
    "camera_matrix = np.array([[  f,   0, o_x],\n",
    "                          [  0,   f, o_y],\n",
    "                          [  0,   0,   1]])\n",
    "\n",
    "_, rvec, tvec = cv2.solvePnP(boardPoints, corners, camera_matrix, 0)\n",
    "\n",
    "image_points_deep, _ = cv2.projectPoints(boardPoints, rvec, tvec, camera_matrix, 0)\n",
    "\n",
    "image_points_deep = image_points_deep.reshape(49,2)\n",
    "corners = corners.reshape(49,2)"
   ]
  },
  {
   "cell_type": "code",
   "execution_count": 173,
   "metadata": {},
   "outputs": [
    {
     "data": {
      "text/plain": [
       "array([0.06884163, 0.2430708 , 0.25166464, 0.18701355, 0.26929677,\n",
       "       0.12275168, 0.3096208 , 0.38737017, 0.35031366, 0.5277802 ,\n",
       "       0.36030993, 0.23212442, 0.34571862, 0.13335544, 0.29180968,\n",
       "       0.22584714, 0.31388798, 0.32244557, 0.32076862, 0.4297792 ,\n",
       "       0.18749438, 0.17670234, 0.3569287 , 0.25734767, 0.23665233,\n",
       "       0.29383826, 0.14184882, 0.12704574, 0.2786437 , 0.11736771,\n",
       "       0.18076137, 0.1429418 , 0.2861237 , 0.1411743 , 0.14838527,\n",
       "       0.03816861, 0.27326858, 0.35272408, 0.16284291, 0.14975446,\n",
       "       0.1879986 , 0.05237513, 0.07141742, 0.09490371, 0.22607699,\n",
       "       0.1702837 , 0.07525236, 0.0975652 , 0.0193317 ], dtype=float32)"
      ]
     },
     "execution_count": 173,
     "metadata": {},
     "output_type": "execute_result"
    }
   ],
   "source": [
    "error = np.linalg.norm(image_points_deep - corners, axis =1)\n",
    "\n",
    "# error_median = np.mean(error)\n",
    "# error_median"
   ]
  },
  {
   "cell_type": "markdown",
   "metadata": {},
   "source": [
    "O que eu preciso avaliar agora é: \n",
    "- E se eu aumentar o tamanho do set de imagens? (Usar mais imagens)\n",
    "- E se eu usar uma padrão de calibraçao maior? (Usar mais correspondências)\n",
    "- E se eu usar uma distorção maior (Cameras fisheye)\n",
    "- E se eu adicionar ruído na imagem? (Detecção dos cornes ja não é mais fiel)"
   ]
  },
  {
   "cell_type": "markdown",
   "metadata": {},
   "source": [
    "Para a calibração deep:\n",
    "\n",
    "Para set 5: 0.14613342\n",
    "\n",
    "Para set 10: 0.15971756\n",
    "\n",
    "Para set 15: 0.1541214\n",
    "\n",
    "Para set 20: 0.14318848\n",
    "\n",
    "Para set 25: 0.15511322 "
   ]
  }
 ],
 "metadata": {
  "kernelspec": {
   "display_name": "Python 3",
   "language": "python",
   "name": "python3"
  },
  "language_info": {
   "codemirror_mode": {
    "name": "ipython",
    "version": 3
   },
   "file_extension": ".py",
   "mimetype": "text/x-python",
   "name": "python",
   "nbconvert_exporter": "python",
   "pygments_lexer": "ipython3",
   "version": "3.10.12"
  }
 },
 "nbformat": 4,
 "nbformat_minor": 2
}
