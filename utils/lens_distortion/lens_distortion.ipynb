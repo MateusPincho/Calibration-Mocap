{
 "cells": [
  {
   "cell_type": "code",
   "execution_count": 3,
   "metadata": {},
   "outputs": [],
   "source": [
    "import cv2\n",
    "import numpy as np\n",
    "from glob import glob"
   ]
  },
  {
   "cell_type": "markdown",
   "metadata": {},
   "source": [
    "## Apply distortion to linear images generated in CoppeliaSim"
   ]
  },
  {
   "cell_type": "markdown",
   "metadata": {},
   "source": [
    "### Build the intrinsic matrix of visual sensor"
   ]
  },
  {
   "cell_type": "code",
   "execution_count": 4,
   "metadata": {},
   "outputs": [],
   "source": [
    "def build_intrinsic_matrix(fov_degrees, resolution):\n",
    "    fov_radians = np.radians(fov_degrees)\n",
    "\n",
    "    f_x = resolution[0]/(2*np.tan(fov_radians/2))\n",
    "    f_y = resolution[1]/(2*np.tan(fov_radians/2))\n",
    "\n",
    "    o_x = resolution[0]/2\n",
    "    o_y = resolution[1]/2\n",
    "\n",
    "    camera_matrix = np.array([[-f_x,   0, o_x, 0],\n",
    "                              [  0, -f_y, o_y, 0],\n",
    "                              [  0,    0,   1, 0]])\n",
    "\n",
    "    return camera_matrix\n",
    "\n",
    "# Declare intrinsic parameters\n",
    "fov_degrees = 60.0\n",
    "resolution = (480, 480)\n",
    "\n",
    "# Generate intrinsic parameters matrix\n",
    "intrinsic_matrix = build_intrinsic_matrix(fov_degrees, resolution) "
   ]
  },
  {
   "cell_type": "markdown",
   "metadata": {},
   "source": [
    "### Lens Distortion Models"
   ]
  },
  {
   "cell_type": "code",
   "execution_count": 5,
   "metadata": {},
   "outputs": [],
   "source": [
    "def distort_rational(image_point, camera_matrix, distortion_coefficients):\n",
    "    # Get intrinsic parameters\n",
    "    f_x, f_y = camera_matrix[0][0], camera_matrix[1][1]\n",
    "    c_x, c_y = camera_matrix[0][2], camera_matrix[1][2]\n",
    "\n",
    "    [[u], [v]] = image_point\n",
    "\n",
    "    # Normalize coordinates\n",
    "    x, y = (u - c_x)/f_x, (v - c_y)/f_y \n",
    "\n",
    "    normalized_image_point = np.array([[x],\n",
    "                                       [y]])\n",
    "\n",
    "    # Radial distance\n",
    "    r = np.linalg.norm(normalized_image_point)\n",
    "\n",
    "    # Get distortion coefficients (OpenCV's style)\n",
    "    k1, k2, p1, p2, k3, k4, k5, k6 = distortion_coefficients\n",
    "    \n",
    "    # Get radial and tangential transformation vectors\n",
    "    radial_transformation = normalized_image_point * (1 + k1*r**2 + k2*r**4 + k3*r**6)/(1 + k4*r**2 + k5*r**4 + k6*r**6)\n",
    "\n",
    "    tangential_transformationn = np.array([[2*p1*x*y + p2*(r**2 + 2*x**2)],\n",
    "                                           [p1*(r**2 + 2*y**2) + 2*p2*x*y]])\n",
    "    \n",
    "    # Get distorted normalized point\n",
    "    [[x_d], [y_d]] = radial_transformation + tangential_transformationn\n",
    "\n",
    "    # Re-scale and re-center point\n",
    "    u_d, v_d = x_d * f_x + c_x, y_d * f_y + c_y\n",
    "\n",
    "    return np.array([[u_d],\n",
    "                     [v_d]]).astype(int) # Cast as interger"
   ]
  },
  {
   "cell_type": "code",
   "execution_count": 6,
   "metadata": {},
   "outputs": [],
   "source": [
    "def distort_fisheye(image_point, camera_matrix, fisheye_coefficients):\n",
    "    # Get intrinsic parameters\n",
    "    f_x, f_y = camera_matrix[0][0], camera_matrix[1][1]\n",
    "    c_x, c_y = camera_matrix[0][2], camera_matrix[1][2]\n",
    "\n",
    "    [[u], [v]] = image_point\n",
    "\n",
    "    # Normalize coordinates\n",
    "    x, y = (u - c_x)/f_x, (v - c_y)/f_y \n",
    "\n",
    "    normalized_image_point = np.array([[x],\n",
    "                                       [y]])\n",
    "\n",
    "    # Distortion parameters\n",
    "    r = np.linalg.norm(normalized_image_point)\n",
    "    theta = np.arctan(r)\n",
    "\n",
    "    # Get distortion coefficients (OpenCV's style)\n",
    "    k1, k2, k3, k4 = fisheye_coefficients\n",
    "\n",
    "    if r != 0:\n",
    "        [[x_d], [y_d]] = normalized_image_point * (theta + k1*theta**3 + k2*theta**5 + k3*theta**7 + k4*theta**9)/r\n",
    "    else:\n",
    "        [[x_d], [y_d]] = normalized_image_point # Do not distort\n",
    "\n",
    "    # Re-scale and re-center point\n",
    "    u_d, v_d = x_d * f_x + c_x, y_d * f_y + c_y\n",
    "\n",
    "    return np.array([[u_d],\n",
    "                     [v_d]]).astype(int) # Cast as interger"
   ]
  },
  {
   "cell_type": "markdown",
   "metadata": {},
   "source": [
    "### Apply distortion in Coppelia's Images"
   ]
  },
  {
   "cell_type": "code",
   "execution_count": 7,
   "metadata": {},
   "outputs": [],
   "source": [
    "# Arbitrary distortion coefficients for the two types of distortion\n",
    "radial_coefficients = np.array([-0.11, -0.03, 0.00, 0, 0.0, 0.0])\n",
    "tangential_coefficients = np.array([0, 0.00000])\n",
    "\n",
    "# Separating the coefficients list into single variables\n",
    "k1, k2, k3, k4, k5, k6 = radial_coefficients\n",
    "p1, p2 = tangential_coefficients\n",
    "\n",
    "# Ordering the coefficients for OpenCV's distortion coefficients array configuration\n",
    "distortion_coefficients = np.array([k1, k2, p1, p2, k3, k4, k5, k6]).astype(np.float32)\n",
    "\n",
    "# Arbitrary distortion coefficients for the distortion\n",
    "fisheye_coefficients = np.array([0.395, 0.633, -2.417, 2.110]).astype(np.float32)\n",
    "\n",
    "model = 'rational'\n",
    "\n",
    "image_distorted = np.zeros((resolution[0], resolution[1], 3), dtype=np.uint8)\n",
    "map_u = np.zeros((resolution[0], resolution[1], 1), dtype=np.float32)\n",
    "map_v = np.zeros((resolution[0], resolution[1], 1), dtype=np.float32)\n",
    "\n",
    "# Note that the u-axis represents the columns and the v-axis represents the rows\n",
    "for v in range(resolution[0]):\n",
    "    for u in range(resolution[1]):\n",
    "        pixel_coordinate = np.array([[u],\n",
    "                                     [v]])\n",
    "        \n",
    "        if model == 'rational':\n",
    "            distorted_pixel_coordinate = distort_rational(image_point=pixel_coordinate, \n",
    "                                                         camera_matrix=intrinsic_matrix,\n",
    "                                                         distortion_coefficients=distortion_coefficients)\n",
    "        elif model == 'fisheye':\n",
    "            distorted_pixel_coordinate = distort_fisheye(image_point=pixel_coordinate, \n",
    "                                                         camera_matrix=intrinsic_matrix,\n",
    "                                                         fisheye_coefficients=fisheye_coefficients)\n",
    "\n",
    "        [[u_d], [v_d]] = distorted_pixel_coordinate\n",
    "\n",
    "        # Do not remap points outside the image limits\n",
    "        if (u_d >= 0 and u_d < resolution[1]) and (v_d >= 0 and v_d < resolution[0]):\n",
    "            map_u[v_d][u_d] = u\n",
    "            map_v[v_d][u_d] = v"
   ]
  },
  {
   "cell_type": "code",
   "execution_count": 14,
   "metadata": {},
   "outputs": [],
   "source": [
    "image_set = glob('../../images/virtual/7x7/original/test/*.jpg')\n",
    "\n",
    "for idx,image in enumerate(image_set):\n",
    "    image_linear = cv2.imread(image)\n",
    "    # Use cv2.remap with the custom remapped coordinates\n",
    "    image_distorted = cv2.remap(src=image_linear, \n",
    "                                map1=map_u, \n",
    "                                map2=map_v, \n",
    "                                interpolation=cv2.INTER_LINEAR,\n",
    "                                borderMode=cv2.BORDER_WRAP)\n",
    "\n",
    "    # Blur to remove distortion line patterns and ease blob detection \n",
    "    #kernel = np.ones((2,2), dtype=np.float32) / 2\n",
    "    #image_distorted = cv2.filter2D(image_distorted, -1, kernel)\n",
    "\n",
    "    # # Display the image\n",
    "    # cv2.imshow(\"Image\", image_distorted)\n",
    "\n",
    "    # # Wait for the user to press a key\n",
    "    # cv2.waitKey(0)\n",
    "    \n",
    "    # Close all windows\n",
    "    # cv2.destroyAllWindows()\n",
    "    \n",
    "    cv2.imwrite(f'image {idx}.jpg', image_distorted)"
   ]
  }
 ],
 "metadata": {
  "kernelspec": {
   "display_name": "Python 3",
   "language": "python",
   "name": "python3"
  },
  "language_info": {
   "codemirror_mode": {
    "name": "ipython",
    "version": 3
   },
   "file_extension": ".py",
   "mimetype": "text/x-python",
   "name": "python",
   "nbconvert_exporter": "python",
   "pygments_lexer": "ipython3",
   "version": "3.12.3"
  }
 },
 "nbformat": 4,
 "nbformat_minor": 2
}
