{
 "cells": [
  {
   "cell_type": "code",
   "execution_count": 47,
   "metadata": {},
   "outputs": [],
   "source": [
    "import numpy as np\n",
    "import cv2\n",
    "from glob import glob\n",
    "import matplotlib.pyplot as plt\n",
    "from scipy.spatial.transform import Rotation\n",
    "from coppeliasim_zmqremoteapi_client import RemoteAPIClient\n",
    "import plotly.graph_objects as go\n",
    "\n",
    "image_path = 'image1.jpg'\n",
    "\n",
    "# Coppelia Remote Client\n",
    "client = RemoteAPIClient()\n",
    "sim = client.getObject('sim')\n",
    "\n",
    "# Get the vision sensor handle\n",
    "vision_sensor_handle = sim.getObject('/Vision_sensor') \n",
    "chessboard_handle = sim.getObject('/Cuboid[3]/Dummy')\n",
    "cubo = sim.getObject('/Cuboid[3]')"
   ]
  },
  {
   "cell_type": "code",
   "execution_count": 3,
   "metadata": {},
   "outputs": [],
   "source": [
    "class Feed: \n",
    "    def __init__(self, title, res=(480,480), graphical=False):\n",
    "        self.title = title\n",
    "        self.graphical = graphical # Toggle to activate graphical mode\n",
    "        self.res = res # Change feed dimensions \n",
    "\n",
    "        # Create Figure \n",
    "        self.figure = go.Figure(\n",
    "            layout=go.Layout(\n",
    "                height=700, \n",
    "                width=900, \n",
    "                title=go.layout.Title(text=self.title)\n",
    "            )\n",
    "        )\n",
    "\n",
    "        self.figure.update_yaxes(\n",
    "            scaleanchor=\"x\",\n",
    "            scaleratio=1\n",
    "        )\n",
    "        \n",
    "        self.figure.update_layout(\n",
    "            xaxis_title='x',\n",
    "            yaxis_title='y',\n",
    "            plot_bgcolor='white',\n",
    "            font=dict(\n",
    "                family='Arial',\n",
    "                size=15,\n",
    "                color='black'\n",
    "            ),\n",
    "            xaxis=dict(\n",
    "                gridcolor='lightgray',\n",
    "                dtick = res[0]/10,\n",
    "                range=[0, self.res[0]]\n",
    "            ),\n",
    "            yaxis=dict(\n",
    "                gridcolor='lightgray',\n",
    "                dtick = res[1]/10,\n",
    "                range=[self.res[1], 0]\n",
    "            )\n",
    "        )\n",
    "\n",
    "        self.figure.add_shape(\n",
    "            type='rect',\n",
    "            x0=0, y0=0, x1=res[0], y1=res[1],\n",
    "            line=dict(color='black'),\n",
    "        )\n",
    "\n",
    "\n",
    "    def add_points(self, point, name, color=None):\n",
    "        self.figure.add_trace(\n",
    "            go.Scatter(\n",
    "                x=point[0],\n",
    "                y=point[1],\n",
    "                mode='markers',\n",
    "                marker=dict(\n",
    "                    size=5,\n",
    "                    opacity=0.80,\n",
    "                    color=color\n",
    "                ),\n",
    "                name=name,\n",
    "                legendgroup='Points',\n",
    "                legendgrouptitle_text='Points',\n",
    "                showlegend=self.graphical\n",
    "            )\n",
    "        )"
   ]
  },
  {
   "cell_type": "code",
   "execution_count": 4,
   "metadata": {},
   "outputs": [],
   "source": [
    "# Random rotation matrix\n",
    "def randR():\n",
    "    return Rotation.from_euler('xyz', [np.random.randint(0, 360), np.random.randint(0, 360), np.random.randint(0, 360)], degrees=True).as_matrix()"
   ]
  },
  {
   "cell_type": "code",
   "execution_count": 5,
   "metadata": {},
   "outputs": [],
   "source": [
    "# Random translation matrix\n",
    "def randt(L): # Confined in a cube with an edge of length L\n",
    "    return np.array([[2*L*np.random.random_sample()-L] for _ in range(3)])"
   ]
  },
  {
   "cell_type": "code",
   "execution_count": 6,
   "metadata": {},
   "outputs": [],
   "source": [
    "# Make coordinates homogeneous\n",
    "def to_homo(points):\n",
    "    return np.vstack((points, np.ones(points.shape[1])))"
   ]
  },
  {
   "cell_type": "code",
   "execution_count": 7,
   "metadata": {},
   "outputs": [],
   "source": [
    "# Joins the rotation and translation matrices to make a homogeneous transformation\n",
    "def join_homo(R, t):\n",
    "    return np.vstack((np.hstack((R, t)), np.array([0, 0, 0, 1])))"
   ]
  },
  {
   "cell_type": "code",
   "execution_count": 8,
   "metadata": {},
   "outputs": [],
   "source": [
    "# Extract the rotation and translation matrices from the homogeneous transformation\n",
    "def split_homo(H):\n",
    "    return H[0:3, 0:3], H[0:3 , [-1]]"
   ]
  },
  {
   "cell_type": "code",
   "execution_count": 9,
   "metadata": {},
   "outputs": [],
   "source": [
    "# Returns the inverse of a homogeneous transformation matrix\n",
    "def inverse_homo(H):\n",
    "    R, t = split_homo(H)\n",
    "    \n",
    "    return join_homo(R.T, -R.T @ t)"
   ]
  },
  {
   "cell_type": "code",
   "execution_count": 10,
   "metadata": {},
   "outputs": [],
   "source": [
    "def build_intrinsic_matrix(fov_degrees, resolution):\n",
    "    fov_radians = np.radians(fov_degrees)\n",
    "\n",
    "    f_x = resolution[0]/(2*np.tan(fov_radians/2))\n",
    "    f_y = resolution[1]/(2*np.tan(fov_radians/2))\n",
    "\n",
    "    o_x = resolution[0]/2\n",
    "    o_y = resolution[1]/2\n",
    "\n",
    "    camera_matrix = np.array([[-f_x,   0, o_x, 0],\n",
    "                              [  0, -f_y, o_y, 0],\n",
    "                              [  0,    0,   1, 0]])\n",
    "\n",
    "    return camera_matrix\n",
    "\n",
    "def build_extrinsic_matrix(vision_sensor_handle, chessboard_handle = sim.handle_world):\n",
    "    camera_pose = np.vstack((np.array(sim.getObjectMatrix(vision_sensor_handle, chessboard_handle)).reshape((3,4)), np.array([0, 0, 0, 1])))\n",
    "\n",
    "    return camera_pose\n",
    "\n",
    "def build_projection_matrix(intrinsic_matrix, extrinsic_matrix):\n",
    "    projection_matrix = intrinsic_matrix @ inverse_homo(extrinsic_matrix) \n",
    "\n",
    "    return projection_matrix\n",
    "\n",
    "def perspective_projection(points, projection_matrix):\n",
    "    projected_point = projection_matrix @ points  # Project points to plane\n",
    "    projected_point /= projected_point[-1]        # Normalize homogeneous coordinates\n",
    "    projected_point = projected_point[:-1, :]     # Discard the last row\n",
    "    #projected_point = projected_point.astype(int) # Cast as interger\n",
    "    \n",
    "    return projected_point"
   ]
  },
  {
   "cell_type": "code",
   "execution_count": 11,
   "metadata": {},
   "outputs": [],
   "source": [
    "def construct3DPoints(patternSize,squareSize):\n",
    "    X = np.zeros((patternSize[0]*patternSize[1],3), np.float32)\n",
    "    X[:,:2] = np.mgrid[0:patternSize[0],0:patternSize[1]].T.reshape(-1,2)\n",
    "    X = X * squareSize # Square size não interfere na calibração -> somente um fator de escala\n",
    "                       # o square size não é utilizado na calibração dos cara de stanford\n",
    "    return X"
   ]
  },
  {
   "cell_type": "markdown",
   "metadata": {},
   "source": [
    "---\n",
    "## Corners detectors"
   ]
  },
  {
   "cell_type": "code",
   "execution_count": null,
   "metadata": {},
   "outputs": [],
   "source": [
    "image = cv2.imread(image_path)\n",
    "gray = cv2.cvtColor(image, cv2.COLOR_BGR2GRAY)\n",
    "\n",
    "# Detecta bordas usando o filtro de Sobel\n",
    "sobel_x = cv2.Sobel(gray, cv2.CV_64F, 1, 0, ksize=3)\n",
    "sobel_y = cv2.Sobel(gray, cv2.CV_64F, 0, 1, ksize=3)\n",
    "edges = cv2.magnitude(sobel_x, sobel_y)\n",
    "\n",
    "# Normaliza e converte para uma imagem de 8 bits\n",
    "edges = np.uint8(255 * edges / np.max(edges))\n",
    "\n",
    "cv2.imshow('Edges', edges)\n",
    "cv2.waitKey(0)\n",
    "cv2.destroyAllWindows() #close the image window\n",
    "\n",
    "# Detecção de cantos usando a técnica de Harris\n",
    "corners = cv2.cornerHarris(gray, blockSize=2, ksize=3, k=0.04)\n",
    "corners = cv2.dilate(corners, None)\n",
    "\n",
    "img_corners = image.copy()\n",
    "img_corners[corners > 0.01 * corners.max()] = [0, 0, 255]\n",
    "\n",
    "cv2.imshow('Corners', img_corners)\n",
    "cv2.waitKey(0)\n",
    "cv2.destroyAllWindows() #close the image window\n",
    "\n",
    "ret, corners = cv2.threshold(corners, 0.01 * corners.max(), 255, 0)\n",
    "corners = np.uint8(corners)\n",
    "ret, labels, stats, centroids = cv2.connectedComponentsWithStats(corners)\n",
    "criteria = (cv2.TERM_CRITERIA_EPS + cv2.TERM_CRITERIA_MAX_ITER, 100, 0.001)\n",
    "corners = cv2.cornerSubPix(gray, np.float32(centroids), (5, 5), (-1, -1), criteria)\n",
    "\n",
    "img_refined_corners = image.copy()\n",
    "for corner in corners:\n",
    "    cv2.circle(img_refined_corners, tuple(int(i) for i in corner), 3, (0, 255, 0), -1)\n",
    "\n",
    "cv2.imshow('Refined Corners', img_refined_corners)\n",
    "cv2.waitKey(0)\n",
    "cv2.destroyAllWindows() #close the image window\n",
    "\n",
    "board_size = (7,7)\n",
    "\n",
    "corners = np.reshape(corners, (-1, 2))\n",
    "sorted_corners = []\n",
    "for y in range(board_size[1]):\n",
    "    row = sorted(corners[y * board_size[0]:(y + 1) * board_size[0]], key=lambda x: x[0])\n",
    "    sorted_corners.extend(row)\n",
    "\n",
    "img_sorted_corners = image.copy()\n",
    "for corner in sorted_corners:\n",
    "    cv2.circle(img_sorted_corners, tuple(int(i) for i in corner), 3, (255, 0, 0), -1)\n",
    "cv2.imshow('Sorted Corners', img_sorted_corners)\n",
    "cv2.waitKey(0)\n",
    "cv2.destroyAllWindows()"
   ]
  },
  {
   "cell_type": "code",
   "execution_count": 88,
   "metadata": {},
   "outputs": [
    {
     "data": {
      "text/plain": [
       "True"
      ]
     },
     "execution_count": 88,
     "metadata": {},
     "output_type": "execute_result"
    }
   ],
   "source": [
    "image = cv2.imread(image_path)\n",
    "gray = cv2.cvtColor(image, cv2.COLOR_BGR2GRAY)  \n",
    "\n",
    "cv2.imshow('Edges', gray)\n",
    "cv2.waitKey(0)\n",
    "cv2.destroyAllWindows() #close the image window\n",
    "\n",
    "flags = cv2.CALIB_CB_NORMALIZE_IMAGE + cv2.CALIB_CB_ACCURACY\n",
    "\n",
    "\n",
    "# Find the chess board corners\n",
    "ret, cornerSB = cv2.findChessboardCornersSB(gray, (7,7), flags )\n",
    "ret"
   ]
  },
  {
   "cell_type": "code",
   "execution_count": 89,
   "metadata": {},
   "outputs": [
    {
     "data": {
      "text/plain": [
       "array([[[286.49313, 235.52312]],\n",
       "\n",
       "       [[321.538  , 235.52977]],\n",
       "\n",
       "       [[356.51627, 235.5247 ]],\n",
       "\n",
       "       [[391.517  , 235.51256]],\n",
       "\n",
       "       [[425.57138, 235.53926]],\n",
       "\n",
       "       [[460.49118, 235.5175 ]],\n",
       "\n",
       "       [[495.5726 , 235.53235]],\n",
       "\n",
       "       [[286.50363, 270.51025]],\n",
       "\n",
       "       [[321.52133, 270.49503]],\n",
       "\n",
       "       [[356.51038, 270.50082]],\n",
       "\n",
       "       [[391.54373, 270.51154]],\n",
       "\n",
       "       [[425.54706, 270.50406]],\n",
       "\n",
       "       [[460.51398, 270.50922]],\n",
       "\n",
       "       [[495.5614 , 270.50095]],\n",
       "\n",
       "       [[286.50748, 305.5328 ]],\n",
       "\n",
       "       [[321.51736, 305.53204]],\n",
       "\n",
       "       [[356.50177, 305.52942]],\n",
       "\n",
       "       [[391.534  , 305.53738]],\n",
       "\n",
       "       [[425.56177, 305.53162]],\n",
       "\n",
       "       [[460.50827, 305.5347 ]],\n",
       "\n",
       "       [[495.5695 , 305.54614]],\n",
       "\n",
       "       [[286.49384, 340.5114 ]],\n",
       "\n",
       "       [[321.53046, 340.5167 ]],\n",
       "\n",
       "       [[356.5005 , 340.52075]],\n",
       "\n",
       "       [[391.53677, 340.5182 ]],\n",
       "\n",
       "       [[425.56726, 340.50354]],\n",
       "\n",
       "       [[460.5044 , 340.51917]],\n",
       "\n",
       "       [[495.56146, 340.51227]],\n",
       "\n",
       "       [[286.49017, 374.52045]],\n",
       "\n",
       "       [[321.51004, 374.51602]],\n",
       "\n",
       "       [[356.51123, 374.50803]],\n",
       "\n",
       "       [[391.52695, 374.52316]],\n",
       "\n",
       "       [[425.58218, 374.52365]],\n",
       "\n",
       "       [[460.5273 , 374.52588]],\n",
       "\n",
       "       [[495.57306, 374.53137]],\n",
       "\n",
       "       [[286.49503, 409.52234]],\n",
       "\n",
       "       [[321.53906, 409.51834]],\n",
       "\n",
       "       [[356.4972 , 409.5282 ]],\n",
       "\n",
       "       [[391.54086, 409.53342]],\n",
       "\n",
       "       [[425.5752 , 409.5161 ]],\n",
       "\n",
       "       [[460.51907, 409.52832]],\n",
       "\n",
       "       [[495.59277, 409.54092]],\n",
       "\n",
       "       [[286.4796 , 444.52597]],\n",
       "\n",
       "       [[321.52222, 444.52856]],\n",
       "\n",
       "       [[356.49304, 444.5325 ]],\n",
       "\n",
       "       [[391.53278, 444.52377]],\n",
       "\n",
       "       [[425.58447, 444.5157 ]],\n",
       "\n",
       "       [[460.5095 , 444.53207]],\n",
       "\n",
       "       [[495.56445, 444.5352 ]]], dtype=float32)"
      ]
     },
     "execution_count": 89,
     "metadata": {},
     "output_type": "execute_result"
    }
   ],
   "source": [
    "cornerSB"
   ]
  },
  {
   "cell_type": "code",
   "execution_count": 103,
   "metadata": {},
   "outputs": [],
   "source": [
    "flags = cv2.CALIB_CB_ADAPTIVE_THRESH + cv2.CALIB_CB_NORMALIZE_IMAGE \t\n",
    "\n",
    "ret, cornerN_noflag = cv2.findChessboardCorners(gray, (7,7), None)\n",
    "ret, cornerN_flag = cv2.findChessboardCorners(gray, (7,7), flags)\n",
    "\n",
    "# termination criteria\n",
    "criteria = (cv2.TERM_CRITERIA_EPS + cv2.TERM_CRITERIA_MAX_ITER, 30, 0.001)\n",
    "\n",
    "if ret:\n",
    "    cornerN_noflag = cv2.cornerSubPix(gray,cornerN_noflag, (11,11), (-1,-1), criteria)\n",
    "    cornerN_flag = cv2.cornerSubPix(gray,cornerN_flag, (11,11), (-1,-1), criteria)"
   ]
  },
  {
   "cell_type": "markdown",
   "metadata": {},
   "source": [
    "---"
   ]
  },
  {
   "cell_type": "code",
   "execution_count": 12,
   "metadata": {},
   "outputs": [
    {
     "name": "stdout",
     "output_type": "stream",
     "text": [
      "[[-623.53829072    0.          360.            0.        ]\n",
      " [   0.         -623.53829072  360.            0.        ]\n",
      " [   0.            0.            1.            0.        ]]\n"
     ]
    }
   ],
   "source": [
    "# Dados do Coppelia\n",
    "# Declare intrinsic parameters\n",
    "fov_degrees = 60.0\n",
    "resolution = (720,720)\n",
    "\n",
    "# Generate intrinsic parameters matrix\n",
    "intrinsic_matrix = build_intrinsic_matrix(fov_degrees, resolution) \n",
    "print(intrinsic_matrix)"
   ]
  },
  {
   "cell_type": "code",
   "execution_count": 45,
   "metadata": {},
   "outputs": [],
   "source": [
    "import time\n",
    "\n",
    "images_points = []\n",
    "world_points = []\n",
    "\n",
    "def sum_coord(A, B):\n",
    "    for coord in range(len(A)):\n",
    "        B[coord] += A[coord]\n",
    "        \n",
    "    return B \n",
    "\n",
    "patternSize = (7,7)\n",
    "\n",
    "# Start simulation in CoppeliaSim\n",
    "sim.startSimulation()\n",
    "\n",
    "# Number of calibration images\n",
    "number_of_images = 1\n",
    "\n",
    "# See the Vision sensor image\n",
    "time.sleep(0.75)\n",
    "\n",
    "for i in range(number_of_images):\n",
    "    \n",
    "    p=sim.getObjectPosition(cubo,-1)\n",
    "\n",
    "    ds = randt(0.2)\n",
    "    coord = sum_coord(p, ds).tolist()\n",
    "    coord = [coord[0][0], coord[1][0], coord[2][0]]\n",
    "    \n",
    "    sim.setObjectPosition(cubo,-1, coord)\n",
    "    \n",
    "    extrinsic_matrix = build_extrinsic_matrix(vision_sensor_handle, chessboard_handle)\n",
    "    \n",
    "    projection_matrix = build_projection_matrix(intrinsic_matrix, extrinsic_matrix)\n",
    "\n",
    "    board_points = construct3DPoints(patternSize = (7,7), squareSize = 0.1)\n",
    "\n",
    "    world_points.append(board_points)\n",
    "    \n",
    "    points_to_project = to_homo(board_points.T) \n",
    "\n",
    "    projected_points = perspective_projection(points_to_project, projection_matrix)\n",
    "    projected_points = projected_points.T\n",
    "\n",
    "    images_points.append(projected_points)\n",
    "    \n",
    "    img, resX, resY = sim.getVisionSensorCharImage(vision_sensor_handle)\n",
    "    img = np.frombuffer(img, dtype=np.uint8).reshape(resY, resX, 3)\n",
    "    img = cv2.flip(cv2.cvtColor(img, cv2.COLOR_BGR2RGB), 0)\n",
    "    cv2.imwrite('image1.jpg', img)\n",
    "    time.sleep(0.75)\n",
    "\n",
    "sim.stopSimulation()\n",
    "\n",
    "corrected_image_points_vector = []\n",
    "corrected_world_points_vector = []\n",
    "for image in images_points:\n",
    "    image = image.astype(np.float32)\n",
    "    corrected_image_points_vector.append(image.reshape(49,1,2))\n",
    "\n",
    "for world in world_points:\n",
    "    world = world.astype(np.float32)\n",
    "    corrected_world_points_vector.append(world.reshape(49,1,3))"
   ]
  },
  {
   "cell_type": "code",
   "execution_count": 46,
   "metadata": {},
   "outputs": [
    {
     "data": {
      "text/html": [
       "        <script type=\"text/javascript\">\n",
       "        window.PlotlyConfig = {MathJaxConfig: 'local'};\n",
       "        if (window.MathJax && window.MathJax.Hub && window.MathJax.Hub.Config) {window.MathJax.Hub.Config({SVG: {font: \"STIX-Web\"}});}\n",
       "        if (typeof require !== 'undefined') {\n",
       "        require.undef(\"plotly\");\n",
       "        requirejs.config({\n",
       "            paths: {\n",
       "                'plotly': ['https://cdn.plot.ly/plotly-2.32.0.min']\n",
       "            }\n",
       "        });\n",
       "        require(['plotly'], function(Plotly) {\n",
       "            window._Plotly = Plotly;\n",
       "        });\n",
       "        }\n",
       "        </script>\n",
       "        "
      ]
     },
     "metadata": {},
     "output_type": "display_data"
    },
    {
     "data": {
      "text/html": [
       "<div>                            <div id=\"e4eab06d-9b37-422b-b607-74419101684e\" class=\"plotly-graph-div\" style=\"height:700px; width:900px;\"></div>            <script type=\"text/javascript\">                require([\"plotly\"], function(Plotly) {                    window.PLOTLYENV=window.PLOTLYENV || {};                                    if (document.getElementById(\"e4eab06d-9b37-422b-b607-74419101684e\")) {                    Plotly.newPlot(                        \"e4eab06d-9b37-422b-b607-74419101684e\",                        [{\"legendgroup\":\"Points\",\"legendgrouptitle\":{\"text\":\"Points\"},\"marker\":{\"color\":\"black\",\"opacity\":0.8,\"size\":5},\"mode\":\"markers\",\"name\":\"Image Point\",\"showlegend\":true,\"x\":[287.1338752838985,321.94908689263684,356.76429794880033,391.57951104632417,426.39471840340275,461.20992520790656,496.0251418355763,287.1463307714626,321.95559118628614,356.76485104872376,391.5741129522672,426.3833691164411,461.19262472822913,496.0018901615983,287.15878200155703,321.96209325667184,356.7654039595894,391.5687167033585,426.3720237088332,461.1753301621109,495.9786464353855,287.1712289772916,321.96859310541777,356.7659566815355,391.5633222982503,426.3606821777456,461.1580415052325,495.9554106511328,287.1836716980657,321.97509073221045,356.76650921453523,391.55792973720276,426.3493445237254,461.1407587584282,495.93218280996115,287.196110167914,321.9815861391566,356.7670615587679,391.5525390184676,426.33801074309645,461.1234819160941,495.9089629043391,287.2085443927195,321.9880793293285,356.76761371449464,391.54715013949493,426.32668083049805,461.1062109700584,495.8857509232839],\"y\":[236.06834718039514,236.0683481487149,236.06834911703473,236.06835008535455,236.06835105367426,236.0683520219939,236.06835299031383,270.8986285664564,270.898629258251,270.89862995004546,270.89863064184,270.8986313336344,270.8986320254288,270.89863271722345,305.7170044479249,305.7170048633831,305.71700527884127,305.7170056942995,305.71700610975756,305.7170065252157,305.71700694067397,340.52348352081486,340.5234836601255,340.5234837994362,340.52348393874684,340.5234840780575,340.52348421736815,340.5234843566788,375.31806410560404,375.31806396895587,375.31806383230776,375.3180636956596,375.3180635590115,375.3180634223633,375.31806328571514,410.1007574845812,410.10075707216276,410.1007566597444,410.10075624732593,410.1007558349076,410.10075542248927,410.10075501007077,444.8715801091564,444.871579421156,444.8715787331556,444.8715780451552,444.87157735715493,444.8715766691547,444.8715759811542],\"type\":\"scatter\"}],                        {\"height\":700,\"title\":{\"text\":\"Camera Image\"},\"width\":900,\"template\":{\"data\":{\"histogram2dcontour\":[{\"type\":\"histogram2dcontour\",\"colorbar\":{\"outlinewidth\":0,\"ticks\":\"\"},\"colorscale\":[[0.0,\"#0d0887\"],[0.1111111111111111,\"#46039f\"],[0.2222222222222222,\"#7201a8\"],[0.3333333333333333,\"#9c179e\"],[0.4444444444444444,\"#bd3786\"],[0.5555555555555556,\"#d8576b\"],[0.6666666666666666,\"#ed7953\"],[0.7777777777777778,\"#fb9f3a\"],[0.8888888888888888,\"#fdca26\"],[1.0,\"#f0f921\"]]}],\"choropleth\":[{\"type\":\"choropleth\",\"colorbar\":{\"outlinewidth\":0,\"ticks\":\"\"}}],\"histogram2d\":[{\"type\":\"histogram2d\",\"colorbar\":{\"outlinewidth\":0,\"ticks\":\"\"},\"colorscale\":[[0.0,\"#0d0887\"],[0.1111111111111111,\"#46039f\"],[0.2222222222222222,\"#7201a8\"],[0.3333333333333333,\"#9c179e\"],[0.4444444444444444,\"#bd3786\"],[0.5555555555555556,\"#d8576b\"],[0.6666666666666666,\"#ed7953\"],[0.7777777777777778,\"#fb9f3a\"],[0.8888888888888888,\"#fdca26\"],[1.0,\"#f0f921\"]]}],\"heatmap\":[{\"type\":\"heatmap\",\"colorbar\":{\"outlinewidth\":0,\"ticks\":\"\"},\"colorscale\":[[0.0,\"#0d0887\"],[0.1111111111111111,\"#46039f\"],[0.2222222222222222,\"#7201a8\"],[0.3333333333333333,\"#9c179e\"],[0.4444444444444444,\"#bd3786\"],[0.5555555555555556,\"#d8576b\"],[0.6666666666666666,\"#ed7953\"],[0.7777777777777778,\"#fb9f3a\"],[0.8888888888888888,\"#fdca26\"],[1.0,\"#f0f921\"]]}],\"heatmapgl\":[{\"type\":\"heatmapgl\",\"colorbar\":{\"outlinewidth\":0,\"ticks\":\"\"},\"colorscale\":[[0.0,\"#0d0887\"],[0.1111111111111111,\"#46039f\"],[0.2222222222222222,\"#7201a8\"],[0.3333333333333333,\"#9c179e\"],[0.4444444444444444,\"#bd3786\"],[0.5555555555555556,\"#d8576b\"],[0.6666666666666666,\"#ed7953\"],[0.7777777777777778,\"#fb9f3a\"],[0.8888888888888888,\"#fdca26\"],[1.0,\"#f0f921\"]]}],\"contourcarpet\":[{\"type\":\"contourcarpet\",\"colorbar\":{\"outlinewidth\":0,\"ticks\":\"\"}}],\"contour\":[{\"type\":\"contour\",\"colorbar\":{\"outlinewidth\":0,\"ticks\":\"\"},\"colorscale\":[[0.0,\"#0d0887\"],[0.1111111111111111,\"#46039f\"],[0.2222222222222222,\"#7201a8\"],[0.3333333333333333,\"#9c179e\"],[0.4444444444444444,\"#bd3786\"],[0.5555555555555556,\"#d8576b\"],[0.6666666666666666,\"#ed7953\"],[0.7777777777777778,\"#fb9f3a\"],[0.8888888888888888,\"#fdca26\"],[1.0,\"#f0f921\"]]}],\"surface\":[{\"type\":\"surface\",\"colorbar\":{\"outlinewidth\":0,\"ticks\":\"\"},\"colorscale\":[[0.0,\"#0d0887\"],[0.1111111111111111,\"#46039f\"],[0.2222222222222222,\"#7201a8\"],[0.3333333333333333,\"#9c179e\"],[0.4444444444444444,\"#bd3786\"],[0.5555555555555556,\"#d8576b\"],[0.6666666666666666,\"#ed7953\"],[0.7777777777777778,\"#fb9f3a\"],[0.8888888888888888,\"#fdca26\"],[1.0,\"#f0f921\"]]}],\"mesh3d\":[{\"type\":\"mesh3d\",\"colorbar\":{\"outlinewidth\":0,\"ticks\":\"\"}}],\"scatter\":[{\"fillpattern\":{\"fillmode\":\"overlay\",\"size\":10,\"solidity\":0.2},\"type\":\"scatter\"}],\"parcoords\":[{\"type\":\"parcoords\",\"line\":{\"colorbar\":{\"outlinewidth\":0,\"ticks\":\"\"}}}],\"scatterpolargl\":[{\"type\":\"scatterpolargl\",\"marker\":{\"colorbar\":{\"outlinewidth\":0,\"ticks\":\"\"}}}],\"bar\":[{\"error_x\":{\"color\":\"#2a3f5f\"},\"error_y\":{\"color\":\"#2a3f5f\"},\"marker\":{\"line\":{\"color\":\"#E5ECF6\",\"width\":0.5},\"pattern\":{\"fillmode\":\"overlay\",\"size\":10,\"solidity\":0.2}},\"type\":\"bar\"}],\"scattergeo\":[{\"type\":\"scattergeo\",\"marker\":{\"colorbar\":{\"outlinewidth\":0,\"ticks\":\"\"}}}],\"scatterpolar\":[{\"type\":\"scatterpolar\",\"marker\":{\"colorbar\":{\"outlinewidth\":0,\"ticks\":\"\"}}}],\"histogram\":[{\"marker\":{\"pattern\":{\"fillmode\":\"overlay\",\"size\":10,\"solidity\":0.2}},\"type\":\"histogram\"}],\"scattergl\":[{\"type\":\"scattergl\",\"marker\":{\"colorbar\":{\"outlinewidth\":0,\"ticks\":\"\"}}}],\"scatter3d\":[{\"type\":\"scatter3d\",\"line\":{\"colorbar\":{\"outlinewidth\":0,\"ticks\":\"\"}},\"marker\":{\"colorbar\":{\"outlinewidth\":0,\"ticks\":\"\"}}}],\"scattermapbox\":[{\"type\":\"scattermapbox\",\"marker\":{\"colorbar\":{\"outlinewidth\":0,\"ticks\":\"\"}}}],\"scatterternary\":[{\"type\":\"scatterternary\",\"marker\":{\"colorbar\":{\"outlinewidth\":0,\"ticks\":\"\"}}}],\"scattercarpet\":[{\"type\":\"scattercarpet\",\"marker\":{\"colorbar\":{\"outlinewidth\":0,\"ticks\":\"\"}}}],\"carpet\":[{\"aaxis\":{\"endlinecolor\":\"#2a3f5f\",\"gridcolor\":\"white\",\"linecolor\":\"white\",\"minorgridcolor\":\"white\",\"startlinecolor\":\"#2a3f5f\"},\"baxis\":{\"endlinecolor\":\"#2a3f5f\",\"gridcolor\":\"white\",\"linecolor\":\"white\",\"minorgridcolor\":\"white\",\"startlinecolor\":\"#2a3f5f\"},\"type\":\"carpet\"}],\"table\":[{\"cells\":{\"fill\":{\"color\":\"#EBF0F8\"},\"line\":{\"color\":\"white\"}},\"header\":{\"fill\":{\"color\":\"#C8D4E3\"},\"line\":{\"color\":\"white\"}},\"type\":\"table\"}],\"barpolar\":[{\"marker\":{\"line\":{\"color\":\"#E5ECF6\",\"width\":0.5},\"pattern\":{\"fillmode\":\"overlay\",\"size\":10,\"solidity\":0.2}},\"type\":\"barpolar\"}],\"pie\":[{\"automargin\":true,\"type\":\"pie\"}]},\"layout\":{\"autotypenumbers\":\"strict\",\"colorway\":[\"#636efa\",\"#EF553B\",\"#00cc96\",\"#ab63fa\",\"#FFA15A\",\"#19d3f3\",\"#FF6692\",\"#B6E880\",\"#FF97FF\",\"#FECB52\"],\"font\":{\"color\":\"#2a3f5f\"},\"hovermode\":\"closest\",\"hoverlabel\":{\"align\":\"left\"},\"paper_bgcolor\":\"white\",\"plot_bgcolor\":\"#E5ECF6\",\"polar\":{\"bgcolor\":\"#E5ECF6\",\"angularaxis\":{\"gridcolor\":\"white\",\"linecolor\":\"white\",\"ticks\":\"\"},\"radialaxis\":{\"gridcolor\":\"white\",\"linecolor\":\"white\",\"ticks\":\"\"}},\"ternary\":{\"bgcolor\":\"#E5ECF6\",\"aaxis\":{\"gridcolor\":\"white\",\"linecolor\":\"white\",\"ticks\":\"\"},\"baxis\":{\"gridcolor\":\"white\",\"linecolor\":\"white\",\"ticks\":\"\"},\"caxis\":{\"gridcolor\":\"white\",\"linecolor\":\"white\",\"ticks\":\"\"}},\"coloraxis\":{\"colorbar\":{\"outlinewidth\":0,\"ticks\":\"\"}},\"colorscale\":{\"sequential\":[[0.0,\"#0d0887\"],[0.1111111111111111,\"#46039f\"],[0.2222222222222222,\"#7201a8\"],[0.3333333333333333,\"#9c179e\"],[0.4444444444444444,\"#bd3786\"],[0.5555555555555556,\"#d8576b\"],[0.6666666666666666,\"#ed7953\"],[0.7777777777777778,\"#fb9f3a\"],[0.8888888888888888,\"#fdca26\"],[1.0,\"#f0f921\"]],\"sequentialminus\":[[0.0,\"#0d0887\"],[0.1111111111111111,\"#46039f\"],[0.2222222222222222,\"#7201a8\"],[0.3333333333333333,\"#9c179e\"],[0.4444444444444444,\"#bd3786\"],[0.5555555555555556,\"#d8576b\"],[0.6666666666666666,\"#ed7953\"],[0.7777777777777778,\"#fb9f3a\"],[0.8888888888888888,\"#fdca26\"],[1.0,\"#f0f921\"]],\"diverging\":[[0,\"#8e0152\"],[0.1,\"#c51b7d\"],[0.2,\"#de77ae\"],[0.3,\"#f1b6da\"],[0.4,\"#fde0ef\"],[0.5,\"#f7f7f7\"],[0.6,\"#e6f5d0\"],[0.7,\"#b8e186\"],[0.8,\"#7fbc41\"],[0.9,\"#4d9221\"],[1,\"#276419\"]]},\"xaxis\":{\"gridcolor\":\"white\",\"linecolor\":\"white\",\"ticks\":\"\",\"title\":{\"standoff\":15},\"zerolinecolor\":\"white\",\"automargin\":true,\"zerolinewidth\":2},\"yaxis\":{\"gridcolor\":\"white\",\"linecolor\":\"white\",\"ticks\":\"\",\"title\":{\"standoff\":15},\"zerolinecolor\":\"white\",\"automargin\":true,\"zerolinewidth\":2},\"scene\":{\"xaxis\":{\"backgroundcolor\":\"#E5ECF6\",\"gridcolor\":\"white\",\"linecolor\":\"white\",\"showbackground\":true,\"ticks\":\"\",\"zerolinecolor\":\"white\",\"gridwidth\":2},\"yaxis\":{\"backgroundcolor\":\"#E5ECF6\",\"gridcolor\":\"white\",\"linecolor\":\"white\",\"showbackground\":true,\"ticks\":\"\",\"zerolinecolor\":\"white\",\"gridwidth\":2},\"zaxis\":{\"backgroundcolor\":\"#E5ECF6\",\"gridcolor\":\"white\",\"linecolor\":\"white\",\"showbackground\":true,\"ticks\":\"\",\"zerolinecolor\":\"white\",\"gridwidth\":2}},\"shapedefaults\":{\"line\":{\"color\":\"#2a3f5f\"}},\"annotationdefaults\":{\"arrowcolor\":\"#2a3f5f\",\"arrowhead\":0,\"arrowwidth\":1},\"geo\":{\"bgcolor\":\"white\",\"landcolor\":\"#E5ECF6\",\"subunitcolor\":\"white\",\"showland\":true,\"showlakes\":true,\"lakecolor\":\"white\"},\"title\":{\"x\":0.05},\"mapbox\":{\"style\":\"light\"}}},\"yaxis\":{\"scaleanchor\":\"x\",\"scaleratio\":1,\"title\":{\"text\":\"y\"},\"gridcolor\":\"lightgray\",\"dtick\":72.0,\"range\":[720,0]},\"font\":{\"family\":\"Arial\",\"size\":15,\"color\":\"black\"},\"xaxis\":{\"title\":{\"text\":\"x\"},\"gridcolor\":\"lightgray\",\"dtick\":72.0,\"range\":[0,720]},\"plot_bgcolor\":\"white\",\"shapes\":[{\"line\":{\"color\":\"black\"},\"type\":\"rect\",\"x0\":0,\"x1\":720,\"y0\":0,\"y1\":720}]},                        {\"responsive\": true}                    ).then(function(){\n",
       "                            \n",
       "var gd = document.getElementById('e4eab06d-9b37-422b-b607-74419101684e');\n",
       "var x = new MutationObserver(function (mutations, observer) {{\n",
       "        var display = window.getComputedStyle(gd).display;\n",
       "        if (!display || display === 'none') {{\n",
       "            console.log([gd, 'removed!']);\n",
       "            Plotly.purge(gd);\n",
       "            observer.disconnect();\n",
       "        }}\n",
       "}});\n",
       "\n",
       "// Listen for the removal of the full notebook cells\n",
       "var notebookContainer = gd.closest('#notebook-container');\n",
       "if (notebookContainer) {{\n",
       "    x.observe(notebookContainer, {childList: true});\n",
       "}}\n",
       "\n",
       "// Listen for the clearing of the current output cell\n",
       "var outputEl = gd.closest('.output');\n",
       "if (outputEl) {{\n",
       "    x.observe(outputEl, {childList: true});\n",
       "}}\n",
       "\n",
       "                        })                };                });            </script>        </div>"
      ]
     },
     "metadata": {},
     "output_type": "display_data"
    }
   ],
   "source": [
    "# Create the image viewer\n",
    "image = Feed('Camera Image', resolution, graphical=True)\n",
    "\n",
    "# Adding the projected points to the scene\n",
    "image.add_points(projected_points.T, 'Image Point', 'black')\n",
    "\n",
    "# Plot image\n",
    "image.figure.show(renderer='notebook_connected')"
   ]
  },
  {
   "cell_type": "markdown",
   "metadata": {},
   "source": [
    "---"
   ]
  },
  {
   "cell_type": "code",
   "execution_count": 90,
   "metadata": {},
   "outputs": [
    {
     "data": {
      "text/html": [
       "        <script type=\"text/javascript\">\n",
       "        window.PlotlyConfig = {MathJaxConfig: 'local'};\n",
       "        if (window.MathJax && window.MathJax.Hub && window.MathJax.Hub.Config) {window.MathJax.Hub.Config({SVG: {font: \"STIX-Web\"}});}\n",
       "        if (typeof require !== 'undefined') {\n",
       "        require.undef(\"plotly\");\n",
       "        requirejs.config({\n",
       "            paths: {\n",
       "                'plotly': ['https://cdn.plot.ly/plotly-2.32.0.min']\n",
       "            }\n",
       "        });\n",
       "        require(['plotly'], function(Plotly) {\n",
       "            window._Plotly = Plotly;\n",
       "        });\n",
       "        }\n",
       "        </script>\n",
       "        "
      ]
     },
     "metadata": {},
     "output_type": "display_data"
    },
    {
     "data": {
      "text/html": [
       "<div>                            <div id=\"d4773a7b-40d1-4bb7-b339-2335dde4d14d\" class=\"plotly-graph-div\" style=\"height:700px; width:900px;\"></div>            <script type=\"text/javascript\">                require([\"plotly\"], function(Plotly) {                    window.PLOTLYENV=window.PLOTLYENV || {};                                    if (document.getElementById(\"d4773a7b-40d1-4bb7-b339-2335dde4d14d\")) {                    Plotly.newPlot(                        \"d4773a7b-40d1-4bb7-b339-2335dde4d14d\",                        [{\"legendgroup\":\"Points\",\"legendgrouptitle\":{\"text\":\"Points\"},\"marker\":{\"color\":\"black\",\"opacity\":0.8,\"size\":5},\"mode\":\"markers\",\"name\":\"Image Point\",\"showlegend\":true,\"x\":[286.4931335449219,321.5379943847656,356.5162658691406,391.5169982910156,425.5713806152344,460.4911804199219,495.5726013183594,286.5036315917969,321.5213317871094,356.5103759765625,391.5437316894531,425.54705810546875,460.51397705078125,495.5614013671875,286.5074768066406,321.5173645019531,356.50177001953125,391.53399658203125,425.561767578125,460.5082702636719,495.5694885253906,286.49383544921875,321.53045654296875,356.50048828125,391.5367736816406,425.5672607421875,460.50439453125,495.56146240234375,286.49017333984375,321.5100402832031,356.51123046875,391.5269470214844,425.5821838378906,460.5273132324219,495.57305908203125,286.4950256347656,321.5390625,356.4971923828125,391.5408630371094,425.5751953125,460.5190734863281,495.5927734375,286.4796142578125,321.522216796875,356.4930419921875,391.53277587890625,425.58447265625,460.5094909667969,495.564453125],\"y\":[235.5231170654297,235.52976989746094,235.5247039794922,235.51255798339844,235.5392608642578,235.5175018310547,235.5323486328125,270.51025390625,270.4950256347656,270.5008239746094,270.51153564453125,270.5040588378906,270.50921630859375,270.5009460449219,305.5328063964844,305.53204345703125,305.5294189453125,305.5373840332031,305.5316162109375,305.5346984863281,305.546142578125,340.51141357421875,340.5166931152344,340.520751953125,340.5181884765625,340.5035400390625,340.5191650390625,340.51226806640625,374.52044677734375,374.5160217285156,374.5080261230469,374.5231628417969,374.5236511230469,374.52587890625,374.5313720703125,409.5223388671875,409.5183410644531,409.5281982421875,409.5334167480469,409.51611328125,409.5283203125,409.5409240722656,444.5259704589844,444.528564453125,444.5325012207031,444.5237731933594,444.51568603515625,444.5320739746094,444.5351867675781],\"type\":\"scatter\"}],                        {\"height\":700,\"title\":{\"text\":\"Camera Image\"},\"width\":900,\"template\":{\"data\":{\"histogram2dcontour\":[{\"type\":\"histogram2dcontour\",\"colorbar\":{\"outlinewidth\":0,\"ticks\":\"\"},\"colorscale\":[[0.0,\"#0d0887\"],[0.1111111111111111,\"#46039f\"],[0.2222222222222222,\"#7201a8\"],[0.3333333333333333,\"#9c179e\"],[0.4444444444444444,\"#bd3786\"],[0.5555555555555556,\"#d8576b\"],[0.6666666666666666,\"#ed7953\"],[0.7777777777777778,\"#fb9f3a\"],[0.8888888888888888,\"#fdca26\"],[1.0,\"#f0f921\"]]}],\"choropleth\":[{\"type\":\"choropleth\",\"colorbar\":{\"outlinewidth\":0,\"ticks\":\"\"}}],\"histogram2d\":[{\"type\":\"histogram2d\",\"colorbar\":{\"outlinewidth\":0,\"ticks\":\"\"},\"colorscale\":[[0.0,\"#0d0887\"],[0.1111111111111111,\"#46039f\"],[0.2222222222222222,\"#7201a8\"],[0.3333333333333333,\"#9c179e\"],[0.4444444444444444,\"#bd3786\"],[0.5555555555555556,\"#d8576b\"],[0.6666666666666666,\"#ed7953\"],[0.7777777777777778,\"#fb9f3a\"],[0.8888888888888888,\"#fdca26\"],[1.0,\"#f0f921\"]]}],\"heatmap\":[{\"type\":\"heatmap\",\"colorbar\":{\"outlinewidth\":0,\"ticks\":\"\"},\"colorscale\":[[0.0,\"#0d0887\"],[0.1111111111111111,\"#46039f\"],[0.2222222222222222,\"#7201a8\"],[0.3333333333333333,\"#9c179e\"],[0.4444444444444444,\"#bd3786\"],[0.5555555555555556,\"#d8576b\"],[0.6666666666666666,\"#ed7953\"],[0.7777777777777778,\"#fb9f3a\"],[0.8888888888888888,\"#fdca26\"],[1.0,\"#f0f921\"]]}],\"heatmapgl\":[{\"type\":\"heatmapgl\",\"colorbar\":{\"outlinewidth\":0,\"ticks\":\"\"},\"colorscale\":[[0.0,\"#0d0887\"],[0.1111111111111111,\"#46039f\"],[0.2222222222222222,\"#7201a8\"],[0.3333333333333333,\"#9c179e\"],[0.4444444444444444,\"#bd3786\"],[0.5555555555555556,\"#d8576b\"],[0.6666666666666666,\"#ed7953\"],[0.7777777777777778,\"#fb9f3a\"],[0.8888888888888888,\"#fdca26\"],[1.0,\"#f0f921\"]]}],\"contourcarpet\":[{\"type\":\"contourcarpet\",\"colorbar\":{\"outlinewidth\":0,\"ticks\":\"\"}}],\"contour\":[{\"type\":\"contour\",\"colorbar\":{\"outlinewidth\":0,\"ticks\":\"\"},\"colorscale\":[[0.0,\"#0d0887\"],[0.1111111111111111,\"#46039f\"],[0.2222222222222222,\"#7201a8\"],[0.3333333333333333,\"#9c179e\"],[0.4444444444444444,\"#bd3786\"],[0.5555555555555556,\"#d8576b\"],[0.6666666666666666,\"#ed7953\"],[0.7777777777777778,\"#fb9f3a\"],[0.8888888888888888,\"#fdca26\"],[1.0,\"#f0f921\"]]}],\"surface\":[{\"type\":\"surface\",\"colorbar\":{\"outlinewidth\":0,\"ticks\":\"\"},\"colorscale\":[[0.0,\"#0d0887\"],[0.1111111111111111,\"#46039f\"],[0.2222222222222222,\"#7201a8\"],[0.3333333333333333,\"#9c179e\"],[0.4444444444444444,\"#bd3786\"],[0.5555555555555556,\"#d8576b\"],[0.6666666666666666,\"#ed7953\"],[0.7777777777777778,\"#fb9f3a\"],[0.8888888888888888,\"#fdca26\"],[1.0,\"#f0f921\"]]}],\"mesh3d\":[{\"type\":\"mesh3d\",\"colorbar\":{\"outlinewidth\":0,\"ticks\":\"\"}}],\"scatter\":[{\"fillpattern\":{\"fillmode\":\"overlay\",\"size\":10,\"solidity\":0.2},\"type\":\"scatter\"}],\"parcoords\":[{\"type\":\"parcoords\",\"line\":{\"colorbar\":{\"outlinewidth\":0,\"ticks\":\"\"}}}],\"scatterpolargl\":[{\"type\":\"scatterpolargl\",\"marker\":{\"colorbar\":{\"outlinewidth\":0,\"ticks\":\"\"}}}],\"bar\":[{\"error_x\":{\"color\":\"#2a3f5f\"},\"error_y\":{\"color\":\"#2a3f5f\"},\"marker\":{\"line\":{\"color\":\"#E5ECF6\",\"width\":0.5},\"pattern\":{\"fillmode\":\"overlay\",\"size\":10,\"solidity\":0.2}},\"type\":\"bar\"}],\"scattergeo\":[{\"type\":\"scattergeo\",\"marker\":{\"colorbar\":{\"outlinewidth\":0,\"ticks\":\"\"}}}],\"scatterpolar\":[{\"type\":\"scatterpolar\",\"marker\":{\"colorbar\":{\"outlinewidth\":0,\"ticks\":\"\"}}}],\"histogram\":[{\"marker\":{\"pattern\":{\"fillmode\":\"overlay\",\"size\":10,\"solidity\":0.2}},\"type\":\"histogram\"}],\"scattergl\":[{\"type\":\"scattergl\",\"marker\":{\"colorbar\":{\"outlinewidth\":0,\"ticks\":\"\"}}}],\"scatter3d\":[{\"type\":\"scatter3d\",\"line\":{\"colorbar\":{\"outlinewidth\":0,\"ticks\":\"\"}},\"marker\":{\"colorbar\":{\"outlinewidth\":0,\"ticks\":\"\"}}}],\"scattermapbox\":[{\"type\":\"scattermapbox\",\"marker\":{\"colorbar\":{\"outlinewidth\":0,\"ticks\":\"\"}}}],\"scatterternary\":[{\"type\":\"scatterternary\",\"marker\":{\"colorbar\":{\"outlinewidth\":0,\"ticks\":\"\"}}}],\"scattercarpet\":[{\"type\":\"scattercarpet\",\"marker\":{\"colorbar\":{\"outlinewidth\":0,\"ticks\":\"\"}}}],\"carpet\":[{\"aaxis\":{\"endlinecolor\":\"#2a3f5f\",\"gridcolor\":\"white\",\"linecolor\":\"white\",\"minorgridcolor\":\"white\",\"startlinecolor\":\"#2a3f5f\"},\"baxis\":{\"endlinecolor\":\"#2a3f5f\",\"gridcolor\":\"white\",\"linecolor\":\"white\",\"minorgridcolor\":\"white\",\"startlinecolor\":\"#2a3f5f\"},\"type\":\"carpet\"}],\"table\":[{\"cells\":{\"fill\":{\"color\":\"#EBF0F8\"},\"line\":{\"color\":\"white\"}},\"header\":{\"fill\":{\"color\":\"#C8D4E3\"},\"line\":{\"color\":\"white\"}},\"type\":\"table\"}],\"barpolar\":[{\"marker\":{\"line\":{\"color\":\"#E5ECF6\",\"width\":0.5},\"pattern\":{\"fillmode\":\"overlay\",\"size\":10,\"solidity\":0.2}},\"type\":\"barpolar\"}],\"pie\":[{\"automargin\":true,\"type\":\"pie\"}]},\"layout\":{\"autotypenumbers\":\"strict\",\"colorway\":[\"#636efa\",\"#EF553B\",\"#00cc96\",\"#ab63fa\",\"#FFA15A\",\"#19d3f3\",\"#FF6692\",\"#B6E880\",\"#FF97FF\",\"#FECB52\"],\"font\":{\"color\":\"#2a3f5f\"},\"hovermode\":\"closest\",\"hoverlabel\":{\"align\":\"left\"},\"paper_bgcolor\":\"white\",\"plot_bgcolor\":\"#E5ECF6\",\"polar\":{\"bgcolor\":\"#E5ECF6\",\"angularaxis\":{\"gridcolor\":\"white\",\"linecolor\":\"white\",\"ticks\":\"\"},\"radialaxis\":{\"gridcolor\":\"white\",\"linecolor\":\"white\",\"ticks\":\"\"}},\"ternary\":{\"bgcolor\":\"#E5ECF6\",\"aaxis\":{\"gridcolor\":\"white\",\"linecolor\":\"white\",\"ticks\":\"\"},\"baxis\":{\"gridcolor\":\"white\",\"linecolor\":\"white\",\"ticks\":\"\"},\"caxis\":{\"gridcolor\":\"white\",\"linecolor\":\"white\",\"ticks\":\"\"}},\"coloraxis\":{\"colorbar\":{\"outlinewidth\":0,\"ticks\":\"\"}},\"colorscale\":{\"sequential\":[[0.0,\"#0d0887\"],[0.1111111111111111,\"#46039f\"],[0.2222222222222222,\"#7201a8\"],[0.3333333333333333,\"#9c179e\"],[0.4444444444444444,\"#bd3786\"],[0.5555555555555556,\"#d8576b\"],[0.6666666666666666,\"#ed7953\"],[0.7777777777777778,\"#fb9f3a\"],[0.8888888888888888,\"#fdca26\"],[1.0,\"#f0f921\"]],\"sequentialminus\":[[0.0,\"#0d0887\"],[0.1111111111111111,\"#46039f\"],[0.2222222222222222,\"#7201a8\"],[0.3333333333333333,\"#9c179e\"],[0.4444444444444444,\"#bd3786\"],[0.5555555555555556,\"#d8576b\"],[0.6666666666666666,\"#ed7953\"],[0.7777777777777778,\"#fb9f3a\"],[0.8888888888888888,\"#fdca26\"],[1.0,\"#f0f921\"]],\"diverging\":[[0,\"#8e0152\"],[0.1,\"#c51b7d\"],[0.2,\"#de77ae\"],[0.3,\"#f1b6da\"],[0.4,\"#fde0ef\"],[0.5,\"#f7f7f7\"],[0.6,\"#e6f5d0\"],[0.7,\"#b8e186\"],[0.8,\"#7fbc41\"],[0.9,\"#4d9221\"],[1,\"#276419\"]]},\"xaxis\":{\"gridcolor\":\"white\",\"linecolor\":\"white\",\"ticks\":\"\",\"title\":{\"standoff\":15},\"zerolinecolor\":\"white\",\"automargin\":true,\"zerolinewidth\":2},\"yaxis\":{\"gridcolor\":\"white\",\"linecolor\":\"white\",\"ticks\":\"\",\"title\":{\"standoff\":15},\"zerolinecolor\":\"white\",\"automargin\":true,\"zerolinewidth\":2},\"scene\":{\"xaxis\":{\"backgroundcolor\":\"#E5ECF6\",\"gridcolor\":\"white\",\"linecolor\":\"white\",\"showbackground\":true,\"ticks\":\"\",\"zerolinecolor\":\"white\",\"gridwidth\":2},\"yaxis\":{\"backgroundcolor\":\"#E5ECF6\",\"gridcolor\":\"white\",\"linecolor\":\"white\",\"showbackground\":true,\"ticks\":\"\",\"zerolinecolor\":\"white\",\"gridwidth\":2},\"zaxis\":{\"backgroundcolor\":\"#E5ECF6\",\"gridcolor\":\"white\",\"linecolor\":\"white\",\"showbackground\":true,\"ticks\":\"\",\"zerolinecolor\":\"white\",\"gridwidth\":2}},\"shapedefaults\":{\"line\":{\"color\":\"#2a3f5f\"}},\"annotationdefaults\":{\"arrowcolor\":\"#2a3f5f\",\"arrowhead\":0,\"arrowwidth\":1},\"geo\":{\"bgcolor\":\"white\",\"landcolor\":\"#E5ECF6\",\"subunitcolor\":\"white\",\"showland\":true,\"showlakes\":true,\"lakecolor\":\"white\"},\"title\":{\"x\":0.05},\"mapbox\":{\"style\":\"light\"}}},\"yaxis\":{\"scaleanchor\":\"x\",\"scaleratio\":1,\"title\":{\"text\":\"y\"},\"gridcolor\":\"lightgray\",\"dtick\":72.0,\"range\":[720,0]},\"font\":{\"family\":\"Arial\",\"size\":15,\"color\":\"black\"},\"xaxis\":{\"title\":{\"text\":\"x\"},\"gridcolor\":\"lightgray\",\"dtick\":72.0,\"range\":[0,720]},\"plot_bgcolor\":\"white\",\"shapes\":[{\"line\":{\"color\":\"black\"},\"type\":\"rect\",\"x0\":0,\"x1\":720,\"y0\":0,\"y1\":720}]},                        {\"responsive\": true}                    ).then(function(){\n",
       "                            \n",
       "var gd = document.getElementById('d4773a7b-40d1-4bb7-b339-2335dde4d14d');\n",
       "var x = new MutationObserver(function (mutations, observer) {{\n",
       "        var display = window.getComputedStyle(gd).display;\n",
       "        if (!display || display === 'none') {{\n",
       "            console.log([gd, 'removed!']);\n",
       "            Plotly.purge(gd);\n",
       "            observer.disconnect();\n",
       "        }}\n",
       "}});\n",
       "\n",
       "// Listen for the removal of the full notebook cells\n",
       "var notebookContainer = gd.closest('#notebook-container');\n",
       "if (notebookContainer) {{\n",
       "    x.observe(notebookContainer, {childList: true});\n",
       "}}\n",
       "\n",
       "// Listen for the clearing of the current output cell\n",
       "var outputEl = gd.closest('.output');\n",
       "if (outputEl) {{\n",
       "    x.observe(outputEl, {childList: true});\n",
       "}}\n",
       "\n",
       "                        })                };                });            </script>        </div>"
      ]
     },
     "metadata": {},
     "output_type": "display_data"
    }
   ],
   "source": [
    "# Create the image viewer\n",
    "image = Feed('Camera Image', resolution, graphical=True)\n",
    "\n",
    "# Adding the projected points to the scene\n",
    "image.add_points(cornerSB.reshape(49,2).T, 'Image Point', 'black')\n",
    "\n",
    "# Plot image\n",
    "image.figure.show(renderer='notebook_connected')"
   ]
  },
  {
   "cell_type": "code",
   "execution_count": 50,
   "metadata": {},
   "outputs": [
    {
     "data": {
      "text/plain": [
       "<matplotlib.image.AxesImage at 0x16fc092d250>"
      ]
     },
     "execution_count": 50,
     "metadata": {},
     "output_type": "execute_result"
    },
    {
     "data": {
      "image/png": "[encoded data removed]",
      "text/plain": [
       "<Figure size 640x480 with 1 Axes>"
      ]
     },
     "metadata": {},
     "output_type": "display_data"
    }
   ],
   "source": [
    "%matplotlib inline\n",
    "\n",
    "import matplotlib.image as mpimg\n",
    "\n",
    "# Carregar a imagem\n",
    "img = mpimg.imread('image1.jpg')\n",
    "\n",
    "# Plotar a imagem\n",
    "plt.imshow(img)\n"
   ]
  },
  {
   "cell_type": "code",
   "execution_count": 99,
   "metadata": {},
   "outputs": [],
   "source": [
    "projected_points = projected_points.astype(np.float32)"
   ]
  },
  {
   "cell_type": "code",
   "execution_count": 102,
   "metadata": {},
   "outputs": [
    {
     "data": {
      "text/plain": [
       "0.7398521167893536"
      ]
     },
     "execution_count": 102,
     "metadata": {},
     "output_type": "execute_result"
    }
   ],
   "source": [
    "from math import sqrt\n",
    "# Find the Euclidean Distance between projected and detected image points \n",
    "errorSB = cv2.norm(projected_points, cornerSB.reshape(49,2), normType= cv2.NORM_L2) / sqrt(len(projected_points))\n",
    "errorN = cv2.norm(projected_points, cornerN.reshape(49,2), normType= cv2.NORM_L2) / sqrt(len(projected_points))"
   ]
  }
 ],
 "metadata": {
  "kernelspec": {
   "display_name": "Python 3",
   "language": "python",
   "name": "python3"
  },
  "language_info": {
   "codemirror_mode": {
    "name": "ipython",
    "version": 3
   },
   "file_extension": ".py",
   "mimetype": "text/x-python",
   "name": "python",
   "nbconvert_exporter": "python",
   "pygments_lexer": "ipython3",
   "version": "3.11.9"
  }
 },
 "nbformat": 4,
 "nbformat_minor": 2
}
